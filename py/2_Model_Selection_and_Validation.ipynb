{
 "cells": [
  {
   "cell_type": "code",
   "execution_count": 1,
   "metadata": {},
   "outputs": [],
   "source": [
    "%load_ext lab_black"
   ]
  },
  {
   "cell_type": "markdown",
   "metadata": {},
   "source": [
    "# Introduction\n",
    "\n",
    "In the previous chapter, we have met performance measures like the RMSE or the deviance to measure how good our models are. Unfortunately, we cannot fully rely on these values due to overfitting: The more our models overfit, the less we can trust in their \"insample\" performance, i.e., the performance on the data used to calculate the models. Selecting models based on their insample performance is equally bad. Overfitting should not be rewarded!\n",
    "\n",
    "In this chapter, we will meet ways to estimate the performance of a model in a fair way and use it to select the best model among alternatives. They are all based on data splitting techniques, where the models are evaluated on fresh data not used for model calculation. A fantastic reference for this chapter is [1]. Before introducing these techniques, we will meet a competitor of the linear model.\n",
    "\n",
    "Remark on performance measures: While loss functions are used by the algorithm to *fit* the model, a performance measure or an *evaluation metric* is a function used to monitor performance and to select models. Ideally, it is consistent with the loss function of the specific algorithm (for instance RMSE as metric and squared error as loss), but sometimes one makes an exception.\n",
    "For classification, besides monitoring average (multi-)log loss, e.g., one sometimes considers the *confusion matrix* and its derived measures like accuracy, precision, recall, F1-score etc. [Wikipedia](https://en.wikipedia.org/wiki/Confusion_matrix) summarizes these concepts. The confusion matrix tabulates the combinations of actual classes and predicted classes. Note that measures derived from the confusion matrix do not enjoy good statistical properties and focussing on them might lead to suboptimal models. They should thus not be used for making decisions but rather as additional, easy to understand information.\n",
    "\n",
    "# Nearest-Neighbour\n",
    "\n",
    "A very simple and intuitive alternative to the linear model is the k-nearest-neighbour approach, originally introduced by Evelyn Fix and J. L. Hodges in an unpublished technical report in 1951. It can be applied for both regression and classification and works without fitting anything. The prediction for an observation is obtained by \n",
    "\n",
    "1. searching the closest k neighbours in the data set and then \n",
    "2. combining their responses. \n",
    "\n",
    "By \"nearest\" we usually mean Euclidean distance in the covariate space. If covariates are not on the same scale, it makes sense to *standardize* them first by subtracting the mean and dividing by the standard deviation. Otherwise, distances would be dominated by the covariate on the largest scale. Categorical features need to be one-hot- or integer-encoded first. Note that one-hot-encoded covariates may or may not be standardized.\n",
    "\n",
    "For regression tasks, the responses of the k nearest neighbours are often combined by computing their arithmetic mean. For classification tasks, they are condensed by their most frequent value or to class probabilities.\n",
    "\n",
    "## Example: nearest-neighbour\n",
    "\n",
    "What prediction would we get with 5-nearest-neighbour regression for the 10'000th row of the diamonds data set?"
   ]
  },
  {
   "cell_type": "code",
   "execution_count": 2,
   "metadata": {},
   "outputs": [
    {
     "data": {
      "text/plain": [
       "array([[-1.19816781, -0.93716275,  0.98147332, -1.24521508],\n",
       "       [-1.24036129, -0.93716275,  0.08588908, -0.63809506],\n",
       "       [-1.19816781, -0.93716275, -1.70527938,  0.57614496],\n",
       "       [-1.07158736,  1.41427211,  0.08588908, -0.03097505],\n",
       "       [-1.02939387,  2.00213083, -1.70527938, -1.24521508]])"
      ]
     },
     "execution_count": 2,
     "metadata": {},
     "output_type": "execute_result"
    }
   ],
   "source": [
    "from plotnine.data import diamonds\n",
    "from sklearn.neighbors import KNeighborsRegressor, NearestNeighbors\n",
    "from sklearn.preprocessing import OrdinalEncoder, StandardScaler\n",
    "from sklearn.compose import ColumnTransformer\n",
    "from sklearn.pipeline import make_pipeline\n",
    "\n",
    "ord_vars = [\"color\", \"cut\", \"clarity\"]\n",
    "ord_levels = [diamonds[x].cat.categories.to_list() for x in ord_vars]\n",
    "\n",
    "# Prepare scaled feature matrix X\n",
    "preprocessor = make_pipeline(\n",
    "    ColumnTransformer(\n",
    "        transformers=[\n",
    "            (\"linear\", \"passthrough\", [\"carat\"]),\n",
    "            (\"ordered\", OrdinalEncoder(categories=ord_levels), ord_vars),\n",
    "        ],\n",
    "    ),\n",
    "    StandardScaler(),\n",
    ")\n",
    "X = preprocessor.fit_transform(diamonds)\n",
    "X[0:5]"
   ]
  },
  {
   "cell_type": "code",
   "execution_count": 3,
   "metadata": {},
   "outputs": [
    {
     "name": "stdout",
     "output_type": "stream",
     "text": [
      "Prediction of 10'000th obs: [4907.8]\n",
      "The observation:\n"
     ]
    },
    {
     "data": {
      "text/html": [
       "<div>\n",
       "<style scoped>\n",
       "    .dataframe tbody tr th:only-of-type {\n",
       "        vertical-align: middle;\n",
       "    }\n",
       "\n",
       "    .dataframe tbody tr th {\n",
       "        vertical-align: top;\n",
       "    }\n",
       "\n",
       "    .dataframe thead th {\n",
       "        text-align: right;\n",
       "    }\n",
       "</style>\n",
       "<table border=\"1\" class=\"dataframe\">\n",
       "  <thead>\n",
       "    <tr style=\"text-align: right;\">\n",
       "      <th></th>\n",
       "      <th>carat</th>\n",
       "      <th>cut</th>\n",
       "      <th>color</th>\n",
       "      <th>clarity</th>\n",
       "      <th>depth</th>\n",
       "      <th>table</th>\n",
       "      <th>price</th>\n",
       "      <th>x</th>\n",
       "      <th>y</th>\n",
       "      <th>z</th>\n",
       "    </tr>\n",
       "  </thead>\n",
       "  <tbody>\n",
       "    <tr>\n",
       "      <th>9999</th>\n",
       "      <td>1.0</td>\n",
       "      <td>Fair</td>\n",
       "      <td>D</td>\n",
       "      <td>SI1</td>\n",
       "      <td>64.9</td>\n",
       "      <td>59.0</td>\n",
       "      <td>4704</td>\n",
       "      <td>6.2</td>\n",
       "      <td>6.13</td>\n",
       "      <td>4.0</td>\n",
       "    </tr>\n",
       "  </tbody>\n",
       "</table>\n",
       "</div>"
      ],
      "text/plain": [
       "      carat   cut color clarity  depth  table  price    x     y    z\n",
       "9999    1.0  Fair     D     SI1   64.9   59.0   4704  6.2  6.13  4.0"
      ]
     },
     "execution_count": 3,
     "metadata": {},
     "output_type": "execute_result"
    }
   ],
   "source": [
    "# Fit 5-NN model\n",
    "model = KNeighborsRegressor(5).fit(X, diamonds[\"price\"])\n",
    "\n",
    "# Apply it to the 10'000th observation\n",
    "ix = 9999\n",
    "print(f\"Prediction of 10'000th obs: {model.predict(X[[ix]])}\")\n",
    "print(\"The observation:\")\n",
    "diamonds.iloc[[ix]]"
   ]
  },
  {
   "cell_type": "code",
   "execution_count": 4,
   "metadata": {},
   "outputs": [
    {
     "data": {
      "text/html": [
       "<div>\n",
       "<style scoped>\n",
       "    .dataframe tbody tr th:only-of-type {\n",
       "        vertical-align: middle;\n",
       "    }\n",
       "\n",
       "    .dataframe tbody tr th {\n",
       "        vertical-align: top;\n",
       "    }\n",
       "\n",
       "    .dataframe thead th {\n",
       "        text-align: right;\n",
       "    }\n",
       "</style>\n",
       "<table border=\"1\" class=\"dataframe\">\n",
       "  <thead>\n",
       "    <tr style=\"text-align: right;\">\n",
       "      <th></th>\n",
       "      <th>carat</th>\n",
       "      <th>cut</th>\n",
       "      <th>color</th>\n",
       "      <th>clarity</th>\n",
       "      <th>depth</th>\n",
       "      <th>table</th>\n",
       "      <th>price</th>\n",
       "      <th>x</th>\n",
       "      <th>y</th>\n",
       "      <th>z</th>\n",
       "    </tr>\n",
       "  </thead>\n",
       "  <tbody>\n",
       "    <tr>\n",
       "      <th>10000</th>\n",
       "      <td>1.0</td>\n",
       "      <td>Fair</td>\n",
       "      <td>D</td>\n",
       "      <td>SI1</td>\n",
       "      <td>65.9</td>\n",
       "      <td>54.0</td>\n",
       "      <td>4704</td>\n",
       "      <td>6.24</td>\n",
       "      <td>6.20</td>\n",
       "      <td>4.10</td>\n",
       "    </tr>\n",
       "    <tr>\n",
       "      <th>12786</th>\n",
       "      <td>1.0</td>\n",
       "      <td>Fair</td>\n",
       "      <td>D</td>\n",
       "      <td>SI1</td>\n",
       "      <td>65.5</td>\n",
       "      <td>60.0</td>\n",
       "      <td>5331</td>\n",
       "      <td>6.18</td>\n",
       "      <td>6.12</td>\n",
       "      <td>4.03</td>\n",
       "    </tr>\n",
       "    <tr>\n",
       "      <th>11827</th>\n",
       "      <td>1.0</td>\n",
       "      <td>Fair</td>\n",
       "      <td>D</td>\n",
       "      <td>SI1</td>\n",
       "      <td>67.3</td>\n",
       "      <td>57.0</td>\n",
       "      <td>5096</td>\n",
       "      <td>6.15</td>\n",
       "      <td>6.04</td>\n",
       "      <td>4.10</td>\n",
       "    </tr>\n",
       "    <tr>\n",
       "      <th>9980</th>\n",
       "      <td>1.0</td>\n",
       "      <td>Fair</td>\n",
       "      <td>D</td>\n",
       "      <td>SI1</td>\n",
       "      <td>66.3</td>\n",
       "      <td>58.0</td>\n",
       "      <td>4704</td>\n",
       "      <td>6.15</td>\n",
       "      <td>6.04</td>\n",
       "      <td>4.04</td>\n",
       "    </tr>\n",
       "    <tr>\n",
       "      <th>9999</th>\n",
       "      <td>1.0</td>\n",
       "      <td>Fair</td>\n",
       "      <td>D</td>\n",
       "      <td>SI1</td>\n",
       "      <td>64.9</td>\n",
       "      <td>59.0</td>\n",
       "      <td>4704</td>\n",
       "      <td>6.20</td>\n",
       "      <td>6.13</td>\n",
       "      <td>4.00</td>\n",
       "    </tr>\n",
       "  </tbody>\n",
       "</table>\n",
       "</div>"
      ],
      "text/plain": [
       "       carat   cut color clarity  depth  table  price     x     y     z\n",
       "10000    1.0  Fair     D     SI1   65.9   54.0   4704  6.24  6.20  4.10\n",
       "12786    1.0  Fair     D     SI1   65.5   60.0   5331  6.18  6.12  4.03\n",
       "11827    1.0  Fair     D     SI1   67.3   57.0   5096  6.15  6.04  4.10\n",
       "9980     1.0  Fair     D     SI1   66.3   58.0   4704  6.15  6.04  4.04\n",
       "9999     1.0  Fair     D     SI1   64.9   59.0   4704  6.20  6.13  4.00"
      ]
     },
     "execution_count": 4,
     "metadata": {},
     "output_type": "execute_result"
    }
   ],
   "source": [
    "# Its five nearest neighbours\n",
    "nearest_5_finder = NearestNeighbors(n_neighbors=5).fit(X)\n",
    "dist, nearest_5 = nearest_5_finder.kneighbors(X[[ix]])\n",
    "diamonds.iloc[nearest_5.flatten()]"
   ]
  },
  {
   "cell_type": "markdown",
   "metadata": {},
   "source": [
    "**Comments** \n",
    "\n",
    "- The five nearest diamonds are extremely similar. One of them is the observation of interest itself, introducing a relevant amount of overfitting.\n",
    "- The average price of these five observations gives us the nearest-neighbour prediction for the 10'000th diamond.\n",
    "- Would we get better results for a different choice of the number of neighbours k?\n",
    "- Three lines are identical up to the perspective variables (`depth`, `table`, `x`, `y`, `z`). These rows most certainly represent the same diamond, introducing additional overfit. We need to keep this problematic aspect of the diamonds data in mind.\n",
    "\n",
    "**Motivation for this chapter:** Insample, a 1-nearest-neighbour regression predicts without error, a consequence of massive overfitting. This hypothetical example indicates that insample performance is often not worth a penny. Models need to be evaluated on fresh, independent data not used for model calculation. This leads us to *simple validation*.\n",
    "\n",
    "# Simple Validation\n",
    "\n",
    "With simple validation, the original data set is partitioned into *training* data used to calculate the models and a separate *validation* data set used to evaluate model performance and/or to select models. Typically, 10%-30% of rows are used for validation.\n",
    "\n",
    "We can use the validation performance to compare *algorithms* (regression versus k-nearest-neighbour etc.) and also to choose their *hyperparameters* like the \"k\" of k-nearest-neighbour.\n",
    "\n",
    "Furthermore, the performance difference between training and validation data gives an impression of the amount of overfitting (or rather of the *optimism*).\n",
    "\n",
    "## Example: simple validation\n",
    "\n",
    "We now use a 80%/20% split on the diamonds data to calculate RMSE of 5-nearest-neighbour on both training and validation data. What k provides the best validation RMSE?"
   ]
  },
  {
   "cell_type": "code",
   "execution_count": 5,
   "metadata": {},
   "outputs": [
    {
     "name": "stdout",
     "output_type": "stream",
     "text": [
      "Training data size: (43152, 10)\n",
      "Validation data size: (10788, 10)\n"
     ]
    }
   ],
   "source": [
    "import pandas as pd\n",
    "from plotnine.data import diamonds\n",
    "from sklearn.neighbors import KNeighborsRegressor\n",
    "from sklearn.preprocessing import OrdinalEncoder, StandardScaler\n",
    "from sklearn.compose import ColumnTransformer\n",
    "from sklearn.pipeline import make_pipeline\n",
    "from sklearn.model_selection import train_test_split\n",
    "from sklearn.metrics import mean_squared_error as mse\n",
    "\n",
    "# Split data into train and valid\n",
    "df_train, df_valid, y_train, y_valid = train_test_split(\n",
    "    diamonds, diamonds[\"price\"], test_size=0.2, random_state=49\n",
    ")\n",
    "print(\"Training data size:\", df_train.shape)\n",
    "print(\"Validation data size:\", df_valid.shape)"
   ]
  },
  {
   "cell_type": "code",
   "execution_count": 6,
   "metadata": {},
   "outputs": [
    {
     "data": {
      "text/plain": [
       "array([[-0.18579638, -0.3537962 , -0.81057684,  1.78590102],\n",
       "       [ 1.48042665,  0.82162926, -1.70662183, -0.64005046],\n",
       "       [-0.01706494,  1.40934199, -0.81057684, -0.64005046],\n",
       "       [ 0.86877516, -0.3537962 , -0.81057684,  1.17941315],\n",
       "       [ 1.56479237,  1.99705472, -0.81057684, -0.64005046]])"
      ]
     },
     "execution_count": 6,
     "metadata": {},
     "output_type": "execute_result"
    }
   ],
   "source": [
    "# Define preprocessing pipeline\n",
    "ord_vars = [\"color\", \"cut\", \"clarity\"]\n",
    "ord_levels = [diamonds[x].cat.categories.to_list() for x in ord_vars]\n",
    "\n",
    "preprocessor = make_pipeline(\n",
    "    ColumnTransformer(\n",
    "        transformers=[\n",
    "            (\"linear\", \"passthrough\", [\"carat\"]),\n",
    "            (\"ordered\", OrdinalEncoder(categories=ord_levels), ord_vars),\n",
    "        ],\n",
    "    ),\n",
    "    StandardScaler(),\n",
    ")\n",
    "\n",
    "# Fit preprocessor on df_train and apply it to df_valid\n",
    "X_train = preprocessor.fit_transform(df_train)\n",
    "X_valid = preprocessor.transform(df_valid)\n",
    "X_valid[0:5]"
   ]
  },
  {
   "cell_type": "code",
   "execution_count": 7,
   "metadata": {},
   "outputs": [
    {
     "name": "stdout",
     "output_type": "stream",
     "text": [
      "Training RMSE:  514.7\n",
      "Validation RMSE:  612.4\n"
     ]
    }
   ],
   "source": [
    "# Performance of 5-nearest-neighbour regression\n",
    "mod = KNeighborsRegressor(5).fit(X_train, y_train)\n",
    "rmse_train = mse(y_train, mod.predict(X_train), squared=False)\n",
    "rmse_valid = mse(y_valid, mod.predict(X_valid), squared=False)\n",
    "print(f\"Training RMSE: {rmse_train: .1f}\")\n",
    "print(f\"Validation RMSE: {rmse_valid: .1f}\")"
   ]
  },
  {
   "cell_type": "markdown",
   "metadata": {},
   "source": [
    "**Comment:** Validation RMSE is substantially worse than training RMSE, a clear sign of overfitting. However, it is still much better than the (full-sample) performance of linear regression (see Exercise 1, Chapter 1).\n",
    "\n",
    "Can we find a k with better validation RMSE?"
   ]
  },
  {
   "cell_type": "code",
   "execution_count": 8,
   "metadata": {},
   "outputs": [
    {
     "name": "stdout",
     "output_type": "stream",
     "text": [
      "1 : [517.4695404529873, 746.3375194857978]\n",
      "2 : [471.11902126881745, 643.207662481919]\n",
      "3 : [482.2736853087685, 623.6324306602825]\n",
      "4 : [496.6449599826686, 612.5977201460005]\n",
      "5 : [514.6888705506161, 612.3874182853175]\n",
      "6 : [526.7089256701005, 617.9574765985672]\n",
      "7 : [539.1882807888525, 625.306023340122]\n",
      "8 : [549.834650977257, 628.6275439083505]\n",
      "9 : [555.7360033410931, 633.6258325111555]\n",
      "10 : [564.380364900913, 643.5003214620236]\n",
      "11 : [571.9069855279979, 643.2959011148638]\n",
      "12 : [577.4660373506704, 645.6363154342883]\n",
      "13 : [584.4450218836126, 649.0590360230304]\n",
      "14 : [591.0082274814716, 650.0499144802976]\n",
      "15 : [595.7818713464565, 652.5879098525286]\n",
      "16 : [601.1084751906751, 654.3453567623119]\n",
      "17 : [606.6123817248093, 657.5229805450292]\n",
      "18 : [611.4334274943302, 661.4355349179331]\n",
      "19 : [616.7807609546247, 662.7973339248962]\n",
      "20 : [620.9544730263045, 665.0574777370142]\n"
     ]
    }
   ],
   "source": [
    "# Loop over k and store train and valid rmse\n",
    "data_pairs = ((y_train, X_train), (y_valid, X_valid))\n",
    "search = {}\n",
    "for k in range(1, 21):\n",
    "    mod = KNeighborsRegressor(k).fit(X_train, y_train)\n",
    "    search[k] = [mse(y, mod.predict(X), squared=False) for y, X in data_pairs]\n",
    "    print(k, \":\", search[k])"
   ]
  },
  {
   "cell_type": "code",
   "execution_count": 9,
   "metadata": {},
   "outputs": [
    {
     "data": {
      "text/html": [
       "<div>\n",
       "<style scoped>\n",
       "    .dataframe tbody tr th:only-of-type {\n",
       "        vertical-align: middle;\n",
       "    }\n",
       "\n",
       "    .dataframe tbody tr th {\n",
       "        vertical-align: top;\n",
       "    }\n",
       "\n",
       "    .dataframe thead th {\n",
       "        text-align: right;\n",
       "    }\n",
       "</style>\n",
       "<table border=\"1\" class=\"dataframe\">\n",
       "  <thead>\n",
       "    <tr style=\"text-align: right;\">\n",
       "      <th></th>\n",
       "      <th>Train</th>\n",
       "      <th>Valid</th>\n",
       "    </tr>\n",
       "  </thead>\n",
       "  <tbody>\n",
       "    <tr>\n",
       "      <th>1</th>\n",
       "      <td>517.469540</td>\n",
       "      <td>746.337519</td>\n",
       "    </tr>\n",
       "    <tr>\n",
       "      <th>2</th>\n",
       "      <td>471.119021</td>\n",
       "      <td>643.207662</td>\n",
       "    </tr>\n",
       "    <tr>\n",
       "      <th>3</th>\n",
       "      <td>482.273685</td>\n",
       "      <td>623.632431</td>\n",
       "    </tr>\n",
       "    <tr>\n",
       "      <th>4</th>\n",
       "      <td>496.644960</td>\n",
       "      <td>612.597720</td>\n",
       "    </tr>\n",
       "    <tr>\n",
       "      <th>5</th>\n",
       "      <td>514.688871</td>\n",
       "      <td>612.387418</td>\n",
       "    </tr>\n",
       "    <tr>\n",
       "      <th>6</th>\n",
       "      <td>526.708926</td>\n",
       "      <td>617.957477</td>\n",
       "    </tr>\n",
       "    <tr>\n",
       "      <th>7</th>\n",
       "      <td>539.188281</td>\n",
       "      <td>625.306023</td>\n",
       "    </tr>\n",
       "  </tbody>\n",
       "</table>\n",
       "</div>"
      ],
      "text/plain": [
       "        Train       Valid\n",
       "1  517.469540  746.337519\n",
       "2  471.119021  643.207662\n",
       "3  482.273685  623.632431\n",
       "4  496.644960  612.597720\n",
       "5  514.688871  612.387418\n",
       "6  526.708926  617.957477\n",
       "7  539.188281  625.306023"
      ]
     },
     "execution_count": 9,
     "metadata": {},
     "output_type": "execute_result"
    },
    {
     "data": {
      "image/png": "[encoded data removed]",
      "text/plain": [
       "<Figure size 720x432 with 1 Axes>"
      ]
     },
     "metadata": {
      "needs_background": "light"
     },
     "output_type": "display_data"
    }
   ],
   "source": [
    "# Organize and plot results\n",
    "results = pd.DataFrame.from_dict(search, orient=\"index\", columns=[\"Train\", \"Valid\"])\n",
    "results.plot(\n",
    "    figsize=(10, 6),\n",
    "    grid=True,\n",
    "    xticks=results.index,\n",
    "    xlabel=\"k\",\n",
    "    ylabel=\"Root-mean-square error\",\n",
    "    title=\"Train and validation performance of different k-NN models\",\n",
    ")\n",
    "results.head(7)"
   ]
  },
  {
   "cell_type": "markdown",
   "metadata": {},
   "source": [
    "**Comments**\n",
    "\n",
    "- The amount of overfitting decreases for growing k, which makes sense.\n",
    "- Selecting k based on the training data would lead to a suboptimal model.\n",
    "- Based on the validation data, we would choose $k=5$. It has a minimal RMSE of 612 USD.\n",
    "- Why is the RMSE on the training data not 0 for 1-nearest-neighbour?\n",
    "- Why is it problematic that some diamonds appear multiple times in the dataset?\n",
    "\n",
    "# Cross-Validation (CV)\n",
    "\n",
    "If our data set is large and training takes long, then the simple validation strategy introduced above is usually good enough. For smaller data or if training is fast, there is a better alternative that uses the data in a more economic way and takes more robust decisions. It is called **k-fold cross-validation** and works as follows:\n",
    "\n",
    "1. Split the data into k pieces $D = \\{D_1, \\dots, D_k\\}$ called \"folds\". Typical values for k are five or ten.\n",
    "2. Set aside one of the pieces ($D_j$) for validation.\n",
    "3. Fit the model on all other pieces, i.e., on $D \\setminus D_j$.\n",
    "4. Calculate the model performance on the validation data $D_j$.\n",
    "5. Repeat Steps 2-4 until each piece was used for validation once.\n",
    "6. The average of the k model performances yields the *CV performance* of the model.\n",
    "\n",
    "The CV performance is a good basis to choose the best and final model among alternatives. The final model is retrained on all folds.\n",
    "\n",
    "**Notes**\n",
    "- The \"best\" model is typically the one with best CV performance. Depending on the situation, it could also be a model with \"good CV performance and not too heavy overfit compared to insample performance\" or some other reasonable criterion.\n",
    "- If cross-validation is fast, you can repeat the process for additional data splits. Such *repeated* cross-validation leads to even more robust results.\n",
    "\n",
    "\n",
    "## Example: cross-validation\n",
    "\n",
    "We now use five-fold CV on the diamonds data to find the optimal k, i.e., to *tune* our nearest-neighbour approach."
   ]
  },
  {
   "cell_type": "code",
   "execution_count": 10,
   "metadata": {},
   "outputs": [],
   "source": [
    "# First part\n",
    "import pandas as pd\n",
    "from plotnine.data import diamonds\n",
    "from sklearn.neighbors import KNeighborsRegressor\n",
    "from sklearn.preprocessing import OrdinalEncoder, StandardScaler\n",
    "from sklearn.compose import ColumnTransformer\n",
    "from sklearn.pipeline import Pipeline\n",
    "from sklearn.model_selection import cross_val_score, KFold\n",
    "\n",
    "ord_vars = [\"color\", \"cut\", \"clarity\"]\n",
    "ord_levels = [diamonds[x].cat.categories.to_list() for x in ord_vars]\n",
    "\n",
    "# Define encoder\n",
    "encoder = ColumnTransformer(\n",
    "    transformers=[\n",
    "        (\"linear\", \"passthrough\", [\"carat\"]),\n",
    "        (\"ordered\", OrdinalEncoder(categories=ord_levels), ord_vars),\n",
    "    ],\n",
    ")\n",
    "\n",
    "# Full model pipeline (with arbitrary n_neighbors)\n",
    "knn_model = Pipeline(\n",
    "    steps=[\n",
    "        (\"encoder\", encoder),\n",
    "        (\"scaler\", StandardScaler()),\n",
    "        (\"knn\", KNeighborsRegressor(n_neighbors=5)),\n",
    "    ]\n",
    ")"
   ]
  },
  {
   "cell_type": "code",
   "execution_count": 11,
   "metadata": {},
   "outputs": [
    {
     "data": {
      "text/html": [
       "<div>\n",
       "<style scoped>\n",
       "    .dataframe tbody tr th:only-of-type {\n",
       "        vertical-align: middle;\n",
       "    }\n",
       "\n",
       "    .dataframe tbody tr th {\n",
       "        vertical-align: top;\n",
       "    }\n",
       "\n",
       "    .dataframe thead th {\n",
       "        text-align: right;\n",
       "    }\n",
       "</style>\n",
       "<table border=\"1\" class=\"dataframe\">\n",
       "  <thead>\n",
       "    <tr style=\"text-align: right;\">\n",
       "      <th></th>\n",
       "      <th>rmse</th>\n",
       "    </tr>\n",
       "  </thead>\n",
       "  <tbody>\n",
       "    <tr>\n",
       "      <th>1</th>\n",
       "      <td>840.923292</td>\n",
       "    </tr>\n",
       "    <tr>\n",
       "      <th>2</th>\n",
       "      <td>724.343695</td>\n",
       "    </tr>\n",
       "    <tr>\n",
       "      <th>3</th>\n",
       "      <td>676.485357</td>\n",
       "    </tr>\n",
       "    <tr>\n",
       "      <th>4</th>\n",
       "      <td>654.138927</td>\n",
       "    </tr>\n",
       "    <tr>\n",
       "      <th>5</th>\n",
       "      <td>643.752960</td>\n",
       "    </tr>\n",
       "    <tr>\n",
       "      <th>6</th>\n",
       "      <td>637.520350</td>\n",
       "    </tr>\n",
       "    <tr>\n",
       "      <th>7</th>\n",
       "      <td>634.841915</td>\n",
       "    </tr>\n",
       "    <tr>\n",
       "      <th>8</th>\n",
       "      <td>635.138787</td>\n",
       "    </tr>\n",
       "    <tr>\n",
       "      <th>9</th>\n",
       "      <td>636.395363</td>\n",
       "    </tr>\n",
       "    <tr>\n",
       "      <th>10</th>\n",
       "      <td>637.184963</td>\n",
       "    </tr>\n",
       "  </tbody>\n",
       "</table>\n",
       "</div>"
      ],
      "text/plain": [
       "          rmse\n",
       "1   840.923292\n",
       "2   724.343695\n",
       "3   676.485357\n",
       "4   654.138927\n",
       "5   643.752960\n",
       "6   637.520350\n",
       "7   634.841915\n",
       "8   635.138787\n",
       "9   636.395363\n",
       "10  637.184963"
      ]
     },
     "execution_count": 11,
     "metadata": {},
     "output_type": "execute_result"
    },
    {
     "data": {
      "image/png": "[encoded data removed]",
      "text/plain": [
       "<Figure size 720x432 with 1 Axes>"
      ]
     },
     "metadata": {
      "needs_background": "light"
     },
     "output_type": "display_data"
    }
   ],
   "source": [
    "# Second part (A): 5-fold cross-validation for different values of n_neighbors\n",
    "cv = KFold(n_splits=5, shuffle=True, random_state=4302)\n",
    "search = {}\n",
    "for k in range(1, 21):\n",
    "    knn_model.set_params(knn__n_neighbors=k)\n",
    "    search[k] = -cross_val_score(\n",
    "        knn_model,\n",
    "        X=diamonds,\n",
    "        y=diamonds[\"price\"],\n",
    "        scoring=\"neg_root_mean_squared_error\",\n",
    "        cv=cv,\n",
    "    ).mean()\n",
    "# Alternative to initializing KFold: shuffle(!) diamonds and then use cv=5.\n",
    "# Reason: diamonds are sorted by carat. Using fixed folds would be very bad.\n",
    "\n",
    "# Organize and plot results\n",
    "results = pd.DataFrame.from_dict(search, orient=\"index\", columns=[\"rmse\"])\n",
    "results.plot(\n",
    "    figsize=(10, 6),\n",
    "    grid=True,\n",
    "    xticks=results.index,\n",
    "    xlabel=\"k\",\n",
    "    ylabel=\"Root-mean-square error\",\n",
    "    title=\"CV performance of different k-NN models\",\n",
    ")\n",
    "results.head(10)"
   ]
  },
  {
   "cell_type": "markdown",
   "metadata": {},
   "source": [
    "**Comment:** Using 7 neighbours seems to be the best choice with a CV RMSE of 635 USD. Again, the fact that certain diamonds appear multiple times leaves a slightly bad feeling. Should we really trust these results?"
   ]
  },
  {
   "cell_type": "markdown",
   "metadata": {},
   "source": [
    "Scikit-learn offers such \"grid searches\" (see next paragraph below) out-of-the box. For above example, it would simplify the second part of the code:"
   ]
  },
  {
   "cell_type": "code",
   "execution_count": 12,
   "metadata": {},
   "outputs": [
    {
     "data": {
      "text/html": [
       "<div>\n",
       "<style scoped>\n",
       "    .dataframe tbody tr th:only-of-type {\n",
       "        vertical-align: middle;\n",
       "    }\n",
       "\n",
       "    .dataframe tbody tr th {\n",
       "        vertical-align: top;\n",
       "    }\n",
       "\n",
       "    .dataframe thead th {\n",
       "        text-align: right;\n",
       "    }\n",
       "</style>\n",
       "<table border=\"1\" class=\"dataframe\">\n",
       "  <thead>\n",
       "    <tr style=\"text-align: right;\">\n",
       "      <th></th>\n",
       "      <th>rmse</th>\n",
       "    </tr>\n",
       "  </thead>\n",
       "  <tbody>\n",
       "    <tr>\n",
       "      <th>1</th>\n",
       "      <td>840.923292</td>\n",
       "    </tr>\n",
       "    <tr>\n",
       "      <th>2</th>\n",
       "      <td>724.343695</td>\n",
       "    </tr>\n",
       "    <tr>\n",
       "      <th>3</th>\n",
       "      <td>676.485357</td>\n",
       "    </tr>\n",
       "    <tr>\n",
       "      <th>4</th>\n",
       "      <td>654.138927</td>\n",
       "    </tr>\n",
       "    <tr>\n",
       "      <th>5</th>\n",
       "      <td>643.752960</td>\n",
       "    </tr>\n",
       "    <tr>\n",
       "      <th>6</th>\n",
       "      <td>637.520350</td>\n",
       "    </tr>\n",
       "    <tr>\n",
       "      <th>7</th>\n",
       "      <td>634.841915</td>\n",
       "    </tr>\n",
       "    <tr>\n",
       "      <th>8</th>\n",
       "      <td>635.138787</td>\n",
       "    </tr>\n",
       "    <tr>\n",
       "      <th>9</th>\n",
       "      <td>636.395363</td>\n",
       "    </tr>\n",
       "    <tr>\n",
       "      <th>10</th>\n",
       "      <td>637.184963</td>\n",
       "    </tr>\n",
       "  </tbody>\n",
       "</table>\n",
       "</div>"
      ],
      "text/plain": [
       "          rmse\n",
       "1   840.923292\n",
       "2   724.343695\n",
       "3   676.485357\n",
       "4   654.138927\n",
       "5   643.752960\n",
       "6   637.520350\n",
       "7   634.841915\n",
       "8   635.138787\n",
       "9   636.395363\n",
       "10  637.184963"
      ]
     },
     "execution_count": 12,
     "metadata": {},
     "output_type": "execute_result"
    }
   ],
   "source": [
    "# Second part (B): 5-fold cross-validation for different values of n_neighbors\n",
    "from sklearn.model_selection import GridSearchCV\n",
    "\n",
    "# Define \"tuning grid\"\n",
    "param_grid = {\"knn__n_neighbors\": range(1, 21)}\n",
    "\n",
    "# Initialize and fit GridSearch to find best k with 5-fold cross-validation\n",
    "search = GridSearchCV(\n",
    "    knn_model,\n",
    "    param_grid=param_grid,\n",
    "    scoring=\"neg_root_mean_squared_error\",\n",
    "    cv=KFold(n_splits=5, shuffle=True, random_state=4302),\n",
    ")\n",
    "search.fit(X=diamonds, y=diamonds[\"price\"])\n",
    "# Note: the best model is being refitted on full training data -> convenient!\n",
    "\n",
    "# Organize results\n",
    "results = pd.DataFrame(\n",
    "    -search.cv_results_[\"mean_test_score\"],\n",
    "    index=param_grid[\"knn__n_neighbors\"],\n",
    "    columns=[\"rmse\"],\n",
    ")\n",
    "results.head(10)\n",
    "\n",
    "# Note: This combination of a pipeline and grid search would even allow to\n",
    "# tune parametrized steps in the preprocessing (not relevant in this example)."
   ]
  },
  {
   "cell_type": "markdown",
   "metadata": {},
   "source": [
    "# Grid Search\n",
    "\n",
    "In the above example, we have systematically compared the CV-performance of k-nearest-neighbour by iterating over a grid of possible values for k. Such strategy to *tune* models, i.e., to select hyperparameters of a model is called **grid search CV**. In the next chapter, we will meet situations where multiple parameters have to be optimized simultaneously. Then, the number of parameter combinations and the grid size explode. To save time, we could evaluate only a random subset of parameter combinations, an approach called **randomized search CV**."
   ]
  },
  {
   "cell_type": "markdown",
   "metadata": {},
   "source": [
    "# Test Data and Final Workflow\n",
    "\n",
    "Often, modeling involves many decisions. Even if guided by (cross-)validation, each decision tends to make the resulting final model look better than it is, an effect that can be called *overfitting on the validation data*. As a consequence, we often do not know how well the final model will perform in reality. As a solution, we can set aside a small *test* data set used to assess the performance of the *final* model. A size of 5%-20% is usually sufficient. \n",
    "It is important to look at the test data just once at the very end of the modeling process - after each decision has been made.\n",
    "\n",
    "Note: Such additional test data set is only necessary if one uses the validation data set to *make decisions*. If the validation data set is just used to assess the true performance of a model, then we do not need this extra data set. Then, we can use the terms \"validation data\" and \"test data\" interchangeably.\n",
    "\n",
    "Depending on whether one does simple validation or cross-validation, the typical workflow is as follows:\n",
    "\n",
    "**Workflow A**\n",
    "\n",
    "1. Split data into train/valid/test, e.g., by ratios 70%/20%/10%.\n",
    "2. Train different models on the training data and assess their performance on the validation data. Choose the best model, retrain it on the combination of training and validation data and call it \"final model\".\n",
    "3. Assess the performance of the final model on the test data.\n",
    "\n",
    "**Workflow B**\n",
    "\n",
    "1. Split data into train/test, e.g., by ratios 90%/10%.\n",
    "2. Evaluate and tune different models by k-fold cross-validation on the training data. Choose the best model, retrain it on the full training data.\n",
    "3. Assess performance of the final model on the test data.\n",
    "\n",
    "The only difference across the two workflows is whether to use simple validation or cross-validation for making decisions.\n",
    "\n",
    "## Example: test data\n",
    "\n",
    "We will now go through Workflow B for our diamond price model. We will (1) tune the \"k\" of our nearest-neighbour regression and (2) compete with a linear regression."
   ]
  },
  {
   "cell_type": "code",
   "execution_count": 13,
   "metadata": {},
   "outputs": [
    {
     "name": "stdout",
     "output_type": "stream",
     "text": [
      "Linear regression CV RMSE: 1849.868\n"
     ]
    }
   ],
   "source": [
    "import numpy as np\n",
    "from plotnine.data import diamonds\n",
    "from sklearn.neighbors import KNeighborsRegressor\n",
    "from sklearn.linear_model import LinearRegression\n",
    "from sklearn.compose import ColumnTransformer\n",
    "from sklearn.pipeline import Pipeline, make_pipeline\n",
    "from sklearn.metrics import mean_squared_error as mse\n",
    "from sklearn.preprocessing import (\n",
    "    OneHotEncoder,\n",
    "    OrdinalEncoder,\n",
    "    StandardScaler,\n",
    "    FunctionTransformer,\n",
    ")\n",
    "from sklearn.model_selection import (\n",
    "    train_test_split,\n",
    "    cross_val_score,\n",
    "    KFold,\n",
    "    GridSearchCV,\n",
    ")\n",
    "\n",
    "ord_vars = [\"color\", \"cut\", \"clarity\"]\n",
    "lvl = [diamonds[x].cat.categories.to_list() for x in ord_vars]\n",
    "\n",
    "# Split data into train and test\n",
    "df_train, df_test, y_train, y_test = train_test_split(\n",
    "    diamonds, diamonds[\"price\"], test_size=0.1, random_state=49\n",
    ")\n",
    "\n",
    "# Define CV strategy\n",
    "cv = KFold(n_splits=5, shuffle=True, random_state=4432)\n",
    "\n",
    "# Cross-validation performance of linear regression\n",
    "linear_regression = make_pipeline(\n",
    "    ColumnTransformer(\n",
    "        transformers=[\n",
    "            (\"log\", FunctionTransformer(np.log), [\"carat\"]),\n",
    "            (\"dummies\", OneHotEncoder(categories=lvl, drop=\"first\"), ord_vars),\n",
    "        ]\n",
    "    ),\n",
    "    LinearRegression(),\n",
    ")\n",
    "\n",
    "results_linear = -cross_val_score(\n",
    "    linear_regression,\n",
    "    X=df_train,\n",
    "    y=y_train,\n",
    "    scoring=\"neg_root_mean_squared_error\",\n",
    "    cv=cv,\n",
    ")\n",
    "print(f\"Linear regression CV RMSE: {results_linear.mean():.3f}\")"
   ]
  },
  {
   "cell_type": "code",
   "execution_count": 14,
   "metadata": {},
   "outputs": [
    {
     "name": "stdout",
     "output_type": "stream",
     "text": [
      "Best k of k-NN: {'knn__n_neighbors': 4}\n",
      "Its CV-RMSE: 629.805\n",
      "Best model seems 4-NN!\n"
     ]
    }
   ],
   "source": [
    "# Cross-validation performance of k-nearest-neighbour for k = 1-20\n",
    "knn_encoder = ColumnTransformer(\n",
    "    transformers=[\n",
    "        (\"linear\", \"passthrough\", [\"carat\"]),\n",
    "        (\"ordered\", OrdinalEncoder(categories=lvl), ord_vars),\n",
    "    ],\n",
    ")\n",
    "knn_regression = Pipeline(\n",
    "    steps=[\n",
    "        (\"encoder\", knn_encoder),\n",
    "        (\"scaler\", StandardScaler()),\n",
    "        (\"knn\", KNeighborsRegressor(n_neighbors=5)),\n",
    "    ]\n",
    ")\n",
    "\n",
    "search = GridSearchCV(\n",
    "    knn_regression,\n",
    "    param_grid={\"knn__n_neighbors\": range(1, 21)},\n",
    "    scoring=\"neg_root_mean_squared_error\",\n",
    "    cv=KFold(n_splits=5, shuffle=True, random_state=4302),\n",
    ")\n",
    "# Remember: the best model is refitted on training data\n",
    "search.fit(X=df_train, y=y_train)\n",
    "print(f\"Best k of k-NN: {search.best_params_}\")\n",
    "print(f\"Its CV-RMSE: {-search.best_score_:.3f}\")\n",
    "print(\"Best model seems 4-NN!\")"
   ]
  },
  {
   "cell_type": "code",
   "execution_count": 15,
   "metadata": {},
   "outputs": [
    {
     "name": "stdout",
     "output_type": "stream",
     "text": [
      "Test RMSE of final model: 576.327\n"
     ]
    }
   ],
   "source": [
    "# The overall best model is 4-nearest-neighbour\n",
    "final_rmse = mse(y_test, search.predict(df_test), squared=False)\n",
    "print(f\"Test RMSE of final model: {final_rmse:.3f}\")"
   ]
  },
  {
   "cell_type": "markdown",
   "metadata": {},
   "source": [
    "**Comments** \n",
    "\n",
    "- 4-nearest-neighbour regression performs much better than linear regression.\n",
    "- Its performance on the independent test data is even better than CV suggests. Could this be a consequence of the fact that certain diamonds appear multiple times in the data, introducing potential \"leakage\" from training to test data?\n",
    "\n",
    "# Random Splitting?\n",
    "\n",
    "The data is often *randomly split* into partitions or folds. As long as rows are *independent*, this leads to honest estimates of model performance as it ensures independent data partitions. \n",
    "\n",
    "When rows are not independent, e.g., with time series data or grouped data, such strategy is flawed and leads to too optimistic results. **This is one of the most frequent reasons to end up with a bad model. It is essential to avoid it.**\n",
    "\n",
    "## Time-series data\n",
    "\n",
    "When data represents a time series, splitting is best done in a way that does not destroy the temporal order. For simple validation, e.g., the first 80% of rows could be used for training and the remaining 20% for validation. \n",
    "\n",
    "## Grouped data\n",
    "\n",
    "Often, data is grouped or clustered by some (hopefully known) ID variable, e.g.,\n",
    "\n",
    "- multiple rows belong to the same patient/customer or\n",
    "- duplicated rows (accidental or not). \n",
    "\n",
    "Then, instead of distributing *rows* into partitions, we should distribute *groups*/IDs in order to not destroy the data structure and to get honest performance estimates. We speak of *grouped splitting* and *group k-fold CV*. \n",
    "\n",
    "In our example with diamonds data, it would be useful to have a column with diamond \"id\" that could be used for grouped splitting. (How would you create a proxy for this?)\n",
    "\n",
    "## Stratification\n",
    "\n",
    "*If rows are independent*, there is a variant of random splitting that often provides better results and is therefore frequently used: *stratified splitting*. With stratified splitting or *stratified k-fold CV*, rows are split to ensure approximately equal distribution of a key variable (the response or deciding covariate) across partitions/folds.\n",
    "\n",
    "# Exercises\n",
    "\n",
    "1. Regarding the problem that some diamonds seem to appear multiple times in the data: As an alternative to *grouped* splitting, repeat the last example also on data deduplicated by `price` and all covariates. Do the results change? Which results do you trust more?\n",
    "2. Use cross-validation to select the best polynomial degree to represent `log(carat)` in the Gamma GLM with log-link (with additional covariates `color`, `cut`, and `clarity`). Evaluate the result on an independent test data.\n",
    "3. Optional: Compare the linear regression for `price` (using `log(carat)`, `color`, `cut`, and `clarity` as covariates) with a corresponding Gamma GLM with log-link by simple validation. Use once (R)MSE for comparison and once Gamma deviance. What do you observe?\n",
    "\n",
    "# Chapter Summary\n",
    "\n",
    "In this chapter, we have met strategies to estimate model performance in a fair way. These strategies are also used for model selection and tuning. They are an essential part of the full modeling process. ML models without appropriate validation strategy are not to be trusted. \n",
    "\n",
    "# Chapter References\n",
    "\n",
    "[1] T. Hastie, R., Tibshirani, and J. Friedman. The Elements of Statistical Learning: Data Mining, Inference, and Prediction. New York: Springer, 2001."
   ]
  },
  {
   "cell_type": "markdown",
   "metadata": {},
   "source": []
  }
 ],
 "metadata": {
  "interpreter": {
   "hash": "813f6c4cc22c03b594219174db46929469d46b04ef4db7b355912617e499b8c1"
  },
  "kernelspec": {
   "display_name": "Python 3.8.11 64-bit ('ml_lecture': conda)",
   "name": "python3"
  },
  "language_info": {
   "codemirror_mode": {
    "name": "ipython",
    "version": 3
   },
   "file_extension": ".py",
   "mimetype": "text/x-python",
   "name": "python",
   "nbconvert_exporter": "python",
   "pygments_lexer": "ipython3",
   "version": "3.8.11"
  },
  "orig_nbformat": 4
 },
 "nbformat": 4,
 "nbformat_minor": 2
}
