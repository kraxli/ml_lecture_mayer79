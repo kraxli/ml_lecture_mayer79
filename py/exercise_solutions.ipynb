{
 "cells": [
  {
   "cell_type": "code",
   "execution_count": 1,
   "metadata": {},
   "outputs": [],
   "source": [
    "%load_ext lab_black\n",
    "\n",
    "import warnings\n",
    "\n",
    "warnings.filterwarnings(\"ignore\")"
   ]
  },
  {
   "cell_type": "markdown",
   "metadata": {},
   "source": [
    "# Chapter 1: Basics and Linear Models\n",
    "\n",
    "## Exercise on linear regression"
   ]
  },
  {
   "cell_type": "code",
   "execution_count": 2,
   "metadata": {},
   "outputs": [
    {
     "name": "stdout",
     "output_type": "stream",
     "text": [
      "RMSE: 1156.648\n",
      "R-squared: 91.59%\n",
      "Intercept -7362.801777301365\n"
     ]
    },
    {
     "data": {
      "text/html": [
       "<div>\n",
       "<style scoped>\n",
       "    .dataframe tbody tr th:only-of-type {\n",
       "        vertical-align: middle;\n",
       "    }\n",
       "\n",
       "    .dataframe tbody tr th {\n",
       "        vertical-align: top;\n",
       "    }\n",
       "\n",
       "    .dataframe thead th {\n",
       "        text-align: right;\n",
       "    }\n",
       "</style>\n",
       "<table border=\"1\" class=\"dataframe\">\n",
       "  <thead>\n",
       "    <tr style=\"text-align: right;\">\n",
       "      <th></th>\n",
       "      <th>Estimates</th>\n",
       "    </tr>\n",
       "  </thead>\n",
       "  <tbody>\n",
       "    <tr>\n",
       "      <th>carat</th>\n",
       "      <td>8886.128167</td>\n",
       "    </tr>\n",
       "    <tr>\n",
       "      <th>color_E</th>\n",
       "      <td>-211.682398</td>\n",
       "    </tr>\n",
       "    <tr>\n",
       "      <th>color_F</th>\n",
       "      <td>-303.309992</td>\n",
       "    </tr>\n",
       "    <tr>\n",
       "      <th>color_G</th>\n",
       "      <td>-506.199418</td>\n",
       "    </tr>\n",
       "    <tr>\n",
       "      <th>color_H</th>\n",
       "      <td>-978.697787</td>\n",
       "    </tr>\n",
       "    <tr>\n",
       "      <th>color_I</th>\n",
       "      <td>-1440.301982</td>\n",
       "    </tr>\n",
       "    <tr>\n",
       "      <th>color_J</th>\n",
       "      <td>-2325.222430</td>\n",
       "    </tr>\n",
       "    <tr>\n",
       "      <th>cut_Good</th>\n",
       "      <td>655.767347</td>\n",
       "    </tr>\n",
       "    <tr>\n",
       "      <th>cut_Very Good</th>\n",
       "      <td>848.716508</td>\n",
       "    </tr>\n",
       "    <tr>\n",
       "      <th>cut_Premium</th>\n",
       "      <td>869.395173</td>\n",
       "    </tr>\n",
       "    <tr>\n",
       "      <th>cut_Ideal</th>\n",
       "      <td>998.255678</td>\n",
       "    </tr>\n",
       "    <tr>\n",
       "      <th>clarity_SI2</th>\n",
       "      <td>2625.949670</td>\n",
       "    </tr>\n",
       "    <tr>\n",
       "      <th>clarity_SI1</th>\n",
       "      <td>3573.687750</td>\n",
       "    </tr>\n",
       "    <tr>\n",
       "      <th>clarity_VS2</th>\n",
       "      <td>4217.829230</td>\n",
       "    </tr>\n",
       "    <tr>\n",
       "      <th>clarity_VS1</th>\n",
       "      <td>4534.879081</td>\n",
       "    </tr>\n",
       "    <tr>\n",
       "      <th>clarity_VVS2</th>\n",
       "      <td>4967.199550</td>\n",
       "    </tr>\n",
       "    <tr>\n",
       "      <th>clarity_VVS1</th>\n",
       "      <td>5072.027766</td>\n",
       "    </tr>\n",
       "    <tr>\n",
       "      <th>clarity_IF</th>\n",
       "      <td>5419.646918</td>\n",
       "    </tr>\n",
       "  </tbody>\n",
       "</table>\n",
       "</div>"
      ],
      "text/plain": [
       "                 Estimates\n",
       "carat          8886.128167\n",
       "color_E        -211.682398\n",
       "color_F        -303.309992\n",
       "color_G        -506.199418\n",
       "color_H        -978.697787\n",
       "color_I       -1440.301982\n",
       "color_J       -2325.222430\n",
       "cut_Good        655.767347\n",
       "cut_Very Good   848.716508\n",
       "cut_Premium     869.395173\n",
       "cut_Ideal       998.255678\n",
       "clarity_SI2    2625.949670\n",
       "clarity_SI1    3573.687750\n",
       "clarity_VS2    4217.829230\n",
       "clarity_VS1    4534.879081\n",
       "clarity_VVS2   4967.199550\n",
       "clarity_VVS1   5072.027766\n",
       "clarity_IF     5419.646918"
      ]
     },
     "execution_count": 2,
     "metadata": {},
     "output_type": "execute_result"
    }
   ],
   "source": [
    "# Via scikit-learn\n",
    "import pandas as pd\n",
    "from plotnine.data import diamonds\n",
    "from sklearn.linear_model import LinearRegression\n",
    "from sklearn.preprocessing import OneHotEncoder\n",
    "from sklearn.compose import ColumnTransformer\n",
    "from sklearn.pipeline import make_pipeline\n",
    "from sklearn.metrics import mean_squared_error as mse\n",
    "\n",
    "y = diamonds[\"price\"]\n",
    "cat_vars = [\"color\", \"cut\", \"clarity\"]\n",
    "lvl = [diamonds[x].cat.categories.to_list() for x in cat_vars]\n",
    "\n",
    "model = make_pipeline(\n",
    "    ColumnTransformer(\n",
    "        transformers=[\n",
    "            (\"linear\", \"passthrough\", [\"carat\"]),\n",
    "            (\"dummies\", OneHotEncoder(categories=lvl, drop=\"first\"), cat_vars),\n",
    "        ],\n",
    "        verbose_feature_names_out=False,\n",
    "    ),\n",
    "    LinearRegression(),\n",
    ")\n",
    "model.fit(diamonds, y)\n",
    "\n",
    "print(f\"RMSE: {mse(y, model.predict(diamonds), squared=False):.3f}\")\n",
    "print(f\"R-squared: {model.score(diamonds, y):.2%}\")\n",
    "print(\"Intercept\", model[-1].intercept_)\n",
    "\n",
    "results = pd.DataFrame(\n",
    "    model[-1].coef_, columns=[\"Estimates\"], index=model[:-1].get_feature_names_out()\n",
    ")\n",
    "results"
   ]
  },
  {
   "cell_type": "code",
   "execution_count": 3,
   "metadata": {},
   "outputs": [
    {
     "data": {
      "text/html": [
       "<table class=\"simpletable\">\n",
       "<caption>OLS Regression Results</caption>\n",
       "<tr>\n",
       "  <th>Dep. Variable:</th>          <td>price</td>      <th>  R-squared:         </th>  <td>   0.916</td>  \n",
       "</tr>\n",
       "<tr>\n",
       "  <th>Model:</th>                   <td>OLS</td>       <th>  Adj. R-squared:    </th>  <td>   0.916</td>  \n",
       "</tr>\n",
       "<tr>\n",
       "  <th>Method:</th>             <td>Least Squares</td>  <th>  F-statistic:       </th>  <td>3.264e+04</td> \n",
       "</tr>\n",
       "<tr>\n",
       "  <th>Date:</th>             <td>Fri, 11 Nov 2022</td> <th>  Prob (F-statistic):</th>   <td>  0.00</td>   \n",
       "</tr>\n",
       "<tr>\n",
       "  <th>Time:</th>                 <td>12:40:59</td>     <th>  Log-Likelihood:    </th> <td>-4.5699e+05</td>\n",
       "</tr>\n",
       "<tr>\n",
       "  <th>No. Observations:</th>      <td> 53940</td>      <th>  AIC:               </th>  <td>9.140e+05</td> \n",
       "</tr>\n",
       "<tr>\n",
       "  <th>Df Residuals:</th>          <td> 53921</td>      <th>  BIC:               </th>  <td>9.142e+05</td> \n",
       "</tr>\n",
       "<tr>\n",
       "  <th>Df Model:</th>              <td>    18</td>      <th>                     </th>      <td> </td>     \n",
       "</tr>\n",
       "<tr>\n",
       "  <th>Covariance Type:</th>      <td>nonrobust</td>    <th>                     </th>      <td> </td>     \n",
       "</tr>\n",
       "</table>\n",
       "<table class=\"simpletable\">\n",
       "<tr>\n",
       "          <td></td>            <th>coef</th>     <th>std err</th>      <th>t</th>      <th>P>|t|</th>  <th>[0.025</th>    <th>0.975]</th>  \n",
       "</tr>\n",
       "<tr>\n",
       "  <th>Intercept</th>        <td>-7362.8022</td> <td>   51.684</td> <td> -142.458</td> <td> 0.000</td> <td>-7464.103</td> <td>-7261.501</td>\n",
       "</tr>\n",
       "<tr>\n",
       "  <th>color[T.E]</th>       <td> -211.6825</td> <td>   18.316</td> <td>  -11.557</td> <td> 0.000</td> <td> -247.582</td> <td> -175.783</td>\n",
       "</tr>\n",
       "<tr>\n",
       "  <th>color[T.F]</th>       <td> -303.3100</td> <td>   18.509</td> <td>  -16.387</td> <td> 0.000</td> <td> -339.589</td> <td> -267.031</td>\n",
       "</tr>\n",
       "<tr>\n",
       "  <th>color[T.G]</th>       <td> -506.1995</td> <td>   18.122</td> <td>  -27.933</td> <td> 0.000</td> <td> -541.719</td> <td> -470.680</td>\n",
       "</tr>\n",
       "<tr>\n",
       "  <th>color[T.H]</th>       <td> -978.6977</td> <td>   19.272</td> <td>  -50.784</td> <td> 0.000</td> <td>-1016.471</td> <td> -940.925</td>\n",
       "</tr>\n",
       "<tr>\n",
       "  <th>color[T.I]</th>       <td>-1440.3019</td> <td>   21.646</td> <td>  -66.538</td> <td> 0.000</td> <td>-1482.729</td> <td>-1397.875</td>\n",
       "</tr>\n",
       "<tr>\n",
       "  <th>color[T.J]</th>       <td>-2325.2224</td> <td>   26.723</td> <td>  -87.013</td> <td> 0.000</td> <td>-2377.599</td> <td>-2272.846</td>\n",
       "</tr>\n",
       "<tr>\n",
       "  <th>cut[T.Good]</th>      <td>  655.7674</td> <td>   33.634</td> <td>   19.497</td> <td> 0.000</td> <td>  589.844</td> <td>  721.690</td>\n",
       "</tr>\n",
       "<tr>\n",
       "  <th>cut[T.Very Good]</th> <td>  848.7169</td> <td>   31.277</td> <td>   27.135</td> <td> 0.000</td> <td>  787.414</td> <td>  910.020</td>\n",
       "</tr>\n",
       "<tr>\n",
       "  <th>cut[T.Premium]</th>   <td>  869.3959</td> <td>   30.931</td> <td>   28.108</td> <td> 0.000</td> <td>  808.771</td> <td>  930.021</td>\n",
       "</tr>\n",
       "<tr>\n",
       "  <th>cut[T.Ideal]</th>     <td>  998.2544</td> <td>   30.656</td> <td>   32.563</td> <td> 0.000</td> <td>  938.168</td> <td> 1058.341</td>\n",
       "</tr>\n",
       "<tr>\n",
       "  <th>clarity[T.SI2]</th>   <td> 2625.9500</td> <td>   44.788</td> <td>   58.630</td> <td> 0.000</td> <td> 2538.164</td> <td> 2713.736</td>\n",
       "</tr>\n",
       "<tr>\n",
       "  <th>clarity[T.SI1]</th>   <td> 3573.6880</td> <td>   44.598</td> <td>   80.132</td> <td> 0.000</td> <td> 3486.276</td> <td> 3661.100</td>\n",
       "</tr>\n",
       "<tr>\n",
       "  <th>clarity[T.VS2]</th>   <td> 4217.8291</td> <td>   44.841</td> <td>   94.061</td> <td> 0.000</td> <td> 4129.940</td> <td> 4305.719</td>\n",
       "</tr>\n",
       "<tr>\n",
       "  <th>clarity[T.VS1]</th>   <td> 4534.8790</td> <td>   45.535</td> <td>   99.591</td> <td> 0.000</td> <td> 4445.630</td> <td> 4624.128</td>\n",
       "</tr>\n",
       "<tr>\n",
       "  <th>clarity[T.VVS2]</th>  <td> 4967.1994</td> <td>   46.891</td> <td>  105.932</td> <td> 0.000</td> <td> 4875.293</td> <td> 5059.105</td>\n",
       "</tr>\n",
       "<tr>\n",
       "  <th>clarity[T.VVS1]</th>  <td> 5072.0276</td> <td>   48.211</td> <td>  105.205</td> <td> 0.000</td> <td> 4977.534</td> <td> 5166.521</td>\n",
       "</tr>\n",
       "<tr>\n",
       "  <th>clarity[T.IF]</th>    <td> 5419.6468</td> <td>   52.136</td> <td>  103.952</td> <td> 0.000</td> <td> 5317.460</td> <td> 5521.834</td>\n",
       "</tr>\n",
       "<tr>\n",
       "  <th>carat</th>            <td> 8886.1289</td> <td>   12.034</td> <td>  738.437</td> <td> 0.000</td> <td> 8862.543</td> <td> 8909.715</td>\n",
       "</tr>\n",
       "</table>\n",
       "<table class=\"simpletable\">\n",
       "<tr>\n",
       "  <th>Omnibus:</th>       <td>15285.474</td> <th>  Durbin-Watson:     </th>  <td>   0.907</td> \n",
       "</tr>\n",
       "<tr>\n",
       "  <th>Prob(Omnibus):</th>  <td> 0.000</td>   <th>  Jarque-Bera (JB):  </th> <td>183262.957</td>\n",
       "</tr>\n",
       "<tr>\n",
       "  <th>Skew:</th>           <td> 1.022</td>   <th>  Prob(JB):          </th>  <td>    0.00</td> \n",
       "</tr>\n",
       "<tr>\n",
       "  <th>Kurtosis:</th>       <td>11.796</td>   <th>  Cond. No.          </th>  <td>    37.8</td> \n",
       "</tr>\n",
       "</table><br/><br/>Notes:<br/>[1] Standard Errors assume that the covariance matrix of the errors is correctly specified."
      ],
      "text/plain": [
       "<class 'statsmodels.iolib.summary.Summary'>\n",
       "\"\"\"\n",
       "                            OLS Regression Results                            \n",
       "==============================================================================\n",
       "Dep. Variable:                  price   R-squared:                       0.916\n",
       "Model:                            OLS   Adj. R-squared:                  0.916\n",
       "Method:                 Least Squares   F-statistic:                 3.264e+04\n",
       "Date:                Fri, 11 Nov 2022   Prob (F-statistic):               0.00\n",
       "Time:                        12:40:59   Log-Likelihood:            -4.5699e+05\n",
       "No. Observations:               53940   AIC:                         9.140e+05\n",
       "Df Residuals:                   53921   BIC:                         9.142e+05\n",
       "Df Model:                          18                                         \n",
       "Covariance Type:            nonrobust                                         \n",
       "====================================================================================\n",
       "                       coef    std err          t      P>|t|      [0.025      0.975]\n",
       "------------------------------------------------------------------------------------\n",
       "Intercept        -7362.8022     51.684   -142.458      0.000   -7464.103   -7261.501\n",
       "color[T.E]        -211.6825     18.316    -11.557      0.000    -247.582    -175.783\n",
       "color[T.F]        -303.3100     18.509    -16.387      0.000    -339.589    -267.031\n",
       "color[T.G]        -506.1995     18.122    -27.933      0.000    -541.719    -470.680\n",
       "color[T.H]        -978.6977     19.272    -50.784      0.000   -1016.471    -940.925\n",
       "color[T.I]       -1440.3019     21.646    -66.538      0.000   -1482.729   -1397.875\n",
       "color[T.J]       -2325.2224     26.723    -87.013      0.000   -2377.599   -2272.846\n",
       "cut[T.Good]        655.7674     33.634     19.497      0.000     589.844     721.690\n",
       "cut[T.Very Good]   848.7169     31.277     27.135      0.000     787.414     910.020\n",
       "cut[T.Premium]     869.3959     30.931     28.108      0.000     808.771     930.021\n",
       "cut[T.Ideal]       998.2544     30.656     32.563      0.000     938.168    1058.341\n",
       "clarity[T.SI2]    2625.9500     44.788     58.630      0.000    2538.164    2713.736\n",
       "clarity[T.SI1]    3573.6880     44.598     80.132      0.000    3486.276    3661.100\n",
       "clarity[T.VS2]    4217.8291     44.841     94.061      0.000    4129.940    4305.719\n",
       "clarity[T.VS1]    4534.8790     45.535     99.591      0.000    4445.630    4624.128\n",
       "clarity[T.VVS2]   4967.1994     46.891    105.932      0.000    4875.293    5059.105\n",
       "clarity[T.VVS1]   5072.0276     48.211    105.205      0.000    4977.534    5166.521\n",
       "clarity[T.IF]     5419.6468     52.136    103.952      0.000    5317.460    5521.834\n",
       "carat             8886.1289     12.034    738.437      0.000    8862.543    8909.715\n",
       "==============================================================================\n",
       "Omnibus:                    15285.474   Durbin-Watson:                   0.907\n",
       "Prob(Omnibus):                  0.000   Jarque-Bera (JB):           183262.957\n",
       "Skew:                           1.022   Prob(JB):                         0.00\n",
       "Kurtosis:                      11.796   Cond. No.                         37.8\n",
       "==============================================================================\n",
       "\n",
       "Notes:\n",
       "[1] Standard Errors assume that the covariance matrix of the errors is correctly specified.\n",
       "\"\"\""
      ]
     },
     "execution_count": 3,
     "metadata": {},
     "output_type": "execute_result"
    }
   ],
   "source": [
    "# Via statsmodels\n",
    "from plotnine.data import diamonds\n",
    "from statsmodels.formula.api import ols\n",
    "\n",
    "model2 = ols(\"price ~ carat + color + cut + clarity\", data=diamonds).fit()\n",
    "model2.summary()"
   ]
  },
  {
   "cell_type": "code",
   "execution_count": 4,
   "metadata": {},
   "outputs": [
    {
     "name": "stdout",
     "output_type": "stream",
     "text": [
      "RMSE: 1156.648\n"
     ]
    }
   ],
   "source": [
    "from sklearn.metrics import mean_squared_error as mse\n",
    "\n",
    "print(f\"RMSE: {mse(y, model2.predict(diamonds), squared=False):.3f}\")"
   ]
  },
  {
   "cell_type": "markdown",
   "metadata": {},
   "source": [
    "**Comments**\n",
    "\n",
    "- **Model quality:** About 92% of price variations are explained by covariates. Typical prediction error is 1157 USD.\n",
    "- **Effects:** All effects point into the intuitively right direction (larger stones are more expensive, worse color are less expensive etc.)\n",
    "- **Practical perspective:** Additivity in color, cut and clarity are not making sense. Their effects should get larger with larger diamond size. This can be solved by adding interaction terms with carat or, much easier, to switch to a logarithmic response.\n",
    "\n",
    "## Exercise on GLMs"
   ]
  },
  {
   "cell_type": "code",
   "execution_count": 5,
   "metadata": {},
   "outputs": [
    {
     "name": "stdout",
     "output_type": "stream",
     "text": [
      "                 Generalized Linear Model Regression Results                  \n",
      "==============================================================================\n",
      "Dep. Variable:                  price   No. Observations:                53940\n",
      "Model:                            GLM   Df Residuals:                    53921\n",
      "Model Family:                   Gamma   Df Model:                           18\n",
      "Link Function:                    log   Scale:                        0.019471\n",
      "Method:                          IRLS   Log-Likelihood:            -3.8857e+05\n",
      "Date:                Fri, 11 Nov 2022   Deviance:                       978.68\n",
      "Time:                        12:41:00   Pearson chi2:                 1.05e+03\n",
      "No. Iterations:                    12   Pseudo R-squ. (CS):              1.000\n",
      "Covariance Type:            nonrobust                                         \n",
      "====================================================================================\n",
      "                       coef    std err          z      P>|z|      [0.025      0.975]\n",
      "------------------------------------------------------------------------------------\n",
      "Intercept            7.8933      0.006   1314.392      0.000       7.881       7.905\n",
      "color[T.E]          -0.0563      0.002    -25.481      0.000      -0.061      -0.052\n",
      "color[T.F]          -0.0964      0.002    -43.137      0.000      -0.101      -0.092\n",
      "color[T.G]          -0.1635      0.002    -74.787      0.000      -0.168      -0.159\n",
      "color[T.H]          -0.2535      0.002   -109.255      0.000      -0.258      -0.249\n",
      "color[T.I]          -0.3743      0.003   -144.011      0.000      -0.379      -0.369\n",
      "color[T.J]          -0.5111      0.003   -159.433      0.000      -0.517      -0.505\n",
      "cut[T.Good]          0.0717      0.004     17.667      0.000       0.064       0.080\n",
      "cut[T.Very Good]     0.1083      0.004     28.692      0.000       0.101       0.116\n",
      "cut[T.Premium]       0.1324      0.004     35.485      0.000       0.125       0.140\n",
      "cut[T.Ideal]         0.1532      0.004     41.398      0.000       0.146       0.160\n",
      "clarity[T.SI2]       0.4102      0.005     75.974      0.000       0.400       0.421\n",
      "clarity[T.SI1]       0.5727      0.005    106.666      0.000       0.562       0.583\n",
      "clarity[T.VS2]       0.7228      0.005    133.859      0.000       0.712       0.733\n",
      "clarity[T.VS1]       0.7924      0.005    144.536      0.000       0.782       0.803\n",
      "clarity[T.VVS2]      0.9307      0.006    164.714      0.000       0.920       0.942\n",
      "clarity[T.VVS1]      1.0017      0.006    172.286      0.000       0.990       1.013\n",
      "clarity[T.IF]        1.0982      0.006    174.625      0.000       1.086       1.110\n",
      "np.log(carat)        1.8816      0.001   1598.304      0.000       1.879       1.884\n",
      "====================================================================================\n",
      "Relative bias on USD scale: 0.336%\n"
     ]
    }
   ],
   "source": [
    "# Via statsmodels\n",
    "import numpy as np\n",
    "import statsmodels.api as sm\n",
    "import statsmodels.formula.api as smf\n",
    "from plotnine.data import diamonds\n",
    "\n",
    "model = smf.glm(\n",
    "    \"price ~ np.log(carat) + color + cut + clarity\",\n",
    "    data=diamonds,\n",
    "    family=sm.families.Gamma(sm.families.links.log()),\n",
    ").fit()\n",
    "print(model.summary())\n",
    "\n",
    "bias = diamonds[\"price\"].mean() / model.predict(diamonds).mean() - 1\n",
    "print(f\"Relative bias on USD scale: {bias:.3%}\")"
   ]
  },
  {
   "cell_type": "code",
   "execution_count": 6,
   "metadata": {},
   "outputs": [
    {
     "name": "stdout",
     "output_type": "stream",
     "text": [
      "Percent deviance explained: 98.15%\n",
      "Relative bias on USD scale: 0.336%\n",
      "Intercept 7.893246730057723\n"
     ]
    },
    {
     "data": {
      "text/html": [
       "<div>\n",
       "<style scoped>\n",
       "    .dataframe tbody tr th:only-of-type {\n",
       "        vertical-align: middle;\n",
       "    }\n",
       "\n",
       "    .dataframe tbody tr th {\n",
       "        vertical-align: top;\n",
       "    }\n",
       "\n",
       "    .dataframe thead th {\n",
       "        text-align: right;\n",
       "    }\n",
       "</style>\n",
       "<table border=\"1\" class=\"dataframe\">\n",
       "  <thead>\n",
       "    <tr style=\"text-align: right;\">\n",
       "      <th></th>\n",
       "      <th>Estimates</th>\n",
       "    </tr>\n",
       "  </thead>\n",
       "  <tbody>\n",
       "    <tr>\n",
       "      <th>carat</th>\n",
       "      <td>1.881551</td>\n",
       "    </tr>\n",
       "    <tr>\n",
       "      <th>color_E</th>\n",
       "      <td>-0.056288</td>\n",
       "    </tr>\n",
       "    <tr>\n",
       "      <th>color_F</th>\n",
       "      <td>-0.096361</td>\n",
       "    </tr>\n",
       "    <tr>\n",
       "      <th>color_G</th>\n",
       "      <td>-0.163522</td>\n",
       "    </tr>\n",
       "    <tr>\n",
       "      <th>color_H</th>\n",
       "      <td>-0.253494</td>\n",
       "    </tr>\n",
       "    <tr>\n",
       "      <th>color_I</th>\n",
       "      <td>-0.374268</td>\n",
       "    </tr>\n",
       "    <tr>\n",
       "      <th>color_J</th>\n",
       "      <td>-0.511086</td>\n",
       "    </tr>\n",
       "    <tr>\n",
       "      <th>cut_Good</th>\n",
       "      <td>0.071694</td>\n",
       "    </tr>\n",
       "    <tr>\n",
       "      <th>cut_Very Good</th>\n",
       "      <td>0.108288</td>\n",
       "    </tr>\n",
       "    <tr>\n",
       "      <th>cut_Premium</th>\n",
       "      <td>0.132444</td>\n",
       "    </tr>\n",
       "    <tr>\n",
       "      <th>cut_Ideal</th>\n",
       "      <td>0.153188</td>\n",
       "    </tr>\n",
       "    <tr>\n",
       "      <th>clarity_SI2</th>\n",
       "      <td>0.410239</td>\n",
       "    </tr>\n",
       "    <tr>\n",
       "      <th>clarity_SI1</th>\n",
       "      <td>0.572732</td>\n",
       "    </tr>\n",
       "    <tr>\n",
       "      <th>clarity_VS2</th>\n",
       "      <td>0.722770</td>\n",
       "    </tr>\n",
       "    <tr>\n",
       "      <th>clarity_VS1</th>\n",
       "      <td>0.792350</td>\n",
       "    </tr>\n",
       "    <tr>\n",
       "      <th>clarity_VVS2</th>\n",
       "      <td>0.930728</td>\n",
       "    </tr>\n",
       "    <tr>\n",
       "      <th>clarity_VVS1</th>\n",
       "      <td>1.001679</td>\n",
       "    </tr>\n",
       "    <tr>\n",
       "      <th>clarity_IF</th>\n",
       "      <td>1.098153</td>\n",
       "    </tr>\n",
       "  </tbody>\n",
       "</table>\n",
       "</div>"
      ],
      "text/plain": [
       "               Estimates\n",
       "carat           1.881551\n",
       "color_E        -0.056288\n",
       "color_F        -0.096361\n",
       "color_G        -0.163522\n",
       "color_H        -0.253494\n",
       "color_I        -0.374268\n",
       "color_J        -0.511086\n",
       "cut_Good        0.071694\n",
       "cut_Very Good   0.108288\n",
       "cut_Premium     0.132444\n",
       "cut_Ideal       0.153188\n",
       "clarity_SI2     0.410239\n",
       "clarity_SI1     0.572732\n",
       "clarity_VS2     0.722770\n",
       "clarity_VS1     0.792350\n",
       "clarity_VVS2    0.930728\n",
       "clarity_VVS1    1.001679\n",
       "clarity_IF      1.098153"
      ]
     },
     "execution_count": 6,
     "metadata": {},
     "output_type": "execute_result"
    }
   ],
   "source": [
    "# Via scikit-learn\n",
    "import numpy as np\n",
    "import pandas as pd\n",
    "from plotnine.data import diamonds\n",
    "from sklearn.linear_model import GammaRegressor\n",
    "from sklearn.preprocessing import OneHotEncoder, FunctionTransformer\n",
    "from sklearn.compose import ColumnTransformer\n",
    "from sklearn.pipeline import make_pipeline\n",
    "\n",
    "cat_vars = [\"color\", \"cut\", \"clarity\"]\n",
    "lvl = [diamonds[x].cat.categories.to_list() for x in cat_vars]\n",
    "\n",
    "y = diamonds[\"price\"]\n",
    "\n",
    "# Define log_carat outside pipeline as it is tricky to track feature names\n",
    "diamonds[\"log_carat\"] = np.log(diamonds[\"carat\"])\n",
    "\n",
    "# Define and fit model pipeline. Note: GammaRegressor directly uses log-link\n",
    "take_log = FunctionTransformer(np.log, feature_names_out=\"one-to-one\")\n",
    "model2 = make_pipeline(\n",
    "    ColumnTransformer(\n",
    "        transformers=[\n",
    "            (\"log_carat\", take_log, [\"carat\"]),\n",
    "            (\"dummies\", OneHotEncoder(categories=lvl, drop=\"first\"), cat_vars),\n",
    "        ],\n",
    "        verbose_feature_names_out=False,\n",
    "    ),\n",
    "    GammaRegressor(alpha=0, max_iter=10_000, tol=1e-6),\n",
    ")\n",
    "model2.fit(diamonds, y)\n",
    "\n",
    "# Performance\n",
    "d2 = model2.score(diamonds, y)\n",
    "print(f\"Percent deviance explained: {d2:.2%}\")\n",
    "\n",
    "# Relative bias\n",
    "bias2 = y.mean() / model2.predict(diamonds).mean() - 1\n",
    "print(f\"Relative bias on USD scale: {bias2:.3%}\")\n",
    "\n",
    "# Fitted coefficients\n",
    "print(\"Intercept\", model2[-1].intercept_)\n",
    "results = pd.DataFrame(\n",
    "    model2[-1].coef_, columns=[\"Estimates\"], index=model2[:-1].get_feature_names_out()\n",
    ")\n",
    "results"
   ]
  },
  {
   "cell_type": "markdown",
   "metadata": {},
   "source": [
    "**Comment:** The coefficients are very similar to the linear regression with log(price) as response. This makes sense as we interpret the coefficients in the same way! The bias is only 0.3%, i.e., much smaller than the 3% of the OLS with log(price) as response. Still, because the log is not the natural link of the Gamma regression, the bias is not exactly 0.\n",
    "\n",
    "# Chapter 2: Model Selection and Validation\n",
    "\n",
    "## Exercise 1"
   ]
  },
  {
   "cell_type": "code",
   "execution_count": 7,
   "metadata": {},
   "outputs": [
    {
     "name": "stdout",
     "output_type": "stream",
     "text": [
      "Linear regression CV RMSE: 1945.513\n",
      "Best k of k-NN: {'knn__n_neighbors': 6}\n",
      "Its CV-RMSE: 718.314\n",
      "Best model seems 6-NN!\n"
     ]
    }
   ],
   "source": [
    "import numpy as np\n",
    "from plotnine.data import diamonds\n",
    "from sklearn.neighbors import KNeighborsRegressor\n",
    "from sklearn.linear_model import LinearRegression\n",
    "from sklearn.compose import ColumnTransformer\n",
    "from sklearn.pipeline import Pipeline, make_pipeline\n",
    "from sklearn.metrics import mean_squared_error as mse\n",
    "from sklearn.preprocessing import (\n",
    "    OneHotEncoder,\n",
    "    OrdinalEncoder,\n",
    "    StandardScaler,\n",
    "    FunctionTransformer,\n",
    ")\n",
    "from sklearn.model_selection import (\n",
    "    train_test_split,\n",
    "    cross_val_score,\n",
    "    KFold,\n",
    "    GridSearchCV,\n",
    ")\n",
    "\n",
    "ord_vars = [\"color\", \"cut\", \"clarity\"]\n",
    "lvl = [diamonds[x].cat.categories.to_list() for x in ord_vars]\n",
    "\n",
    "# THIS IS THE DECIDING LINE\n",
    "dia = diamonds.drop_duplicates([\"price\", \"carat\"] + ord_vars)\n",
    "\n",
    "# Split data into train and test\n",
    "df_train, df_test, y_train, y_test = train_test_split(\n",
    "    dia, dia[\"price\"], test_size=0.1, random_state=49\n",
    ")\n",
    "\n",
    "# Define CV strategy\n",
    "cv = KFold(n_splits=5, shuffle=True, random_state=4432)\n",
    "\n",
    "# Cross-validation performance of linear regression\n",
    "linear_regression = make_pipeline(\n",
    "    ColumnTransformer(\n",
    "        transformers=[\n",
    "            (\"log\", FunctionTransformer(np.log), [\"carat\"]),\n",
    "            (\"dummies\", OneHotEncoder(categories=lvl, drop=\"first\"), ord_vars),\n",
    "        ]\n",
    "    ),\n",
    "    LinearRegression(),\n",
    ")\n",
    "results_linear = -cross_val_score(\n",
    "    linear_regression,\n",
    "    X=df_train,\n",
    "    y=y_train,\n",
    "    scoring=\"neg_root_mean_squared_error\",\n",
    "    cv=cv,\n",
    ")\n",
    "print(f\"Linear regression CV RMSE: {results_linear.mean():.3f}\")\n",
    "\n",
    "# Cross-validation performance of k-nearest-neighbour for k = 1-20\n",
    "knn_encoder = ColumnTransformer(\n",
    "    transformers=[\n",
    "        (\"linear\", \"passthrough\", [\"carat\"]),\n",
    "        (\"ordered\", OrdinalEncoder(categories=lvl), ord_vars),\n",
    "    ],\n",
    ")\n",
    "knn_regression = Pipeline(\n",
    "    steps=[\n",
    "        (\"encoder\", knn_encoder),\n",
    "        (\"scaler\", StandardScaler()),\n",
    "        (\"knn\", KNeighborsRegressor(n_neighbors=5)),\n",
    "    ]\n",
    ")\n",
    "search = GridSearchCV(\n",
    "    knn_regression,\n",
    "    param_grid={\"knn__n_neighbors\": range(1, 21)},\n",
    "    scoring=\"neg_root_mean_squared_error\",\n",
    "    cv=KFold(n_splits=5, shuffle=True, random_state=4302),\n",
    ")\n",
    "# Note: the best model is being refitted on full training data\n",
    "search.fit(X=df_train, y=y_train)\n",
    "print(f\"Best k of k-NN: {search.best_params_}\")\n",
    "print(f\"Its CV-RMSE: {-search.best_score_:.3f}\")\n",
    "print(\"Best model seems 6-NN!\")"
   ]
  },
  {
   "cell_type": "code",
   "execution_count": 8,
   "metadata": {},
   "outputs": [
    {
     "name": "stdout",
     "output_type": "stream",
     "text": [
      "Test RMSE of final model: 664.725\n"
     ]
    }
   ],
   "source": [
    "# The overall best model is 6-nearest-neighbour\n",
    "final_rmse = mse(y_test, search.predict(df_test), squared=False)\n",
    "print(f\"Test RMSE of final model: {final_rmse:.3f}\")"
   ]
  },
  {
   "cell_type": "markdown",
   "metadata": {},
   "source": [
    "**Comments:** The test performance of the best model (6-NN) seems clearly worse than the one without deduplication (~660 USD RMSE vs ~580). Overall, this is probably the more realistic performance than the one obtained from the original data set. Still, as certain rows could be identical by chance, our deduplication approach might be slightly too conservative. The true performance will probably be somewhere between the two approaches.\n",
    "\n",
    "## Exercise 2"
   ]
  },
  {
   "cell_type": "code",
   "execution_count": 9,
   "metadata": {},
   "outputs": [],
   "source": [
    "import numpy as np\n",
    "import pandas as pd\n",
    "from plotnine.data import diamonds\n",
    "from sklearn.linear_model import GammaRegressor\n",
    "from sklearn.preprocessing import OneHotEncoder, FunctionTransformer, PolynomialFeatures\n",
    "from sklearn.compose import ColumnTransformer\n",
    "from sklearn.pipeline import Pipeline\n",
    "from sklearn.model_selection import train_test_split, GridSearchCV, KFold\n",
    "\n",
    "# Split data into train and test\n",
    "df_train, df_test, y_train, y_test = train_test_split(\n",
    "    diamonds, diamonds[\"price\"], test_size=0.1, random_state=49\n",
    ")\n",
    "\n",
    "# Define parametrized end-to-end preprocessor with GLM on top of it\n",
    "cat_vars = [\"color\", \"cut\", \"clarity\"]\n",
    "lvl = [diamonds[x].cat.categories.to_list() for x in cat_vars]\n",
    "\n",
    "prep_carat = Pipeline(\n",
    "    steps=[(\"log\", FunctionTransformer(np.log)), (\"poly\", PolynomialFeatures(degree=1))]\n",
    ")\n",
    "\n",
    "preprocessor = ColumnTransformer(\n",
    "    transformers=[\n",
    "        (\"carat\", prep_carat, [\"carat\"]),\n",
    "        (\"dummies\", OneHotEncoder(categories=lvl, drop=\"first\"), cat_vars),\n",
    "    ]\n",
    ")\n",
    "\n",
    "gamma_regression = Pipeline(\n",
    "    steps=[\n",
    "        (\"preprocessor\", preprocessor),\n",
    "        (\"glm\", GammaRegressor(alpha=0, max_iter=10_000, tol=1e-6)),\n",
    "    ]\n",
    ")"
   ]
  },
  {
   "cell_type": "code",
   "execution_count": 10,
   "metadata": {},
   "outputs": [
    {
     "data": {
      "text/html": [
       "<div>\n",
       "<style scoped>\n",
       "    .dataframe tbody tr th:only-of-type {\n",
       "        vertical-align: middle;\n",
       "    }\n",
       "\n",
       "    .dataframe tbody tr th {\n",
       "        vertical-align: top;\n",
       "    }\n",
       "\n",
       "    .dataframe thead th {\n",
       "        text-align: right;\n",
       "    }\n",
       "</style>\n",
       "<table border=\"1\" class=\"dataframe\">\n",
       "  <thead>\n",
       "    <tr style=\"text-align: right;\">\n",
       "      <th></th>\n",
       "      <th>mean_gamma_deviance</th>\n",
       "    </tr>\n",
       "  </thead>\n",
       "  <tbody>\n",
       "    <tr>\n",
       "      <th>1</th>\n",
       "      <td>0.018230</td>\n",
       "    </tr>\n",
       "    <tr>\n",
       "      <th>2</th>\n",
       "      <td>0.018056</td>\n",
       "    </tr>\n",
       "    <tr>\n",
       "      <th>3</th>\n",
       "      <td>0.016280</td>\n",
       "    </tr>\n",
       "    <tr>\n",
       "      <th>4</th>\n",
       "      <td>0.016277</td>\n",
       "    </tr>\n",
       "    <tr>\n",
       "      <th>5</th>\n",
       "      <td>0.016224</td>\n",
       "    </tr>\n",
       "    <tr>\n",
       "      <th>6</th>\n",
       "      <td>0.016079</td>\n",
       "    </tr>\n",
       "    <tr>\n",
       "      <th>7</th>\n",
       "      <td>0.015997</td>\n",
       "    </tr>\n",
       "    <tr>\n",
       "      <th>8</th>\n",
       "      <td>0.015959</td>\n",
       "    </tr>\n",
       "    <tr>\n",
       "      <th>9</th>\n",
       "      <td>0.015993</td>\n",
       "    </tr>\n",
       "    <tr>\n",
       "      <th>10</th>\n",
       "      <td>0.016168</td>\n",
       "    </tr>\n",
       "  </tbody>\n",
       "</table>\n",
       "</div>"
      ],
      "text/plain": [
       "    mean_gamma_deviance\n",
       "1              0.018230\n",
       "2              0.018056\n",
       "3              0.016280\n",
       "4              0.016277\n",
       "5              0.016224\n",
       "6              0.016079\n",
       "7              0.015997\n",
       "8              0.015959\n",
       "9              0.015993\n",
       "10             0.016168"
      ]
     },
     "execution_count": 10,
     "metadata": {},
     "output_type": "execute_result"
    }
   ],
   "source": [
    "# Grid search for best polynomial degree (takes 1.5 minutes)\n",
    "param_grid = {\"preprocessor__carat__poly__degree\": range(1, 11)}\n",
    "\n",
    "search = GridSearchCV(\n",
    "    gamma_regression,\n",
    "    param_grid=param_grid,\n",
    "    scoring=\"neg_mean_gamma_deviance\",\n",
    "    cv=KFold(n_splits=5, shuffle=True, random_state=4302),\n",
    ")\n",
    "search.fit(X=df_train, y=y_train)\n",
    "\n",
    "# Organize results\n",
    "results = pd.DataFrame(\n",
    "    -search.cv_results_[\"mean_test_score\"],\n",
    "    index=param_grid[\"preprocessor__carat__poly__degree\"],\n",
    "    columns=[\"mean_gamma_deviance\"],\n",
    ")\n",
    "results"
   ]
  },
  {
   "cell_type": "code",
   "execution_count": 11,
   "metadata": {},
   "outputs": [
    {
     "name": "stdout",
     "output_type": "stream",
     "text": [
      "Mean deviance on the test data: 0.015\n"
     ]
    }
   ],
   "source": [
    "# The model was automatically refitted on the train data with optimal degree:\n",
    "print(f\"Mean deviance on the test data: {-search.score(df_test, y_test):.3f}\")"
   ]
  },
  {
   "cell_type": "markdown",
   "metadata": {},
   "source": [
    "**Comments:** The optimal degree seems to be 8 with a CV deviance of 0.016. The test performance is not too different. Caution: Instead of using such high degree polynomial, it is almost always better to use regression splines.\n",
    "\n",
    "## Exercise 3 (optional)\n",
    "\n",
    "Solution not shown here.\n",
    "\n",
    "# Chapter 3: Trees\n",
    "\n",
    "## Exercises on Random Forests\n",
    "\n",
    "### Exercise 1"
   ]
  },
  {
   "cell_type": "code",
   "execution_count": 12,
   "metadata": {},
   "outputs": [
    {
     "name": "stdout",
     "output_type": "stream",
     "text": [
      "OOB R-squared: 98.07%\n"
     ]
    }
   ],
   "source": [
    "import numpy as np\n",
    "from plotnine.data import diamonds\n",
    "from sklearn.preprocessing import OrdinalEncoder, KBinsDiscretizer, FunctionTransformer\n",
    "from sklearn.model_selection import train_test_split\n",
    "from sklearn.compose import ColumnTransformer\n",
    "from sklearn.pipeline import make_pipeline\n",
    "from sklearn.ensemble import RandomForestRegressor\n",
    "from sklearn.metrics import mean_squared_error\n",
    "\n",
    "# Stratified train/test split\n",
    "binner = KBinsDiscretizer(n_bins=10, encode=\"ordinal\")\n",
    "y_binned = binner.fit_transform(diamonds[[\"price\"]])\n",
    "\n",
    "df_train, df_test, y_train, y_test = train_test_split(\n",
    "    diamonds, diamonds[\"price\"], test_size=0.2, random_state=341, stratify=y_binned\n",
    ")\n",
    "\n",
    "# Pipeline with model\n",
    "ord_features = [\"cut\", \"color\", \"clarity\"]\n",
    "ord_levels = [diamonds[x].cat.categories.to_list() for x in ord_features]\n",
    "\n",
    "model = make_pipeline(\n",
    "    ColumnTransformer(\n",
    "        transformers=[\n",
    "            (\"ordinal\", OrdinalEncoder(categories=ord_levels), ord_features),\n",
    "            (\"numeric\", FunctionTransformer(np.log), [\"carat\"]),\n",
    "        ]\n",
    "    ),\n",
    "    RandomForestRegressor(\n",
    "        n_estimators=500,\n",
    "        max_features=\"sqrt\",\n",
    "        min_samples_leaf=5,\n",
    "        oob_score=True,\n",
    "        random_state=17,\n",
    "        n_jobs=4,\n",
    "    ),\n",
    ")\n",
    "model.fit(df_train, y_train)\n",
    "\n",
    "# OOB performance\n",
    "print(f\"OOB R-squared: {model[-1].oob_score_:.2%}\")"
   ]
  },
  {
   "cell_type": "code",
   "execution_count": 13,
   "metadata": {},
   "outputs": [
    {
     "name": "stdout",
     "output_type": "stream",
     "text": [
      "Test RMSE: 554.874\n",
      "Test R-squared: 98.05%\n"
     ]
    }
   ],
   "source": [
    "# Test performance\n",
    "rmse_test = mean_squared_error(y_test, model.predict(df_test), squared=False)\n",
    "print(f\"Test RMSE: {rmse_test:.3f}\")\n",
    "print(f\"Test R-squared: {model.score(df_test, y_test):.2%}\")"
   ]
  },
  {
   "cell_type": "markdown",
   "metadata": {},
   "source": [
    "**Comment:** The results are essentially identical because log is a monotonic trafo. Differences might come from implementation tricks.\n",
    "\n",
    "### Exercise 2"
   ]
  },
  {
   "cell_type": "code",
   "execution_count": 14,
   "metadata": {},
   "outputs": [],
   "source": [
    "import numpy as np\n",
    "import pandas as pd\n",
    "from sklearn.model_selection import train_test_split\n",
    "from sklearn.preprocessing import OrdinalEncoder\n",
    "from sklearn.compose import ColumnTransformer\n",
    "from sklearn.pipeline import Pipeline\n",
    "from sklearn.ensemble import RandomForestClassifier\n",
    "\n",
    "car = pd.read_csv(\"car.csv\")  # see readme how to get the data\n",
    "\n",
    "# Train/test split (stratified split is simple for discrete responses)\n",
    "df_train, df_test, y_train, y_test = train_test_split(\n",
    "    car, car[\"clm\"], test_size=0.2, random_state=5684, stratify=car[\"clm\"]\n",
    ")\n",
    "\n",
    "# Model pipeline. For simplicity, we treat 'veh_body' as ordinal\n",
    "num_vars = [\"veh_value\", \"veh_age\", \"agecat\"]\n",
    "ord_vars = [\"gender\", \"area\", \"veh_body\"]\n",
    "ord_levels = [sorted(car[v].unique()) for v in ord_vars]\n",
    "\n",
    "preprocessor = ColumnTransformer(\n",
    "    transformers=[\n",
    "        (\"ordinal\", OrdinalEncoder(categories=ord_levels), ord_vars),\n",
    "        (\"numeric\", \"passthrough\", num_vars),\n",
    "    ],\n",
    "    verbose_feature_names_out=False,\n",
    ")\n",
    "\n",
    "rf = RandomForestClassifier(\n",
    "    n_estimators=500,\n",
    "    max_features=\"sqrt\",\n",
    "    min_samples_leaf=5,\n",
    "    criterion=\"entropy\",\n",
    "    max_depth=8,\n",
    "    n_jobs=4,  # or set n_jobs in GridSearchCV\n",
    ")\n",
    "\n",
    "model = Pipeline(steps=[(\"preprocessor\", preprocessor), (\"rf\", rf)])"
   ]
  },
  {
   "cell_type": "code",
   "execution_count": 15,
   "metadata": {},
   "outputs": [
    {
     "name": "stdout",
     "output_type": "stream",
     "text": [
      "Best max_depth: {'rf__max_depth': 5}\n"
     ]
    }
   ],
   "source": [
    "# Grid search for 'max_depth' with CV and five (stratified) folds\n",
    "from sklearn.model_selection import GridSearchCV\n",
    "\n",
    "search = GridSearchCV(\n",
    "    model, param_grid={\"rf__max_depth\": range(3, 8)}, scoring=\"neg_log_loss\", cv=5\n",
    ")\n",
    "# Remember: the best model is refitted on training data\n",
    "search.fit(X=df_train, y=y_train)\n",
    "print(f\"Best max_depth: {search.best_params_}\")"
   ]
  },
  {
   "cell_type": "code",
   "execution_count": 16,
   "metadata": {},
   "outputs": [
    {
     "name": "stdout",
     "output_type": "stream",
     "text": [
      "Average test log loss:  0.248\n",
      "Relative improvement in average log loss:  0.218%\n"
     ]
    }
   ],
   "source": [
    "# Performance on test data\n",
    "from sklearn.metrics import log_loss\n",
    "\n",
    "y_pred = search.predict_proba(df_test)\n",
    "test_loss = log_loss(y_test, search.predict_proba(df_test))\n",
    "test_loss0 = log_loss(y_test, np.repeat(y_train.mean(), len(y_test)))\n",
    "rel_imp = (test_loss0 - test_loss) / test_loss0\n",
    "\n",
    "print(f\"Average test log loss: {test_loss: .3f}\")\n",
    "print(f\"Relative improvement in average log loss: {rel_imp: .3%}\")"
   ]
  },
  {
   "cell_type": "code",
   "execution_count": 17,
   "metadata": {},
   "outputs": [
    {
     "data": {
      "image/png": "[encoded data removed]",
      "text/plain": [
       "<Figure size 640x480 with 1 Axes>"
      ]
     },
     "metadata": {},
     "output_type": "display_data"
    }
   ],
   "source": [
    "# Variable importance\n",
    "feature_names = search.best_estimator_[:-1].get_feature_names_out()\n",
    "imps = pd.Series(search.best_estimator_[-1].feature_importances_, index=feature_names)\n",
    "_ = imps.sort_values().plot(kind=\"barh\", title=\"Split gain importance\")"
   ]
  },
  {
   "cell_type": "code",
   "execution_count": 18,
   "metadata": {},
   "outputs": [
    {
     "data": {
      "application/vnd.plotly.v1+json": {
       "config": {
        "displaylogo": false,
        "modeBarButtonsToRemove": [
         "sendDataToCloud",
         "lasso2d",
         "autoScale2d",
         "select2d",
         "zoom2d",
         "pan2d",
         "zoomIn2d",
         "zoomOut2d",
         "resetScale2d",
         "toggleSpikelines",
         "hoverCompareCartesian",
         "hoverClosestCartesian"
        ],
        "plotlyServerURL": "https://plot.ly",
        "staticPlot": false,
        "toImageButtonOptions": {
         "height": null,
         "width": null
        }
       },
       "data": [
        {
         "customdata": [
          [
           0.06834367692662273,
           "Partial depencence for numeric variables",
           "veh_value"
          ],
          [
           0.06834367692662273,
           "Partial depencence for numeric variables",
           "veh_value"
          ],
          [
           0.06834367692662273,
           "Partial depencence for numeric variables",
           "veh_value"
          ],
          [
           0.06834367692662273,
           "Partial depencence for numeric variables",
           "veh_value"
          ],
          [
           0.06834367692662273,
           "Partial depencence for numeric variables",
           "veh_value"
          ],
          [
           0.06834367692662273,
           "Partial depencence for numeric variables",
           "veh_value"
          ],
          [
           0.06834367692662273,
           "Partial depencence for numeric variables",
           "veh_value"
          ],
          [
           0.06834367692662273,
           "Partial depencence for numeric variables",
           "veh_value"
          ],
          [
           0.06834367692662273,
           "Partial depencence for numeric variables",
           "veh_value"
          ],
          [
           0.06834367692662273,
           "Partial depencence for numeric variables",
           "veh_value"
          ],
          [
           0.06834367692662273,
           "Partial depencence for numeric variables",
           "veh_value"
          ],
          [
           0.06834367692662273,
           "Partial depencence for numeric variables",
           "veh_value"
          ],
          [
           0.06834367692662273,
           "Partial depencence for numeric variables",
           "veh_value"
          ],
          [
           0.06834367692662273,
           "Partial depencence for numeric variables",
           "veh_value"
          ],
          [
           0.06834367692662273,
           "Partial depencence for numeric variables",
           "veh_value"
          ],
          [
           0.06834367692662273,
           "Partial depencence for numeric variables",
           "veh_value"
          ],
          [
           0.06834367692662273,
           "Partial depencence for numeric variables",
           "veh_value"
          ],
          [
           0.06834367692662273,
           "Partial depencence for numeric variables",
           "veh_value"
          ],
          [
           0.06834367692662273,
           "Partial depencence for numeric variables",
           "veh_value"
          ],
          [
           0.06834367692662273,
           "Partial depencence for numeric variables",
           "veh_value"
          ],
          [
           0.06834367692662273,
           "Partial depencence for numeric variables",
           "veh_value"
          ],
          [
           0.06834367692662273,
           "Partial depencence for numeric variables",
           "veh_value"
          ],
          [
           0.06834367692662273,
           "Partial depencence for numeric variables",
           "veh_value"
          ],
          [
           0.06834367692662273,
           "Partial depencence for numeric variables",
           "veh_value"
          ],
          [
           0.06834367692662273,
           "Partial depencence for numeric variables",
           "veh_value"
          ],
          [
           0.06834367692662273,
           "Partial depencence for numeric variables",
           "veh_value"
          ],
          [
           0.06834367692662273,
           "Partial depencence for numeric variables",
           "veh_value"
          ],
          [
           0.06834367692662273,
           "Partial depencence for numeric variables",
           "veh_value"
          ],
          [
           0.06834367692662273,
           "Partial depencence for numeric variables",
           "veh_value"
          ],
          [
           0.06834367692662273,
           "Partial depencence for numeric variables",
           "veh_value"
          ],
          [
           0.06834367692662273,
           "Partial depencence for numeric variables",
           "veh_value"
          ],
          [
           0.06834367692662273,
           "Partial depencence for numeric variables",
           "veh_value"
          ],
          [
           0.06834367692662273,
           "Partial depencence for numeric variables",
           "veh_value"
          ],
          [
           0.06834367692662273,
           "Partial depencence for numeric variables",
           "veh_value"
          ],
          [
           0.06834367692662273,
           "Partial depencence for numeric variables",
           "veh_value"
          ],
          [
           0.06834367692662273,
           "Partial depencence for numeric variables",
           "veh_value"
          ],
          [
           0.06834367692662273,
           "Partial depencence for numeric variables",
           "veh_value"
          ],
          [
           0.06834367692662273,
           "Partial depencence for numeric variables",
           "veh_value"
          ],
          [
           0.06834367692662273,
           "Partial depencence for numeric variables",
           "veh_value"
          ],
          [
           0.06834367692662273,
           "Partial depencence for numeric variables",
           "veh_value"
          ],
          [
           0.06834367692662273,
           "Partial depencence for numeric variables",
           "veh_value"
          ]
         ],
         "hovertemplate": "<b>%{hovertext}</b><br><br>prediction=%{y:.3f}<br>mean_prediction=%{customdata[0]:.3f}<extra></extra>",
         "hovertext": [
          "Partial depencence for numeric variables",
          "Partial depencence for numeric variables",
          "Partial depencence for numeric variables",
          "Partial depencence for numeric variables",
          "Partial depencence for numeric variables",
          "Partial depencence for numeric variables",
          "Partial depencence for numeric variables",
          "Partial depencence for numeric variables",
          "Partial depencence for numeric variables",
          "Partial depencence for numeric variables",
          "Partial depencence for numeric variables",
          "Partial depencence for numeric variables",
          "Partial depencence for numeric variables",
          "Partial depencence for numeric variables",
          "Partial depencence for numeric variables",
          "Partial depencence for numeric variables",
          "Partial depencence for numeric variables",
          "Partial depencence for numeric variables",
          "Partial depencence for numeric variables",
          "Partial depencence for numeric variables",
          "Partial depencence for numeric variables",
          "Partial depencence for numeric variables",
          "Partial depencence for numeric variables",
          "Partial depencence for numeric variables",
          "Partial depencence for numeric variables",
          "Partial depencence for numeric variables",
          "Partial depencence for numeric variables",
          "Partial depencence for numeric variables",
          "Partial depencence for numeric variables",
          "Partial depencence for numeric variables",
          "Partial depencence for numeric variables",
          "Partial depencence for numeric variables",
          "Partial depencence for numeric variables",
          "Partial depencence for numeric variables",
          "Partial depencence for numeric variables",
          "Partial depencence for numeric variables",
          "Partial depencence for numeric variables",
          "Partial depencence for numeric variables",
          "Partial depencence for numeric variables",
          "Partial depencence for numeric variables",
          "Partial depencence for numeric variables"
         ],
         "legendgroup": "Partial depencence for numeric variables",
         "line": {
          "color": "#46bac2",
          "dash": "solid",
          "width": 2
         },
         "marker": {
          "symbol": "circle"
         },
         "mode": "lines",
         "name": "Partial depencence for numeric variables",
         "opacity": 1,
         "orientation": "v",
         "showlegend": true,
         "type": "scatter",
         "x": [
          0,
          0.125,
          0.25,
          0.375,
          0.5,
          0.625,
          0.75,
          0.875,
          1,
          1.125,
          1.25,
          1.375,
          1.5,
          1.625,
          1.75,
          1.875,
          2,
          2.125,
          2.25,
          2.375,
          2.5,
          2.625,
          2.75,
          2.875,
          3,
          3.125,
          3.25,
          3.375,
          3.5,
          3.625,
          3.75,
          3.875,
          4,
          4.125,
          4.25,
          4.375,
          4.5,
          4.625,
          4.75,
          4.875,
          5
         ],
         "xaxis": "x3",
         "y": [
          0.06473191366659942,
          0.057058387120654856,
          0.051101103522320966,
          0.05422387025670812,
          0.05783718079350212,
          0.05779453856806301,
          0.057610285773799536,
          0.05887255392262085,
          0.05984331220892045,
          0.061566216439824684,
          0.0623839684582658,
          0.06957304323892366,
          0.07035669218244538,
          0.07079501813464571,
          0.07059266936780659,
          0.07155165809169876,
          0.07250195008128385,
          0.07306356393132248,
          0.07526417971053306,
          0.07570979997819843,
          0.07567041900857668,
          0.0758261004484827,
          0.07606116901563444,
          0.0774272711482238,
          0.07730138281418229,
          0.07728667072935447,
          0.07791201721082401,
          0.07815785257497228,
          0.07866233881126161,
          0.07947671184836441,
          0.07948144660203522,
          0.07939843068019295,
          0.07998130480070903,
          0.07829789545133993,
          0.07759298145452419,
          0.0776204424719622,
          0.07815470915766776,
          0.07808233739547103,
          0.0778090910678175,
          0.07787610844138772,
          0.0779428983299334
         ],
         "yaxis": "y3"
        },
        {
         "customdata": [
          [
           0.06834367692662273,
           "Partial depencence for numeric variables",
           "agecat"
          ],
          [
           0.06834367692662273,
           "Partial depencence for numeric variables",
           "agecat"
          ],
          [
           0.06834367692662273,
           "Partial depencence for numeric variables",
           "agecat"
          ],
          [
           0.06834367692662273,
           "Partial depencence for numeric variables",
           "agecat"
          ],
          [
           0.06834367692662273,
           "Partial depencence for numeric variables",
           "agecat"
          ],
          [
           0.06834367692662273,
           "Partial depencence for numeric variables",
           "agecat"
          ]
         ],
         "hovertemplate": "<b>%{hovertext}</b><br><br>prediction=%{y:.3f}<br>mean_prediction=%{customdata[0]:.3f}<extra></extra>",
         "hovertext": [
          "Partial depencence for numeric variables",
          "Partial depencence for numeric variables",
          "Partial depencence for numeric variables",
          "Partial depencence for numeric variables",
          "Partial depencence for numeric variables",
          "Partial depencence for numeric variables"
         ],
         "legendgroup": "Partial depencence for numeric variables",
         "line": {
          "color": "#46bac2",
          "dash": "solid",
          "width": 2
         },
         "marker": {
          "symbol": "circle"
         },
         "mode": "lines",
         "name": "Partial depencence for numeric variables",
         "opacity": 1,
         "orientation": "v",
         "showlegend": false,
         "type": "scatter",
         "x": [
          1,
          2,
          3,
          4,
          5,
          6
         ],
         "xaxis": "x4",
         "y": [
          0.08040441650359435,
          0.0716261543821049,
          0.07138030675206194,
          0.06676872191369435,
          0.059271164401220204,
          0.05879525790852028
         ],
         "yaxis": "y4"
        },
        {
         "customdata": [
          [
           0.06834367692662273,
           "Partial depencence for numeric variables",
           "veh_age"
          ],
          [
           0.06834367692662273,
           "Partial depencence for numeric variables",
           "veh_age"
          ],
          [
           0.06834367692662273,
           "Partial depencence for numeric variables",
           "veh_age"
          ],
          [
           0.06834367692662273,
           "Partial depencence for numeric variables",
           "veh_age"
          ]
         ],
         "hovertemplate": "<b>%{hovertext}</b><br><br>prediction=%{y:.3f}<br>mean_prediction=%{customdata[0]:.3f}<extra></extra>",
         "hovertext": [
          "Partial depencence for numeric variables",
          "Partial depencence for numeric variables",
          "Partial depencence for numeric variables",
          "Partial depencence for numeric variables"
         ],
         "legendgroup": "Partial depencence for numeric variables",
         "line": {
          "color": "#46bac2",
          "dash": "solid",
          "width": 2
         },
         "marker": {
          "symbol": "circle"
         },
         "mode": "lines",
         "name": "Partial depencence for numeric variables",
         "opacity": 1,
         "orientation": "v",
         "showlegend": false,
         "type": "scatter",
         "x": [
          1,
          2,
          3,
          4
         ],
         "xaxis": "x",
         "y": [
          0.06551999481188726,
          0.06879527294448422,
          0.06877837449038353,
          0.06884953966810779
         ],
         "yaxis": "y"
        }
       ],
       "layout": {
        "annotations": [
         {
          "font": {
           "size": 13
          },
          "showarrow": false,
          "text": "veh_age",
          "x": 0.2375,
          "xanchor": "center",
          "xref": "paper",
          "y": 0.425,
          "yanchor": "bottom",
          "yref": "paper"
         },
         {
          "font": {
           "size": 13
          },
          "showarrow": false,
          "text": "veh_value",
          "x": 0.2375,
          "xanchor": "center",
          "xref": "paper",
          "y": 1,
          "yanchor": "bottom",
          "yref": "paper"
         },
         {
          "font": {
           "size": 13
          },
          "showarrow": false,
          "text": "agecat",
          "x": 0.7625,
          "xanchor": "center",
          "xref": "paper",
          "y": 1,
          "yanchor": "bottom",
          "yref": "paper"
         },
         {
          "font": {
           "size": 13
          },
          "showarrow": false,
          "text": "prediction",
          "textangle": -90,
          "x": -0.07,
          "xref": "paper",
          "y": 0.5,
          "yref": "paper"
         }
        ],
        "font": {
         "color": "#371ea3"
        },
        "height": 829,
        "hovermode": "x unified",
        "legend": {
         "font": {
          "size": 11
         },
         "itemsizing": "constant",
         "orientation": "h",
         "title": {
          "font": {
           "size": 12
          },
          "text": "label"
         },
         "tracegroupgap": 0,
         "x": 1,
         "xanchor": "right",
         "y": 1.0361881785283473,
         "yanchor": "bottom"
        },
        "margin": {
         "b": 71,
         "r": 30,
         "t": 78
        },
        "template": {
         "data": {
          "scatter": [
           {
            "type": "scatter"
           }
          ]
         }
        },
        "title": {
         "font": {
          "size": 16
         },
         "text": "Aggregated Profiles",
         "x": 0.15
        },
        "xaxis": {
         "anchor": "y",
         "automargin": true,
         "domain": [
          0,
          0.475
         ],
         "fixedrange": true,
         "gridwidth": 2,
         "showticklabels": true,
         "tickcolor": "white",
         "ticklen": 3,
         "ticks": "outside",
         "title": {
          "text": ""
         },
         "type": "linear",
         "zeroline": false
        },
        "xaxis2": {
         "anchor": "y2",
         "automargin": true,
         "domain": [
          0.525,
          1
         ],
         "fixedrange": true,
         "gridwidth": 2,
         "showticklabels": true,
         "tickcolor": "white",
         "ticklen": 3,
         "ticks": "outside",
         "title": {
          "text": ""
         },
         "type": "linear",
         "zeroline": false
        },
        "xaxis3": {
         "anchor": "y3",
         "automargin": true,
         "domain": [
          0,
          0.475
         ],
         "fixedrange": true,
         "gridwidth": 2,
         "showticklabels": true,
         "tickcolor": "white",
         "ticklen": 3,
         "ticks": "outside",
         "title": {
          "text": ""
         },
         "type": "linear",
         "zeroline": false
        },
        "xaxis4": {
         "anchor": "y4",
         "automargin": true,
         "domain": [
          0.525,
          1
         ],
         "fixedrange": true,
         "gridwidth": 2,
         "showticklabels": true,
         "tickcolor": "white",
         "ticklen": 3,
         "ticks": "outside",
         "title": {
          "text": ""
         },
         "type": "linear",
         "zeroline": false
        },
        "yaxis": {
         "anchor": "x",
         "automargin": true,
         "domain": [
          0,
          0.425
         ],
         "fixedrange": true,
         "gridwidth": 2,
         "showticklabels": true,
         "tickcolor": "white",
         "ticklen": 3,
         "ticks": "outside",
         "title": {
          "text": ""
         },
         "type": "linear",
         "zeroline": false
        },
        "yaxis2": {
         "anchor": "x2",
         "automargin": true,
         "domain": [
          0,
          0.425
         ],
         "fixedrange": true,
         "gridwidth": 2,
         "showticklabels": true,
         "tickcolor": "white",
         "ticklen": 3,
         "ticks": "outside",
         "title": {
          "text": ""
         },
         "type": "linear",
         "zeroline": false
        },
        "yaxis3": {
         "anchor": "x3",
         "automargin": true,
         "domain": [
          0.575,
          1
         ],
         "fixedrange": true,
         "gridwidth": 2,
         "showticklabels": true,
         "tickcolor": "white",
         "ticklen": 3,
         "ticks": "outside",
         "title": {
          "text": ""
         },
         "type": "linear",
         "zeroline": false
        },
        "yaxis4": {
         "anchor": "x4",
         "automargin": true,
         "domain": [
          0.575,
          1
         ],
         "fixedrange": true,
         "gridwidth": 2,
         "showticklabels": true,
         "tickcolor": "white",
         "ticklen": 3,
         "ticks": "outside",
         "title": {
          "text": ""
         },
         "type": "linear",
         "zeroline": false
        }
       }
      }
     },
     "metadata": {},
     "output_type": "display_data"
    },
    {
     "data": {
      "application/vnd.plotly.v1+json": {
       "config": {
        "displaylogo": false,
        "modeBarButtonsToRemove": [
         "sendDataToCloud",
         "lasso2d",
         "autoScale2d",
         "select2d",
         "zoom2d",
         "pan2d",
         "zoomIn2d",
         "zoomOut2d",
         "resetScale2d",
         "toggleSpikelines",
         "hoverCompareCartesian",
         "hoverClosestCartesian"
        ],
        "plotlyServerURL": "https://plot.ly",
        "staticPlot": false,
        "toImageButtonOptions": {
         "height": null,
         "width": null
        }
       },
       "data": [
        {
         "alignmentgroup": "True",
         "base": [
          0.06692438097260901,
          0.06692438097260901
         ],
         "customdata": [
          [
           0.06718941835267417,
           "Partial depencence for categorical variables",
           "gender"
          ],
          [
           0.06650797928702289,
           "Partial depencence for categorical variables",
           "gender"
          ]
         ],
         "hovertemplate": "<b>%{hovertext}</b><br><br>mean_prediction=%{base:.3f}<br>prediction=%{customdata[0]:.3f}<extra></extra>",
         "hovertext": [
          "Partial depencence for categorical variables",
          "Partial depencence for categorical variables"
         ],
         "legendgroup": "Partial depencence for categorical variables",
         "marker": {
          "color": "#46bac2",
          "pattern": {
           "shape": ""
          }
         },
         "name": "Partial depencence for categorical variables",
         "offsetgroup": "Partial depencence for categorical variables",
         "orientation": "v",
         "showlegend": true,
         "textposition": "auto",
         "type": "bar",
         "x": [
          "F",
          "M"
         ],
         "xaxis": "x3",
         "y": [
          0.00026503738006515565,
          -0.00041640168558612634
         ],
         "yaxis": "y3"
        },
        {
         "alignmentgroup": "True",
         "base": [
          0.06692438097260901,
          0.06692438097260901,
          0.06692438097260901,
          0.06692438097260901,
          0.06692438097260901,
          0.06692438097260901
         ],
         "customdata": [
          [
           0.06659337541629363,
           "Partial depencence for categorical variables",
           "area"
          ],
          [
           0.0677122337990529,
           "Partial depencence for categorical variables",
           "area"
          ],
          [
           0.06714327133639222,
           "Partial depencence for categorical variables",
           "area"
          ],
          [
           0.06600526355737492,
           "Partial depencence for categorical variables",
           "area"
          ],
          [
           0.06609636112395333,
           "Partial depencence for categorical variables",
           "area"
          ],
          [
           0.06683555096058627,
           "Partial depencence for categorical variables",
           "area"
          ]
         ],
         "hovertemplate": "<b>%{hovertext}</b><br><br>mean_prediction=%{base:.3f}<br>prediction=%{customdata[0]:.3f}<extra></extra>",
         "hovertext": [
          "Partial depencence for categorical variables",
          "Partial depencence for categorical variables",
          "Partial depencence for categorical variables",
          "Partial depencence for categorical variables",
          "Partial depencence for categorical variables",
          "Partial depencence for categorical variables"
         ],
         "legendgroup": "Partial depencence for categorical variables",
         "marker": {
          "color": "#46bac2",
          "pattern": {
           "shape": ""
          }
         },
         "name": "Partial depencence for categorical variables",
         "offsetgroup": "Partial depencence for categorical variables",
         "orientation": "v",
         "showlegend": false,
         "textposition": "auto",
         "type": "bar",
         "x": [
          "A",
          "B",
          "C",
          "D",
          "E",
          "F"
         ],
         "xaxis": "x4",
         "y": [
          -0.000331005556315378,
          0.0007878528264438911,
          0.00021889036378321125,
          -0.0009191174152340942,
          -0.0008280198486556867,
          -0.00008883001202274199
         ],
         "yaxis": "y4"
        },
        {
         "alignmentgroup": "True",
         "base": [
          0.06692438097260901,
          0.06692438097260901,
          0.06692438097260901,
          0.06692438097260901,
          0.06692438097260901,
          0.06692438097260901,
          0.06692438097260901,
          0.06692438097260901,
          0.06692438097260901,
          0.06692438097260901,
          0.06692438097260901,
          0.06692438097260901,
          0.06692438097260901
         ],
         "customdata": [
          [
           0.10049733081678026,
           "Partial depencence for categorical variables",
           "veh_body"
          ],
          [
           0.07441061812830313,
           "Partial depencence for categorical variables",
           "veh_body"
          ],
          [
           0.07275275718451647,
           "Partial depencence for categorical variables",
           "veh_body"
          ],
          [
           0.06743583685677325,
           "Partial depencence for categorical variables",
           "veh_body"
          ],
          [
           0.06854396108304302,
           "Partial depencence for categorical variables",
           "veh_body"
          ],
          [
           0.06828259460431406,
           "Partial depencence for categorical variables",
           "veh_body"
          ],
          [
           0.06769011878289741,
           "Partial depencence for categorical variables",
           "veh_body"
          ],
          [
           0.0678748802477558,
           "Partial depencence for categorical variables",
           "veh_body"
          ],
          [
           0.06764640792454552,
           "Partial depencence for categorical variables",
           "veh_body"
          ],
          [
           0.06703899466352238,
           "Partial depencence for categorical variables",
           "veh_body"
          ],
          [
           0.06702049666446634,
           "Partial depencence for categorical variables",
           "veh_body"
          ],
          [
           0.06535526219275783,
           "Partial depencence for categorical variables",
           "veh_body"
          ],
          [
           0.061645431071103214,
           "Partial depencence for categorical variables",
           "veh_body"
          ]
         ],
         "hovertemplate": "<b>%{hovertext}</b><br><br>mean_prediction=%{base:.3f}<br>prediction=%{customdata[0]:.3f}<extra></extra>",
         "hovertext": [
          "Partial depencence for categorical variables",
          "Partial depencence for categorical variables",
          "Partial depencence for categorical variables",
          "Partial depencence for categorical variables",
          "Partial depencence for categorical variables",
          "Partial depencence for categorical variables",
          "Partial depencence for categorical variables",
          "Partial depencence for categorical variables",
          "Partial depencence for categorical variables",
          "Partial depencence for categorical variables",
          "Partial depencence for categorical variables",
          "Partial depencence for categorical variables",
          "Partial depencence for categorical variables"
         ],
         "legendgroup": "Partial depencence for categorical variables",
         "marker": {
          "color": "#46bac2",
          "pattern": {
           "shape": ""
          }
         },
         "name": "Partial depencence for categorical variables",
         "offsetgroup": "Partial depencence for categorical variables",
         "orientation": "v",
         "showlegend": false,
         "textposition": "auto",
         "type": "bar",
         "x": [
          "BUS",
          "CONVT",
          "COUPE",
          "HBACK",
          "HDTOP",
          "MCARA",
          "MIBUS",
          "PANVN",
          "RDSTR",
          "SEDAN",
          "STNWG",
          "TRUCK",
          "UTE"
         ],
         "xaxis": "x",
         "y": [
          0.03357294984417125,
          0.007486237155694117,
          0.00582837621190746,
          0.0005114558841642358,
          0.0016195801104340046,
          0.0013582136317050464,
          0.0007657378102883944,
          0.0009504992751467878,
          0.0007220269519365025,
          0.0001146136909133677,
          0.00009611569185732916,
          -0.001569118779851178,
          -0.005278949901505799
         ],
         "yaxis": "y"
        }
       ],
       "layout": {
        "annotations": [
         {
          "font": {
           "size": 13
          },
          "showarrow": false,
          "text": "veh_body",
          "x": 0.2375,
          "xanchor": "center",
          "xref": "paper",
          "y": 0.425,
          "yanchor": "bottom",
          "yref": "paper"
         },
         {
          "font": {
           "size": 13
          },
          "showarrow": false,
          "text": "gender",
          "x": 0.2375,
          "xanchor": "center",
          "xref": "paper",
          "y": 1,
          "yanchor": "bottom",
          "yref": "paper"
         },
         {
          "font": {
           "size": 13
          },
          "showarrow": false,
          "text": "area",
          "x": 0.7625,
          "xanchor": "center",
          "xref": "paper",
          "y": 1,
          "yanchor": "bottom",
          "yref": "paper"
         },
         {
          "font": {
           "size": 13
          },
          "showarrow": false,
          "text": "prediction",
          "textangle": -90,
          "x": -0.07,
          "xref": "paper",
          "y": 0.5,
          "yref": "paper"
         }
        ],
        "barmode": "group",
        "font": {
         "color": "#371ea3"
        },
        "height": 829,
        "hovermode": "x unified",
        "legend": {
         "font": {
          "size": 11
         },
         "itemsizing": "constant",
         "orientation": "h",
         "title": {
          "font": {
           "size": 12
          },
          "text": "label"
         },
         "tracegroupgap": 0,
         "x": 1,
         "xanchor": "right",
         "y": 1.0361881785283473,
         "yanchor": "bottom"
        },
        "margin": {
         "b": 71,
         "r": 30,
         "t": 78
        },
        "shapes": [
         {
          "layer": "below",
          "line": {
           "color": "#371ea3",
           "dash": "dot",
           "width": 1.5
          },
          "type": "line",
          "x0": 0,
          "x1": 1,
          "xref": "x domain",
          "y0": 0.06692438097260901,
          "y1": 0.06692438097260901,
          "yref": "y"
         },
         {
          "layer": "below",
          "line": {
           "color": "#371ea3",
           "dash": "dot",
           "width": 1.5
          },
          "type": "line",
          "x0": 0,
          "x1": 1,
          "xref": "x3 domain",
          "y0": 0.06692438097260901,
          "y1": 0.06692438097260901,
          "yref": "y3"
         },
         {
          "layer": "below",
          "line": {
           "color": "#371ea3",
           "dash": "dot",
           "width": 1.5
          },
          "type": "line",
          "x0": 0,
          "x1": 1,
          "xref": "x4 domain",
          "y0": 0.06692438097260901,
          "y1": 0.06692438097260901,
          "yref": "y4"
         },
         {
          "layer": "below",
          "line": {
           "color": "#371ea3",
           "dash": "dot",
           "width": 1.5
          },
          "type": "line",
          "x0": 0,
          "x1": 1,
          "xref": "x domain",
          "y0": 0.06692438097260901,
          "y1": 0.06692438097260901,
          "yref": "y"
         },
         {
          "layer": "below",
          "line": {
           "color": "#371ea3",
           "dash": "dot",
           "width": 1.5
          },
          "type": "line",
          "x0": 0,
          "x1": 1,
          "xref": "x3 domain",
          "y0": 0.06692438097260901,
          "y1": 0.06692438097260901,
          "yref": "y3"
         },
         {
          "layer": "below",
          "line": {
           "color": "#371ea3",
           "dash": "dot",
           "width": 1.5
          },
          "type": "line",
          "x0": 0,
          "x1": 1,
          "xref": "x4 domain",
          "y0": 0.06692438097260901,
          "y1": 0.06692438097260901,
          "yref": "y4"
         },
         {
          "layer": "below",
          "line": {
           "color": "#371ea3",
           "dash": "dot",
           "width": 1.5
          },
          "type": "line",
          "x0": 0,
          "x1": 1,
          "xref": "x domain",
          "y0": 0.06692438097260901,
          "y1": 0.06692438097260901,
          "yref": "y"
         },
         {
          "layer": "below",
          "line": {
           "color": "#371ea3",
           "dash": "dot",
           "width": 1.5
          },
          "type": "line",
          "x0": 0,
          "x1": 1,
          "xref": "x3 domain",
          "y0": 0.06692438097260901,
          "y1": 0.06692438097260901,
          "yref": "y3"
         },
         {
          "layer": "below",
          "line": {
           "color": "#371ea3",
           "dash": "dot",
           "width": 1.5
          },
          "type": "line",
          "x0": 0,
          "x1": 1,
          "xref": "x4 domain",
          "y0": 0.06692438097260901,
          "y1": 0.06692438097260901,
          "yref": "y4"
         }
        ],
        "template": {
         "data": {
          "scatter": [
           {
            "type": "scatter"
           }
          ]
         }
        },
        "title": {
         "font": {
          "size": 16
         },
         "text": "Aggregated Profiles",
         "x": 0.15
        },
        "xaxis": {
         "anchor": "y",
         "automargin": true,
         "domain": [
          0,
          0.475
         ],
         "fixedrange": true,
         "gridwidth": 2,
         "showticklabels": true,
         "tickcolor": "white",
         "ticklen": 10,
         "ticks": "outside",
         "title": {
          "text": ""
         },
         "type": "category"
        },
        "xaxis2": {
         "anchor": "y2",
         "automargin": true,
         "domain": [
          0.525,
          1
         ],
         "fixedrange": true,
         "gridwidth": 2,
         "showticklabels": true,
         "tickcolor": "white",
         "ticklen": 10,
         "ticks": "outside",
         "title": {
          "text": ""
         },
         "type": "category"
        },
        "xaxis3": {
         "anchor": "y3",
         "automargin": true,
         "domain": [
          0,
          0.475
         ],
         "fixedrange": true,
         "gridwidth": 2,
         "showticklabels": true,
         "tickcolor": "white",
         "ticklen": 10,
         "ticks": "outside",
         "title": {
          "text": ""
         },
         "type": "category"
        },
        "xaxis4": {
         "anchor": "y4",
         "automargin": true,
         "domain": [
          0.525,
          1
         ],
         "fixedrange": true,
         "gridwidth": 2,
         "showticklabels": true,
         "tickcolor": "white",
         "ticklen": 10,
         "ticks": "outside",
         "title": {
          "text": ""
         },
         "type": "category"
        },
        "yaxis": {
         "anchor": "x",
         "automargin": true,
         "domain": [
          0,
          0.425
         ],
         "fixedrange": true,
         "gridwidth": 2,
         "showticklabels": true,
         "tickcolor": "white",
         "ticklen": 3,
         "ticks": "outside",
         "title": {
          "text": ""
         },
         "type": "linear",
         "zeroline": false
        },
        "yaxis2": {
         "anchor": "x2",
         "automargin": true,
         "domain": [
          0,
          0.425
         ],
         "fixedrange": true,
         "gridwidth": 2,
         "showticklabels": true,
         "tickcolor": "white",
         "ticklen": 3,
         "ticks": "outside",
         "title": {
          "text": ""
         },
         "type": "linear",
         "zeroline": false
        },
        "yaxis3": {
         "anchor": "x3",
         "automargin": true,
         "domain": [
          0.575,
          1
         ],
         "fixedrange": true,
         "gridwidth": 2,
         "showticklabels": true,
         "tickcolor": "white",
         "ticklen": 3,
         "ticks": "outside",
         "title": {
          "text": ""
         },
         "type": "linear",
         "zeroline": false
        },
        "yaxis4": {
         "anchor": "x4",
         "automargin": true,
         "domain": [
          0.575,
          1
         ],
         "fixedrange": true,
         "gridwidth": 2,
         "showticklabels": true,
         "tickcolor": "white",
         "ticklen": 3,
         "ticks": "outside",
         "title": {
          "text": ""
         },
         "type": "linear",
         "zeroline": false
        }
       }
      }
     },
     "metadata": {},
     "output_type": "display_data"
    }
   ],
   "source": [
    "# Partial dependence plots\n",
    "# Note: As soon as sklearn.inspect.PartialDependenceDisplay\n",
    "# allows for passing a character grid, it is an option as well.\n",
    "import dalex as dx\n",
    "\n",
    "# Define explainer\n",
    "exp = dx.Explainer(\n",
    "    search,\n",
    "    data=df_train,\n",
    "    predict_function=lambda m, X: m.predict_proba(X)[:, 1],\n",
    "    verbose=False,\n",
    ")\n",
    "\n",
    "# Plots\n",
    "num_eval_at = {\n",
    "    \"veh_value\": np.linspace(0, 5, 41),\n",
    "    \"agecat\": sorted(car[\"agecat\"].unique()),\n",
    "    \"veh_age\": sorted(car[\"veh_age\"].unique()),\n",
    "}\n",
    "pdp_num = exp.model_profile(\n",
    "    variable_splits=num_eval_at,\n",
    "    label=\"Partial depencence for numeric variables\",\n",
    "    verbose=False,\n",
    ")\n",
    "pdp_num.plot(facet_scales=\"free\")\n",
    "\n",
    "pdp_cat = exp.model_profile(\n",
    "    variable_type=\"categorical\",\n",
    "    variable_splits=dict(zip(ord_vars, ord_levels)),\n",
    "    label=\"Partial depencence for categorical variables\",\n",
    "    verbose=False,\n",
    ")\n",
    "pdp_cat.plot(facet_scales=\"free\")"
   ]
  },
  {
   "cell_type": "markdown",
   "metadata": {},
   "source": [
    "**Comment:** Test performance with small tree depth seems to be best. When studying relative performance metrics like the relative deviance gain, we can see that performance of the model is very low. TPL claims seem to be mostly determined by bad luck, which makes sense."
   ]
  },
  {
   "cell_type": "markdown",
   "metadata": {},
   "source": [
    "## Exercises on Boosting\n",
    "\n",
    "### Exercise 1"
   ]
  },
  {
   "cell_type": "code",
   "execution_count": 19,
   "metadata": {},
   "outputs": [],
   "source": [
    "import json\n",
    "from pathlib import Path\n",
    "import pandas as pd\n",
    "import xgboost as xgb\n",
    "from plotnine.data import diamonds\n",
    "from sklearn.preprocessing import OrdinalEncoder\n",
    "from sklearn.model_selection import train_test_split\n",
    "from sklearn.compose import make_column_transformer\n",
    "\n",
    "# General settings\n",
    "grid_file = Path(\"gridsearch\") / \"diamonds_xgb.txt\"\n",
    "\n",
    "# Train/test split\n",
    "df_train, df_test, y_train, y_test = train_test_split(\n",
    "    diamonds, diamonds[\"price\"], test_size=0.2, random_state=341\n",
    ")\n",
    "\n",
    "# Preprocessing\n",
    "ord_features = [\"cut\", \"color\", \"clarity\"]\n",
    "ord_levels = [diamonds[x].cat.categories.to_list() for x in ord_features]\n",
    "\n",
    "encoder = make_column_transformer(\n",
    "    (OrdinalEncoder(categories=ord_levels), ord_features),\n",
    "    (\"passthrough\", [\"carat\"]),\n",
    "    verbose_feature_names_out=False,\n",
    ")\n",
    "\n",
    "X_train = encoder.fit_transform(df_train)\n",
    "X_test = encoder.transform(df_test)\n",
    "\n",
    "# XGBoost data interface (feature_names are added for importance plot)\n",
    "feature_names = encoder.get_feature_names_out()\n",
    "dtrain = xgb.DMatrix(X_train, label=y_train, feature_names=feature_names)\n",
    "dtest = xgb.DMatrix(X_test, label=y_test, feature_names=feature_names)"
   ]
  },
  {
   "cell_type": "code",
   "execution_count": 20,
   "metadata": {},
   "outputs": [],
   "source": [
    "# Load grid\n",
    "with open(grid_file) as f:\n",
    "    search = json.load(f)\n",
    "\n",
    "search_df = pd.DataFrame.from_records(\n",
    "    search, columns=[\"num_boost_round\", \"cv_score\", \"train_score\", \"params\"]\n",
    ").sort_values(\"cv_score\")"
   ]
  },
  {
   "cell_type": "code",
   "execution_count": 21,
   "metadata": {},
   "outputs": [],
   "source": [
    "# Add constraints to best parameter combo\n",
    "best = search_df.iloc[0]\n",
    "best.params[\"monotone_constraints\"] = \"(0, 0, 0, 1)\"\n",
    "\n",
    "# Fit on best params\n",
    "fit = xgb.train(params=best.params, dtrain=dtrain, num_boost_round=best.num_boost_round)"
   ]
  },
  {
   "cell_type": "code",
   "execution_count": 22,
   "metadata": {},
   "outputs": [
    {
     "data": {
      "application/vnd.plotly.v1+json": {
       "config": {
        "displaylogo": false,
        "modeBarButtonsToRemove": [
         "sendDataToCloud",
         "lasso2d",
         "autoScale2d",
         "select2d",
         "zoom2d",
         "pan2d",
         "zoomIn2d",
         "zoomOut2d",
         "resetScale2d",
         "toggleSpikelines",
         "hoverCompareCartesian",
         "hoverClosestCartesian"
        ],
        "plotlyServerURL": "https://plot.ly",
        "staticPlot": false,
        "toImageButtonOptions": {
         "height": null,
         "width": null
        }
       },
       "data": [
        {
         "customdata": [
          [
           3752.468017578125,
           "Partial depencence for carat",
           "carat"
          ],
          [
           3752.468017578125,
           "Partial depencence for carat",
           "carat"
          ],
          [
           3752.468017578125,
           "Partial depencence for carat",
           "carat"
          ],
          [
           3752.468017578125,
           "Partial depencence for carat",
           "carat"
          ],
          [
           3752.468017578125,
           "Partial depencence for carat",
           "carat"
          ],
          [
           3752.468017578125,
           "Partial depencence for carat",
           "carat"
          ],
          [
           3752.468017578125,
           "Partial depencence for carat",
           "carat"
          ],
          [
           3752.468017578125,
           "Partial depencence for carat",
           "carat"
          ],
          [
           3752.468017578125,
           "Partial depencence for carat",
           "carat"
          ],
          [
           3752.468017578125,
           "Partial depencence for carat",
           "carat"
          ],
          [
           3752.468017578125,
           "Partial depencence for carat",
           "carat"
          ],
          [
           3752.468017578125,
           "Partial depencence for carat",
           "carat"
          ],
          [
           3752.468017578125,
           "Partial depencence for carat",
           "carat"
          ],
          [
           3752.468017578125,
           "Partial depencence for carat",
           "carat"
          ],
          [
           3752.468017578125,
           "Partial depencence for carat",
           "carat"
          ],
          [
           3752.468017578125,
           "Partial depencence for carat",
           "carat"
          ],
          [
           3752.468017578125,
           "Partial depencence for carat",
           "carat"
          ],
          [
           3752.468017578125,
           "Partial depencence for carat",
           "carat"
          ],
          [
           3752.468017578125,
           "Partial depencence for carat",
           "carat"
          ],
          [
           3752.468017578125,
           "Partial depencence for carat",
           "carat"
          ],
          [
           3752.468017578125,
           "Partial depencence for carat",
           "carat"
          ],
          [
           3752.468017578125,
           "Partial depencence for carat",
           "carat"
          ],
          [
           3752.468017578125,
           "Partial depencence for carat",
           "carat"
          ],
          [
           3752.468017578125,
           "Partial depencence for carat",
           "carat"
          ],
          [
           3752.468017578125,
           "Partial depencence for carat",
           "carat"
          ],
          [
           3752.468017578125,
           "Partial depencence for carat",
           "carat"
          ],
          [
           3752.468017578125,
           "Partial depencence for carat",
           "carat"
          ],
          [
           3752.468017578125,
           "Partial depencence for carat",
           "carat"
          ],
          [
           3752.468017578125,
           "Partial depencence for carat",
           "carat"
          ],
          [
           3752.468017578125,
           "Partial depencence for carat",
           "carat"
          ],
          [
           3752.468017578125,
           "Partial depencence for carat",
           "carat"
          ],
          [
           3752.468017578125,
           "Partial depencence for carat",
           "carat"
          ],
          [
           3752.468017578125,
           "Partial depencence for carat",
           "carat"
          ],
          [
           3752.468017578125,
           "Partial depencence for carat",
           "carat"
          ],
          [
           3752.468017578125,
           "Partial depencence for carat",
           "carat"
          ],
          [
           3752.468017578125,
           "Partial depencence for carat",
           "carat"
          ],
          [
           3752.468017578125,
           "Partial depencence for carat",
           "carat"
          ],
          [
           3752.468017578125,
           "Partial depencence for carat",
           "carat"
          ],
          [
           3752.468017578125,
           "Partial depencence for carat",
           "carat"
          ],
          [
           3752.468017578125,
           "Partial depencence for carat",
           "carat"
          ],
          [
           3752.468017578125,
           "Partial depencence for carat",
           "carat"
          ]
         ],
         "hovertemplate": "<b>%{hovertext}</b><br><br>prediction=%{y:.3f}<br>mean_prediction=%{customdata[0]:.3f}<extra></extra>",
         "hovertext": [
          "Partial depencence for carat",
          "Partial depencence for carat",
          "Partial depencence for carat",
          "Partial depencence for carat",
          "Partial depencence for carat",
          "Partial depencence for carat",
          "Partial depencence for carat",
          "Partial depencence for carat",
          "Partial depencence for carat",
          "Partial depencence for carat",
          "Partial depencence for carat",
          "Partial depencence for carat",
          "Partial depencence for carat",
          "Partial depencence for carat",
          "Partial depencence for carat",
          "Partial depencence for carat",
          "Partial depencence for carat",
          "Partial depencence for carat",
          "Partial depencence for carat",
          "Partial depencence for carat",
          "Partial depencence for carat",
          "Partial depencence for carat",
          "Partial depencence for carat",
          "Partial depencence for carat",
          "Partial depencence for carat",
          "Partial depencence for carat",
          "Partial depencence for carat",
          "Partial depencence for carat",
          "Partial depencence for carat",
          "Partial depencence for carat",
          "Partial depencence for carat",
          "Partial depencence for carat",
          "Partial depencence for carat",
          "Partial depencence for carat",
          "Partial depencence for carat",
          "Partial depencence for carat",
          "Partial depencence for carat",
          "Partial depencence for carat",
          "Partial depencence for carat",
          "Partial depencence for carat",
          "Partial depencence for carat"
         ],
         "legendgroup": "Partial depencence for carat",
         "line": {
          "color": "#46bac2",
          "dash": "solid",
          "width": 2
         },
         "marker": {
          "symbol": "circle"
         },
         "mode": "lines",
         "name": "Partial depencence for carat",
         "opacity": 1,
         "orientation": "v",
         "showlegend": true,
         "type": "scatter",
         "x": [
          0,
          0.075,
          0.15,
          0.22499999999999998,
          0.3,
          0.375,
          0.44999999999999996,
          0.525,
          0.6,
          0.6749999999999999,
          0.75,
          0.825,
          0.8999999999999999,
          0.975,
          1.05,
          1.125,
          1.2,
          1.275,
          1.3499999999999999,
          1.425,
          1.5,
          1.575,
          1.65,
          1.7249999999999999,
          1.7999999999999998,
          1.875,
          1.95,
          2.025,
          2.1,
          2.175,
          2.25,
          2.3249999999999997,
          2.4,
          2.475,
          2.55,
          2.625,
          2.6999999999999997,
          2.775,
          2.85,
          2.925,
          3
         ],
         "xaxis": "x",
         "y": [
          394.08935546875,
          394.08935546875,
          394.08935546875,
          410.3788757324219,
          558.16259765625,
          761.1298217773438,
          963.6702270507812,
          1558.6737060546875,
          1836.447509765625,
          2277.354736328125,
          2866.300537109375,
          3393.0732421875,
          4305.95068359375,
          4739.4814453125,
          6320.35595703125,
          6809.18017578125,
          7606.859375,
          8566.6298828125,
          9006.64453125,
          10373.091796875,
          11899.875,
          12901.7333984375,
          13456.2470703125,
          14552.7080078125,
          15370.5849609375,
          15608.9697265625,
          16989.998046875,
          17748.982421875,
          17902.83203125,
          18055.767578125,
          18141.404296875,
          18191.298828125,
          18324.333984375,
          18398.4296875,
          18508.1875,
          18672.98046875,
          18673.81640625,
          18687.6640625,
          18687.6640625,
          18713.267578125,
          18713.267578125
         ],
         "yaxis": "y"
        }
       ],
       "layout": {
        "annotations": [
         {
          "font": {
           "size": 13
          },
          "showarrow": false,
          "text": "carat",
          "x": 0.5,
          "xanchor": "center",
          "xref": "paper",
          "y": 1,
          "yanchor": "bottom",
          "yref": "paper"
         },
         {
          "font": {
           "size": 13
          },
          "showarrow": false,
          "text": "prediction",
          "textangle": -90,
          "x": -0.07,
          "xref": "paper",
          "y": 0.5,
          "yref": "paper"
         }
        ],
        "font": {
         "color": "#371ea3"
        },
        "height": 489,
        "hovermode": "x unified",
        "legend": {
         "font": {
          "size": 11
         },
         "itemsizing": "constant",
         "orientation": "h",
         "title": {
          "font": {
           "size": 12
          },
          "text": "label"
         },
         "tracegroupgap": 0,
         "x": 1,
         "xanchor": "right",
         "y": 1.0613496932515338,
         "yanchor": "bottom"
        },
        "margin": {
         "b": 71,
         "r": 30,
         "t": 78
        },
        "template": {
         "data": {
          "scatter": [
           {
            "type": "scatter"
           }
          ]
         }
        },
        "title": {
         "font": {
          "size": 16
         },
         "text": "Aggregated Profiles",
         "x": 0.15
        },
        "xaxis": {
         "anchor": "y",
         "automargin": true,
         "domain": [
          0,
          1
         ],
         "fixedrange": true,
         "gridwidth": 2,
         "showticklabels": true,
         "tickcolor": "white",
         "ticklen": 3,
         "ticks": "outside",
         "title": {
          "text": ""
         },
         "type": "linear",
         "zeroline": false
        },
        "yaxis": {
         "anchor": "x",
         "automargin": true,
         "domain": [
          0,
          1
         ],
         "fixedrange": true,
         "gridwidth": 2,
         "range": [
          -1437.82841796875,
          20545.1853515625
         ],
         "tickcolor": "white",
         "ticklen": 3,
         "ticks": "outside",
         "title": {
          "text": ""
         },
         "type": "linear",
         "zeroline": false
        }
       }
      }
     },
     "metadata": {},
     "output_type": "display_data"
    }
   ],
   "source": [
    "# Interpret model\n",
    "import numpy as np\n",
    "import dalex as dx\n",
    "\n",
    "# Partial dependence plots on training data\n",
    "def pred_fun(model, df):\n",
    "    X = encoder.transform(df)\n",
    "    dX = xgb.DMatrix(X, feature_names=feature_names)\n",
    "    return model.predict(dX)\n",
    "\n",
    "\n",
    "exp = dx.Explainer(fit, df_train, predict_function=pred_fun, verbose=False)\n",
    "\n",
    "pdp_num = exp.model_profile(\n",
    "    variable_splits={\"carat\": np.linspace(0, 3, 41)},\n",
    "    label=\"Partial depencence for carat\",\n",
    "    verbose=False,\n",
    ")\n",
    "pdp_num.plot()"
   ]
  },
  {
   "cell_type": "markdown",
   "metadata": {},
   "source": [
    "**Comment:** The argument is called \"monotone_constraints\". For each covariate, a value 0 means no constraint, a value -1 means a negative constraints, and a value 1 means positive constraint. Applying the constraint now leads to a monotonically increasing partial dependence plot. This is extremely useful in practice. Besides monotonic constraints, also interaction constraints are possible.\n",
    "\n",
    "### Exercise 2"
   ]
  },
  {
   "cell_type": "code",
   "execution_count": 23,
   "metadata": {},
   "outputs": [],
   "source": [
    "# We adapt the template from the lecture notes\n",
    "import json\n",
    "from pathlib import Path\n",
    "import pandas as pd\n",
    "import xgboost as xgb\n",
    "from plotnine.data import diamonds\n",
    "from sklearn.preprocessing import OrdinalEncoder\n",
    "from sklearn.model_selection import train_test_split\n",
    "from sklearn.compose import make_column_transformer\n",
    "\n",
    "# Load data\n",
    "car = pd.read_csv(\"car.csv\")  # see readme how to get the data\n",
    "\n",
    "# General settings\n",
    "grid_file = Path(\"gridsearch\") / \"claims_xgb.txt\"\n",
    "objective = \"binary:logistic\"\n",
    "metric = \"logloss\"\n",
    "\n",
    "# Train/test split stratified on the response\n",
    "df_train, df_test, y_train, y_test = train_test_split(\n",
    "    car, car[\"clm\"], test_size=0.2, random_state=341, stratify=car[\"clm\"]\n",
    ")\n",
    "\n",
    "# Preprocessing\n",
    "num_features = [\"veh_value\", \"veh_age\", \"agecat\"]\n",
    "ord_features = [\"gender\", \"area\", \"veh_body\"]\n",
    "ord_levels = [sorted(car[v].unique()) for v in ord_features]\n",
    "\n",
    "encoder = make_column_transformer(\n",
    "    (OrdinalEncoder(categories=ord_levels), ord_features),\n",
    "    (\"passthrough\", num_features),\n",
    "    verbose_feature_names_out=False,\n",
    ")\n",
    "\n",
    "X_train = encoder.fit_transform(df_train)\n",
    "X_test = encoder.transform(df_test)\n",
    "\n",
    "# XGBoost data interface (feature_names are added for importance plot)\n",
    "feature_names = encoder.get_feature_names_out()\n",
    "dtrain = xgb.DMatrix(X_train, label=y_train, feature_names=feature_names)\n",
    "dtest = xgb.DMatrix(X_test, label=y_test, feature_names=feature_names)"
   ]
  },
  {
   "cell_type": "code",
   "execution_count": 24,
   "metadata": {},
   "outputs": [
    {
     "name": "stdout",
     "output_type": "stream",
     "text": [
      "[0]\ttrain-logloss:0.67837\ttest-logloss:0.67838\n",
      "[50]\ttrain-logloss:0.33647\ttest-logloss:0.33717\n",
      "[100]\ttrain-logloss:0.26348\ttest-logloss:0.26580\n",
      "[150]\ttrain-logloss:0.24712\ttest-logloss:0.25148\n",
      "[200]\ttrain-logloss:0.24284\ttest-logloss:0.24920\n",
      "[248]\ttrain-logloss:0.24139\ttest-logloss:0.24907\n",
      "Best boosting round with default params:\n",
      "      train-logloss-mean  train-logloss-std  test-logloss-mean  \\\n",
      "228            0.241855           0.000427           0.249046   \n",
      "\n",
      "     test-logloss-std  \n",
      "228          0.000571  \n"
     ]
    }
   ],
   "source": [
    "# Step 1: Find learning rate with reasonable tree count\n",
    "if True:\n",
    "    params = {\"learning_rate\": 0.02, \"objective\": objective, \"eval_metric\": metric}\n",
    "\n",
    "    # Cross-validation\n",
    "    cvm = xgb.cv(\n",
    "        params=params,\n",
    "        dtrain=dtrain,\n",
    "        num_boost_round=5000,\n",
    "        nfold=5,\n",
    "        stratified=True,\n",
    "        early_stopping_rounds=20,\n",
    "        callbacks=[xgb.callback.EvaluationMonitor(period=50)],\n",
    "    )\n",
    "\n",
    "    # A LR of 0.02 provides about 200 trees, which is convenient\n",
    "    print(\"Best boosting round with default params:\\n\", cvm.tail(1))"
   ]
  },
  {
   "cell_type": "code",
   "execution_count": 25,
   "metadata": {},
   "outputs": [
    {
     "data": {
      "text/html": [
       "<div>\n",
       "<style scoped>\n",
       "    .dataframe tbody tr th:only-of-type {\n",
       "        vertical-align: middle;\n",
       "    }\n",
       "\n",
       "    .dataframe tbody tr th {\n",
       "        vertical-align: top;\n",
       "    }\n",
       "\n",
       "    .dataframe thead th {\n",
       "        text-align: right;\n",
       "    }\n",
       "</style>\n",
       "<table border=\"1\" class=\"dataframe\">\n",
       "  <thead>\n",
       "    <tr style=\"text-align: right;\">\n",
       "      <th></th>\n",
       "      <th>num_boost_round</th>\n",
       "      <th>cv_score</th>\n",
       "      <th>train_score</th>\n",
       "      <th>params</th>\n",
       "    </tr>\n",
       "  </thead>\n",
       "  <tbody>\n",
       "    <tr>\n",
       "      <th>3</th>\n",
       "      <td>307</td>\n",
       "      <td>0.248089</td>\n",
       "      <td>0.246847</td>\n",
       "      <td>{'subsample': 0.8, 'reg_lambda': 7.5, 'reg_alpha': 4, 'objective': 'binary:logistic', 'min_split_loss': 0, 'min_child_weight': 1, 'max_depth': 3, 'learning_rate': 0.02, 'eval_metric': 'logloss', 'colsample_bytree': 0.8}</td>\n",
       "    </tr>\n",
       "    <tr>\n",
       "      <th>16</th>\n",
       "      <td>281</td>\n",
       "      <td>0.248094</td>\n",
       "      <td>0.246733</td>\n",
       "      <td>{'subsample': 0.8, 'reg_lambda': 5, 'reg_alpha': 4, 'objective': 'binary:logistic', 'min_split_loss': 0.0001, 'min_child_weight': 0.1, 'max_depth': 3, 'learning_rate': 0.02, 'eval_metric': 'logloss', 'colsample_bytree': 1}</td>\n",
       "    </tr>\n",
       "    <tr>\n",
       "      <th>12</th>\n",
       "      <td>275</td>\n",
       "      <td>0.248096</td>\n",
       "      <td>0.246724</td>\n",
       "      <td>{'subsample': 0.8, 'reg_lambda': 2.5, 'reg_alpha': 4, 'objective': 'binary:logistic', 'min_split_loss': 0.0001, 'min_child_weight': 0.1, 'max_depth': 3, 'learning_rate': 0.02, 'eval_metric': 'logloss', 'colsample_bytree': 1}</td>\n",
       "    </tr>\n",
       "    <tr>\n",
       "      <th>7</th>\n",
       "      <td>293</td>\n",
       "      <td>0.248144</td>\n",
       "      <td>0.246953</td>\n",
       "      <td>{'subsample': 1, 'reg_lambda': 7.5, 'reg_alpha': 4, 'objective': 'binary:logistic', 'min_split_loss': 0, 'min_child_weight': 0.1, 'max_depth': 3, 'learning_rate': 0.02, 'eval_metric': 'logloss', 'colsample_bytree': 0.8}</td>\n",
       "    </tr>\n",
       "    <tr>\n",
       "      <th>0</th>\n",
       "      <td>275</td>\n",
       "      <td>0.248150</td>\n",
       "      <td>0.246779</td>\n",
       "      <td>{'subsample': 1, 'reg_lambda': 2.5, 'reg_alpha': 4, 'objective': 'binary:logistic', 'min_split_loss': 0.0001, 'min_child_weight': 0.1, 'max_depth': 3, 'learning_rate': 0.02, 'eval_metric': 'logloss', 'colsample_bytree': 1}</td>\n",
       "    </tr>\n",
       "  </tbody>\n",
       "</table>\n",
       "</div>"
      ],
      "text/plain": [
       "    num_boost_round  cv_score  train_score  \\\n",
       "3               307  0.248089     0.246847   \n",
       "16              281  0.248094     0.246733   \n",
       "12              275  0.248096     0.246724   \n",
       "7               293  0.248144     0.246953   \n",
       "0               275  0.248150     0.246779   \n",
       "\n",
       "                                                                                                                                                                                                                              params  \n",
       "3        {'subsample': 0.8, 'reg_lambda': 7.5, 'reg_alpha': 4, 'objective': 'binary:logistic', 'min_split_loss': 0, 'min_child_weight': 1, 'max_depth': 3, 'learning_rate': 0.02, 'eval_metric': 'logloss', 'colsample_bytree': 0.8}  \n",
       "16    {'subsample': 0.8, 'reg_lambda': 5, 'reg_alpha': 4, 'objective': 'binary:logistic', 'min_split_loss': 0.0001, 'min_child_weight': 0.1, 'max_depth': 3, 'learning_rate': 0.02, 'eval_metric': 'logloss', 'colsample_bytree': 1}  \n",
       "12  {'subsample': 0.8, 'reg_lambda': 2.5, 'reg_alpha': 4, 'objective': 'binary:logistic', 'min_split_loss': 0.0001, 'min_child_weight': 0.1, 'max_depth': 3, 'learning_rate': 0.02, 'eval_metric': 'logloss', 'colsample_bytree': 1}  \n",
       "7        {'subsample': 1, 'reg_lambda': 7.5, 'reg_alpha': 4, 'objective': 'binary:logistic', 'min_split_loss': 0, 'min_child_weight': 0.1, 'max_depth': 3, 'learning_rate': 0.02, 'eval_metric': 'logloss', 'colsample_bytree': 0.8}  \n",
       "0     {'subsample': 1, 'reg_lambda': 2.5, 'reg_alpha': 4, 'objective': 'binary:logistic', 'min_split_loss': 0.0001, 'min_child_weight': 0.1, 'max_depth': 3, 'learning_rate': 0.02, 'eval_metric': 'logloss', 'colsample_bytree': 1}  "
      ]
     },
     "metadata": {},
     "output_type": "display_data"
    }
   ],
   "source": [
    "# Step 2: Iterate randomized SearchCV for regularization parameters\n",
    "if False:\n",
    "    from tqdm import tqdm\n",
    "    from sklearn.model_selection import ParameterSampler  # , ParameterGrid\n",
    "\n",
    "    # Use ParameterGrid(...) if grid is small enough to check all combinations\n",
    "\n",
    "    # Final grid search after some iterations\n",
    "    grid = ParameterSampler(\n",
    "        {\n",
    "            \"learning_rate\": [0.02],\n",
    "            \"objective\": [objective],\n",
    "            \"eval_metric\": [metric],\n",
    "            \"max_depth\": [3, 4, 5, 6],\n",
    "            \"min_child_weight\": [0.1, 1],\n",
    "            \"colsample_bytree\": [0.8, 1],\n",
    "            \"subsample\": [0.8, 1],\n",
    "            \"reg_lambda\": [0, 2.5, 5, 7.5],\n",
    "            \"reg_alpha\": [0, 4],\n",
    "            # \"tree_method\": [\"hist\"],   # when data is large\n",
    "            \"min_split_loss\": [0, 0.0001],\n",
    "        },\n",
    "        n_iter=20,\n",
    "    )\n",
    "\n",
    "    # Iterate over grid and save relevant information on disk\n",
    "    search = []\n",
    "    for g in tqdm(grid):\n",
    "        cvm = xgb.cv(\n",
    "            params=g,\n",
    "            dtrain=dtrain,\n",
    "            num_boost_round=5000,\n",
    "            nfold=5,\n",
    "            stratified=True,\n",
    "            early_stopping_rounds=20,\n",
    "        )\n",
    "        # Keep number of rounds, cv score, train score, and parameters\n",
    "        search.append((len(cvm), *cvm.iloc[-1, [2, 0]], g))\n",
    "\n",
    "        with open(grid_file, \"w\") as f:\n",
    "            json.dump(search, f)\n",
    "\n",
    "# Load grid and check (A) sort order and (B) if grid ranges were set reasonable\n",
    "with open(grid_file) as f:\n",
    "    search = json.load(f)\n",
    "\n",
    "search_df = pd.DataFrame.from_records(\n",
    "    search, columns=[\"num_boost_round\", \"cv_score\", \"train_score\", \"params\"]\n",
    ").sort_values(\"cv_score\")\n",
    "\n",
    "with pd.option_context(\"display.max_colwidth\", None):\n",
    "    display(search_df.head())"
   ]
  },
  {
   "cell_type": "code",
   "execution_count": 26,
   "metadata": {},
   "outputs": [],
   "source": [
    "# Step 3: Fit on best params\n",
    "best = search_df.iloc[0]\n",
    "\n",
    "fit = xgb.train(params=best.params, dtrain=dtrain, num_boost_round=best.num_boost_round)"
   ]
  },
  {
   "cell_type": "code",
   "execution_count": 27,
   "metadata": {},
   "outputs": [
    {
     "name": "stdout",
     "output_type": "stream",
     "text": [
      "Average test log loss:  0.248\n",
      "Relative improvement in average log loss:  0.434%\n"
     ]
    },
    {
     "data": {
      "image/png": "[encoded data removed]",
      "text/plain": [
       "<Figure size 640x480 with 1 Axes>"
      ]
     },
     "metadata": {},
     "output_type": "display_data"
    }
   ],
   "source": [
    "# Interpret model\n",
    "import numpy as np\n",
    "import dalex as dx\n",
    "from sklearn.metrics import log_loss\n",
    "from xgboost import plot_importance\n",
    "\n",
    "# Variable importance regarding MSE improvement\n",
    "plot_importance(fit, importance_type=\"gain\", show_values=False, xlabel=\"Gain\")\n",
    "\n",
    "# Set up explainer object\n",
    "def pred_fun(m, df):\n",
    "    X = encoder.transform(df)\n",
    "    dX = xgb.DMatrix(X, feature_names=feature_names)\n",
    "    return m.predict(dX)\n",
    "\n",
    "\n",
    "exp = dx.Explainer(fit, df_train, predict_function=pred_fun, verbose=False)\n",
    "\n",
    "# Test performance\n",
    "test_loss = log_loss(y_test, exp.predict(df_test))\n",
    "test_loss0 = log_loss(y_test, np.repeat(y_train.mean(), len(y_test)))\n",
    "rel_imp = (test_loss0 - test_loss) / test_loss0\n",
    "\n",
    "print(f\"Average test log loss: {test_loss: .3f}\")\n",
    "print(f\"Relative improvement in average log loss: {rel_imp: .3%}\")"
   ]
  },
  {
   "cell_type": "code",
   "execution_count": 28,
   "metadata": {},
   "outputs": [
    {
     "data": {
      "application/vnd.plotly.v1+json": {
       "config": {
        "displaylogo": false,
        "modeBarButtonsToRemove": [
         "sendDataToCloud",
         "lasso2d",
         "autoScale2d",
         "select2d",
         "zoom2d",
         "pan2d",
         "zoomIn2d",
         "zoomOut2d",
         "resetScale2d",
         "toggleSpikelines",
         "hoverCompareCartesian",
         "hoverClosestCartesian"
        ],
        "plotlyServerURL": "https://plot.ly",
        "staticPlot": false,
        "toImageButtonOptions": {
         "height": null,
         "width": null
        }
       },
       "data": [
        {
         "customdata": [
          [
           0.0705031305551529,
           "Partial depencence for numeric variables",
           "veh_value"
          ],
          [
           0.0705031305551529,
           "Partial depencence for numeric variables",
           "veh_value"
          ],
          [
           0.0705031305551529,
           "Partial depencence for numeric variables",
           "veh_value"
          ],
          [
           0.0705031305551529,
           "Partial depencence for numeric variables",
           "veh_value"
          ],
          [
           0.0705031305551529,
           "Partial depencence for numeric variables",
           "veh_value"
          ],
          [
           0.0705031305551529,
           "Partial depencence for numeric variables",
           "veh_value"
          ],
          [
           0.0705031305551529,
           "Partial depencence for numeric variables",
           "veh_value"
          ],
          [
           0.0705031305551529,
           "Partial depencence for numeric variables",
           "veh_value"
          ],
          [
           0.0705031305551529,
           "Partial depencence for numeric variables",
           "veh_value"
          ],
          [
           0.0705031305551529,
           "Partial depencence for numeric variables",
           "veh_value"
          ],
          [
           0.0705031305551529,
           "Partial depencence for numeric variables",
           "veh_value"
          ],
          [
           0.0705031305551529,
           "Partial depencence for numeric variables",
           "veh_value"
          ],
          [
           0.0705031305551529,
           "Partial depencence for numeric variables",
           "veh_value"
          ],
          [
           0.0705031305551529,
           "Partial depencence for numeric variables",
           "veh_value"
          ],
          [
           0.0705031305551529,
           "Partial depencence for numeric variables",
           "veh_value"
          ],
          [
           0.0705031305551529,
           "Partial depencence for numeric variables",
           "veh_value"
          ],
          [
           0.0705031305551529,
           "Partial depencence for numeric variables",
           "veh_value"
          ],
          [
           0.0705031305551529,
           "Partial depencence for numeric variables",
           "veh_value"
          ],
          [
           0.0705031305551529,
           "Partial depencence for numeric variables",
           "veh_value"
          ],
          [
           0.0705031305551529,
           "Partial depencence for numeric variables",
           "veh_value"
          ],
          [
           0.0705031305551529,
           "Partial depencence for numeric variables",
           "veh_value"
          ],
          [
           0.0705031305551529,
           "Partial depencence for numeric variables",
           "veh_value"
          ],
          [
           0.0705031305551529,
           "Partial depencence for numeric variables",
           "veh_value"
          ],
          [
           0.0705031305551529,
           "Partial depencence for numeric variables",
           "veh_value"
          ],
          [
           0.0705031305551529,
           "Partial depencence for numeric variables",
           "veh_value"
          ],
          [
           0.0705031305551529,
           "Partial depencence for numeric variables",
           "veh_value"
          ],
          [
           0.0705031305551529,
           "Partial depencence for numeric variables",
           "veh_value"
          ],
          [
           0.0705031305551529,
           "Partial depencence for numeric variables",
           "veh_value"
          ],
          [
           0.0705031305551529,
           "Partial depencence for numeric variables",
           "veh_value"
          ],
          [
           0.0705031305551529,
           "Partial depencence for numeric variables",
           "veh_value"
          ],
          [
           0.0705031305551529,
           "Partial depencence for numeric variables",
           "veh_value"
          ],
          [
           0.0705031305551529,
           "Partial depencence for numeric variables",
           "veh_value"
          ],
          [
           0.0705031305551529,
           "Partial depencence for numeric variables",
           "veh_value"
          ],
          [
           0.0705031305551529,
           "Partial depencence for numeric variables",
           "veh_value"
          ],
          [
           0.0705031305551529,
           "Partial depencence for numeric variables",
           "veh_value"
          ],
          [
           0.0705031305551529,
           "Partial depencence for numeric variables",
           "veh_value"
          ],
          [
           0.0705031305551529,
           "Partial depencence for numeric variables",
           "veh_value"
          ],
          [
           0.0705031305551529,
           "Partial depencence for numeric variables",
           "veh_value"
          ],
          [
           0.0705031305551529,
           "Partial depencence for numeric variables",
           "veh_value"
          ],
          [
           0.0705031305551529,
           "Partial depencence for numeric variables",
           "veh_value"
          ],
          [
           0.0705031305551529,
           "Partial depencence for numeric variables",
           "veh_value"
          ]
         ],
         "hovertemplate": "<b>%{hovertext}</b><br><br>prediction=%{y:.3f}<br>mean_prediction=%{customdata[0]:.3f}<extra></extra>",
         "hovertext": [
          "Partial depencence for numeric variables",
          "Partial depencence for numeric variables",
          "Partial depencence for numeric variables",
          "Partial depencence for numeric variables",
          "Partial depencence for numeric variables",
          "Partial depencence for numeric variables",
          "Partial depencence for numeric variables",
          "Partial depencence for numeric variables",
          "Partial depencence for numeric variables",
          "Partial depencence for numeric variables",
          "Partial depencence for numeric variables",
          "Partial depencence for numeric variables",
          "Partial depencence for numeric variables",
          "Partial depencence for numeric variables",
          "Partial depencence for numeric variables",
          "Partial depencence for numeric variables",
          "Partial depencence for numeric variables",
          "Partial depencence for numeric variables",
          "Partial depencence for numeric variables",
          "Partial depencence for numeric variables",
          "Partial depencence for numeric variables",
          "Partial depencence for numeric variables",
          "Partial depencence for numeric variables",
          "Partial depencence for numeric variables",
          "Partial depencence for numeric variables",
          "Partial depencence for numeric variables",
          "Partial depencence for numeric variables",
          "Partial depencence for numeric variables",
          "Partial depencence for numeric variables",
          "Partial depencence for numeric variables",
          "Partial depencence for numeric variables",
          "Partial depencence for numeric variables",
          "Partial depencence for numeric variables",
          "Partial depencence for numeric variables",
          "Partial depencence for numeric variables",
          "Partial depencence for numeric variables",
          "Partial depencence for numeric variables",
          "Partial depencence for numeric variables",
          "Partial depencence for numeric variables",
          "Partial depencence for numeric variables",
          "Partial depencence for numeric variables"
         ],
         "legendgroup": "Partial depencence for numeric variables",
         "line": {
          "color": "#46bac2",
          "dash": "solid",
          "width": 2
         },
         "marker": {
          "symbol": "circle"
         },
         "mode": "lines",
         "name": "Partial depencence for numeric variables",
         "opacity": 1,
         "orientation": "v",
         "showlegend": true,
         "type": "scatter",
         "x": [
          0,
          0.125,
          0.25,
          0.375,
          0.5,
          0.625,
          0.75,
          0.875,
          1,
          1.125,
          1.25,
          1.375,
          1.5,
          1.625,
          1.75,
          1.875,
          2,
          2.125,
          2.25,
          2.375,
          2.5,
          2.625,
          2.75,
          2.875,
          3,
          3.125,
          3.25,
          3.375,
          3.5,
          3.625,
          3.75,
          3.875,
          4,
          4.125,
          4.25,
          4.375,
          4.5,
          4.625,
          4.75,
          4.875,
          5
         ],
         "xaxis": "x3",
         "y": [
          0.08562705665826797,
          0.05727919936180115,
          0.05690869688987732,
          0.058371685445308685,
          0.060529351234436035,
          0.06017886474728584,
          0.060077156871557236,
          0.06141238659620285,
          0.06382978707551956,
          0.06347992271184921,
          0.06352207809686661,
          0.06910677254199982,
          0.0734764114022255,
          0.07119235396385193,
          0.07030080258846283,
          0.07291758060455322,
          0.07390286773443222,
          0.07765302062034607,
          0.07870373129844666,
          0.07866360992193222,
          0.07654282450675964,
          0.07691671699285507,
          0.07672975212335587,
          0.07761462777853012,
          0.0789426639676094,
          0.07874362170696259,
          0.07906300574541092,
          0.08107998222112656,
          0.0808485671877861,
          0.07953853905200958,
          0.07953853905200958,
          0.07949641346931458,
          0.0794505923986435,
          0.07916565239429474,
          0.07916565239429474,
          0.07907986640930176,
          0.08141230791807175,
          0.08141230791807175,
          0.08131857961416245,
          0.07984887808561325,
          0.07984887808561325
         ],
         "yaxis": "y3"
        },
        {
         "customdata": [
          [
           0.0705031305551529,
           "Partial depencence for numeric variables",
           "agecat"
          ],
          [
           0.0705031305551529,
           "Partial depencence for numeric variables",
           "agecat"
          ],
          [
           0.0705031305551529,
           "Partial depencence for numeric variables",
           "agecat"
          ],
          [
           0.0705031305551529,
           "Partial depencence for numeric variables",
           "agecat"
          ],
          [
           0.0705031305551529,
           "Partial depencence for numeric variables",
           "agecat"
          ],
          [
           0.0705031305551529,
           "Partial depencence for numeric variables",
           "agecat"
          ]
         ],
         "hovertemplate": "<b>%{hovertext}</b><br><br>prediction=%{y:.3f}<br>mean_prediction=%{customdata[0]:.3f}<extra></extra>",
         "hovertext": [
          "Partial depencence for numeric variables",
          "Partial depencence for numeric variables",
          "Partial depencence for numeric variables",
          "Partial depencence for numeric variables",
          "Partial depencence for numeric variables",
          "Partial depencence for numeric variables"
         ],
         "legendgroup": "Partial depencence for numeric variables",
         "line": {
          "color": "#46bac2",
          "dash": "solid",
          "width": 2
         },
         "marker": {
          "symbol": "circle"
         },
         "mode": "lines",
         "name": "Partial depencence for numeric variables",
         "opacity": 1,
         "orientation": "v",
         "showlegend": false,
         "type": "scatter",
         "x": [
          1,
          2,
          3,
          4,
          5,
          6
         ],
         "xaxis": "x4",
         "y": [
          0.08468618988990784,
          0.07372468709945679,
          0.07301761209964752,
          0.06970853358507156,
          0.06067938357591629,
          0.061492670327425
         ],
         "yaxis": "y4"
        },
        {
         "customdata": [
          [
           0.0705031305551529,
           "Partial depencence for numeric variables",
           "veh_age"
          ],
          [
           0.0705031305551529,
           "Partial depencence for numeric variables",
           "veh_age"
          ],
          [
           0.0705031305551529,
           "Partial depencence for numeric variables",
           "veh_age"
          ],
          [
           0.0705031305551529,
           "Partial depencence for numeric variables",
           "veh_age"
          ]
         ],
         "hovertemplate": "<b>%{hovertext}</b><br><br>prediction=%{y:.3f}<br>mean_prediction=%{customdata[0]:.3f}<extra></extra>",
         "hovertext": [
          "Partial depencence for numeric variables",
          "Partial depencence for numeric variables",
          "Partial depencence for numeric variables",
          "Partial depencence for numeric variables"
         ],
         "legendgroup": "Partial depencence for numeric variables",
         "line": {
          "color": "#46bac2",
          "dash": "solid",
          "width": 2
         },
         "marker": {
          "symbol": "circle"
         },
         "mode": "lines",
         "name": "Partial depencence for numeric variables",
         "opacity": 1,
         "orientation": "v",
         "showlegend": false,
         "type": "scatter",
         "x": [
          1,
          2,
          3,
          4
         ],
         "xaxis": "x",
         "y": [
          0.06760847568511963,
          0.07205427438020706,
          0.07136456668376923,
          0.07152992486953735
         ],
         "yaxis": "y"
        }
       ],
       "layout": {
        "annotations": [
         {
          "font": {
           "size": 13
          },
          "showarrow": false,
          "text": "veh_age",
          "x": 0.2375,
          "xanchor": "center",
          "xref": "paper",
          "y": 0.425,
          "yanchor": "bottom",
          "yref": "paper"
         },
         {
          "font": {
           "size": 13
          },
          "showarrow": false,
          "text": "veh_value",
          "x": 0.2375,
          "xanchor": "center",
          "xref": "paper",
          "y": 1,
          "yanchor": "bottom",
          "yref": "paper"
         },
         {
          "font": {
           "size": 13
          },
          "showarrow": false,
          "text": "agecat",
          "x": 0.7625,
          "xanchor": "center",
          "xref": "paper",
          "y": 1,
          "yanchor": "bottom",
          "yref": "paper"
         },
         {
          "font": {
           "size": 13
          },
          "showarrow": false,
          "text": "prediction",
          "textangle": -90,
          "x": -0.07,
          "xref": "paper",
          "y": 0.5,
          "yref": "paper"
         }
        ],
        "font": {
         "color": "#371ea3"
        },
        "height": 829,
        "hovermode": "x unified",
        "legend": {
         "font": {
          "size": 11
         },
         "itemsizing": "constant",
         "orientation": "h",
         "title": {
          "font": {
           "size": 12
          },
          "text": "label"
         },
         "tracegroupgap": 0,
         "x": 1,
         "xanchor": "right",
         "y": 1.0361881785283473,
         "yanchor": "bottom"
        },
        "margin": {
         "b": 71,
         "r": 30,
         "t": 78
        },
        "template": {
         "data": {
          "scatter": [
           {
            "type": "scatter"
           }
          ]
         }
        },
        "title": {
         "font": {
          "size": 16
         },
         "text": "Aggregated Profiles",
         "x": 0.15
        },
        "xaxis": {
         "anchor": "y",
         "automargin": true,
         "domain": [
          0,
          0.475
         ],
         "fixedrange": true,
         "gridwidth": 2,
         "showticklabels": true,
         "tickcolor": "white",
         "ticklen": 3,
         "ticks": "outside",
         "title": {
          "text": ""
         },
         "type": "linear",
         "zeroline": false
        },
        "xaxis2": {
         "anchor": "y2",
         "automargin": true,
         "domain": [
          0.525,
          1
         ],
         "fixedrange": true,
         "gridwidth": 2,
         "showticklabels": true,
         "tickcolor": "white",
         "ticklen": 3,
         "ticks": "outside",
         "title": {
          "text": ""
         },
         "type": "linear",
         "zeroline": false
        },
        "xaxis3": {
         "anchor": "y3",
         "automargin": true,
         "domain": [
          0,
          0.475
         ],
         "fixedrange": true,
         "gridwidth": 2,
         "showticklabels": true,
         "tickcolor": "white",
         "ticklen": 3,
         "ticks": "outside",
         "title": {
          "text": ""
         },
         "type": "linear",
         "zeroline": false
        },
        "xaxis4": {
         "anchor": "y4",
         "automargin": true,
         "domain": [
          0.525,
          1
         ],
         "fixedrange": true,
         "gridwidth": 2,
         "showticklabels": true,
         "tickcolor": "white",
         "ticklen": 3,
         "ticks": "outside",
         "title": {
          "text": ""
         },
         "type": "linear",
         "zeroline": false
        },
        "yaxis": {
         "anchor": "x",
         "automargin": true,
         "domain": [
          0,
          0.425
         ],
         "fixedrange": true,
         "gridwidth": 2,
         "showticklabels": true,
         "tickcolor": "white",
         "ticklen": 3,
         "ticks": "outside",
         "title": {
          "text": ""
         },
         "type": "linear",
         "zeroline": false
        },
        "yaxis2": {
         "anchor": "x2",
         "automargin": true,
         "domain": [
          0,
          0.425
         ],
         "fixedrange": true,
         "gridwidth": 2,
         "showticklabels": true,
         "tickcolor": "white",
         "ticklen": 3,
         "ticks": "outside",
         "title": {
          "text": ""
         },
         "type": "linear",
         "zeroline": false
        },
        "yaxis3": {
         "anchor": "x3",
         "automargin": true,
         "domain": [
          0.575,
          1
         ],
         "fixedrange": true,
         "gridwidth": 2,
         "showticklabels": true,
         "tickcolor": "white",
         "ticklen": 3,
         "ticks": "outside",
         "title": {
          "text": ""
         },
         "type": "linear",
         "zeroline": false
        },
        "yaxis4": {
         "anchor": "x4",
         "automargin": true,
         "domain": [
          0.575,
          1
         ],
         "fixedrange": true,
         "gridwidth": 2,
         "showticklabels": true,
         "tickcolor": "white",
         "ticklen": 3,
         "ticks": "outside",
         "title": {
          "text": ""
         },
         "type": "linear",
         "zeroline": false
        }
       }
      }
     },
     "metadata": {},
     "output_type": "display_data"
    },
    {
     "data": {
      "application/vnd.plotly.v1+json": {
       "config": {
        "displaylogo": false,
        "modeBarButtonsToRemove": [
         "sendDataToCloud",
         "lasso2d",
         "autoScale2d",
         "select2d",
         "zoom2d",
         "pan2d",
         "zoomIn2d",
         "zoomOut2d",
         "resetScale2d",
         "toggleSpikelines",
         "hoverCompareCartesian",
         "hoverClosestCartesian"
        ],
        "plotlyServerURL": "https://plot.ly",
        "staticPlot": false,
        "toImageButtonOptions": {
         "height": null,
         "width": null
        }
       },
       "data": [
        {
         "alignmentgroup": "True",
         "base": [
          0.06894806027412415,
          0.06894806027412415
         ],
         "customdata": [
          [
           0.06905089318752289,
           "Partial depencence for ordinal variables",
           "gender"
          ],
          [
           0.06886336952447891,
           "Partial depencence for ordinal variables",
           "gender"
          ]
         ],
         "hovertemplate": "<b>%{hovertext}</b><br><br>mean_prediction=%{base:.3f}<br>prediction=%{customdata[0]:.3f}<extra></extra>",
         "hovertext": [
          "Partial depencence for ordinal variables",
          "Partial depencence for ordinal variables"
         ],
         "legendgroup": "Partial depencence for ordinal variables",
         "marker": {
          "color": "#46bac2",
          "pattern": {
           "shape": ""
          }
         },
         "name": "Partial depencence for ordinal variables",
         "offsetgroup": "Partial depencence for ordinal variables",
         "orientation": "v",
         "showlegend": true,
         "textposition": "auto",
         "type": "bar",
         "x": [
          "F",
          "M"
         ],
         "xaxis": "x3",
         "y": [
          0.00010283291339874268,
          -0.00008469074964523315
         ],
         "yaxis": "y3"
        },
        {
         "alignmentgroup": "True",
         "base": [
          0.06894806027412415,
          0.06894806027412415,
          0.06894806027412415,
          0.06894806027412415,
          0.06894806027412415,
          0.06894806027412415
         ],
         "customdata": [
          [
           0.06918220221996307,
           "Partial depencence for ordinal variables",
           "area"
          ],
          [
           0.06991833448410034,
           "Partial depencence for ordinal variables",
           "area"
          ],
          [
           0.06884878873825073,
           "Partial depencence for ordinal variables",
           "area"
          ],
          [
           0.06702164560556412,
           "Partial depencence for ordinal variables",
           "area"
          ],
          [
           0.06747107952833176,
           "Partial depencence for ordinal variables",
           "area"
          ],
          [
           0.07234276086091995,
           "Partial depencence for ordinal variables",
           "area"
          ]
         ],
         "hovertemplate": "<b>%{hovertext}</b><br><br>mean_prediction=%{base:.3f}<br>prediction=%{customdata[0]:.3f}<extra></extra>",
         "hovertext": [
          "Partial depencence for ordinal variables",
          "Partial depencence for ordinal variables",
          "Partial depencence for ordinal variables",
          "Partial depencence for ordinal variables",
          "Partial depencence for ordinal variables",
          "Partial depencence for ordinal variables"
         ],
         "legendgroup": "Partial depencence for ordinal variables",
         "marker": {
          "color": "#46bac2",
          "pattern": {
           "shape": ""
          }
         },
         "name": "Partial depencence for ordinal variables",
         "offsetgroup": "Partial depencence for ordinal variables",
         "orientation": "v",
         "showlegend": false,
         "textposition": "auto",
         "type": "bar",
         "x": [
          "A",
          "B",
          "C",
          "D",
          "E",
          "F"
         ],
         "xaxis": "x4",
         "y": [
          0.00023414194583892822,
          0.0009702742099761963,
          -0.00009927153587341309,
          -0.001926414668560028,
          -0.001476980745792389,
          0.003394700586795807
         ],
         "yaxis": "y4"
        },
        {
         "alignmentgroup": "True",
         "base": [
          0.06894806027412415,
          0.06894806027412415,
          0.06894806027412415,
          0.06894806027412415,
          0.06894806027412415,
          0.06894806027412415,
          0.06894806027412415,
          0.06894806027412415,
          0.06894806027412415,
          0.06894806027412415,
          0.06894806027412415,
          0.06894806027412415,
          0.06894806027412415
         ],
         "customdata": [
          [
           0.14772525429725647,
           "Partial depencence for ordinal variables",
           "veh_body"
          ],
          [
           0.0814652293920517,
           "Partial depencence for ordinal variables",
           "veh_body"
          ],
          [
           0.07920917868614197,
           "Partial depencence for ordinal variables",
           "veh_body"
          ],
          [
           0.07071150094270706,
           "Partial depencence for ordinal variables",
           "veh_body"
          ],
          [
           0.07139813154935837,
           "Partial depencence for ordinal variables",
           "veh_body"
          ],
          [
           0.07139813154935837,
           "Partial depencence for ordinal variables",
           "veh_body"
          ],
          [
           0.07105773687362671,
           "Partial depencence for ordinal variables",
           "veh_body"
          ],
          [
           0.07084663957357407,
           "Partial depencence for ordinal variables",
           "veh_body"
          ],
          [
           0.06997756659984589,
           "Partial depencence for ordinal variables",
           "veh_body"
          ],
          [
           0.06973046064376831,
           "Partial depencence for ordinal variables",
           "veh_body"
          ],
          [
           0.06816867738962173,
           "Partial depencence for ordinal variables",
           "veh_body"
          ],
          [
           0.0650254413485527,
           "Partial depencence for ordinal variables",
           "veh_body"
          ],
          [
           0.060584183782339096,
           "Partial depencence for ordinal variables",
           "veh_body"
          ]
         ],
         "hovertemplate": "<b>%{hovertext}</b><br><br>mean_prediction=%{base:.3f}<br>prediction=%{customdata[0]:.3f}<extra></extra>",
         "hovertext": [
          "Partial depencence for ordinal variables",
          "Partial depencence for ordinal variables",
          "Partial depencence for ordinal variables",
          "Partial depencence for ordinal variables",
          "Partial depencence for ordinal variables",
          "Partial depencence for ordinal variables",
          "Partial depencence for ordinal variables",
          "Partial depencence for ordinal variables",
          "Partial depencence for ordinal variables",
          "Partial depencence for ordinal variables",
          "Partial depencence for ordinal variables",
          "Partial depencence for ordinal variables",
          "Partial depencence for ordinal variables"
         ],
         "legendgroup": "Partial depencence for ordinal variables",
         "marker": {
          "color": "#46bac2",
          "pattern": {
           "shape": ""
          }
         },
         "name": "Partial depencence for ordinal variables",
         "offsetgroup": "Partial depencence for ordinal variables",
         "orientation": "v",
         "showlegend": false,
         "textposition": "auto",
         "type": "bar",
         "x": [
          "BUS",
          "CONVT",
          "COUPE",
          "HBACK",
          "HDTOP",
          "MCARA",
          "MIBUS",
          "PANVN",
          "RDSTR",
          "SEDAN",
          "STNWG",
          "TRUCK",
          "UTE"
         ],
         "xaxis": "x",
         "y": [
          0.07877719402313232,
          0.012517169117927551,
          0.010261118412017822,
          0.0017634406685829163,
          0.0024500712752342224,
          0.0024500712752342224,
          0.0021096765995025635,
          0.0018985792994499207,
          0.0010295063257217407,
          0.000782400369644165,
          -0.0007793828845024109,
          -0.003922618925571442,
          -0.00836387649178505
         ],
         "yaxis": "y"
        }
       ],
       "layout": {
        "annotations": [
         {
          "font": {
           "size": 13
          },
          "showarrow": false,
          "text": "veh_body",
          "x": 0.2375,
          "xanchor": "center",
          "xref": "paper",
          "y": 0.425,
          "yanchor": "bottom",
          "yref": "paper"
         },
         {
          "font": {
           "size": 13
          },
          "showarrow": false,
          "text": "gender",
          "x": 0.2375,
          "xanchor": "center",
          "xref": "paper",
          "y": 1,
          "yanchor": "bottom",
          "yref": "paper"
         },
         {
          "font": {
           "size": 13
          },
          "showarrow": false,
          "text": "area",
          "x": 0.7625,
          "xanchor": "center",
          "xref": "paper",
          "y": 1,
          "yanchor": "bottom",
          "yref": "paper"
         },
         {
          "font": {
           "size": 13
          },
          "showarrow": false,
          "text": "prediction",
          "textangle": -90,
          "x": -0.07,
          "xref": "paper",
          "y": 0.5,
          "yref": "paper"
         }
        ],
        "barmode": "group",
        "font": {
         "color": "#371ea3"
        },
        "height": 829,
        "hovermode": "x unified",
        "legend": {
         "font": {
          "size": 11
         },
         "itemsizing": "constant",
         "orientation": "h",
         "title": {
          "font": {
           "size": 12
          },
          "text": "label"
         },
         "tracegroupgap": 0,
         "x": 1,
         "xanchor": "right",
         "y": 1.0361881785283473,
         "yanchor": "bottom"
        },
        "margin": {
         "b": 71,
         "r": 30,
         "t": 78
        },
        "shapes": [
         {
          "layer": "below",
          "line": {
           "color": "#371ea3",
           "dash": "dot",
           "width": 1.5
          },
          "type": "line",
          "x0": 0,
          "x1": 1,
          "xref": "x domain",
          "y0": 0.06894806027412415,
          "y1": 0.06894806027412415,
          "yref": "y"
         },
         {
          "layer": "below",
          "line": {
           "color": "#371ea3",
           "dash": "dot",
           "width": 1.5
          },
          "type": "line",
          "x0": 0,
          "x1": 1,
          "xref": "x3 domain",
          "y0": 0.06894806027412415,
          "y1": 0.06894806027412415,
          "yref": "y3"
         },
         {
          "layer": "below",
          "line": {
           "color": "#371ea3",
           "dash": "dot",
           "width": 1.5
          },
          "type": "line",
          "x0": 0,
          "x1": 1,
          "xref": "x4 domain",
          "y0": 0.06894806027412415,
          "y1": 0.06894806027412415,
          "yref": "y4"
         },
         {
          "layer": "below",
          "line": {
           "color": "#371ea3",
           "dash": "dot",
           "width": 1.5
          },
          "type": "line",
          "x0": 0,
          "x1": 1,
          "xref": "x domain",
          "y0": 0.06894806027412415,
          "y1": 0.06894806027412415,
          "yref": "y"
         },
         {
          "layer": "below",
          "line": {
           "color": "#371ea3",
           "dash": "dot",
           "width": 1.5
          },
          "type": "line",
          "x0": 0,
          "x1": 1,
          "xref": "x3 domain",
          "y0": 0.06894806027412415,
          "y1": 0.06894806027412415,
          "yref": "y3"
         },
         {
          "layer": "below",
          "line": {
           "color": "#371ea3",
           "dash": "dot",
           "width": 1.5
          },
          "type": "line",
          "x0": 0,
          "x1": 1,
          "xref": "x4 domain",
          "y0": 0.06894806027412415,
          "y1": 0.06894806027412415,
          "yref": "y4"
         },
         {
          "layer": "below",
          "line": {
           "color": "#371ea3",
           "dash": "dot",
           "width": 1.5
          },
          "type": "line",
          "x0": 0,
          "x1": 1,
          "xref": "x domain",
          "y0": 0.06894806027412415,
          "y1": 0.06894806027412415,
          "yref": "y"
         },
         {
          "layer": "below",
          "line": {
           "color": "#371ea3",
           "dash": "dot",
           "width": 1.5
          },
          "type": "line",
          "x0": 0,
          "x1": 1,
          "xref": "x3 domain",
          "y0": 0.06894806027412415,
          "y1": 0.06894806027412415,
          "yref": "y3"
         },
         {
          "layer": "below",
          "line": {
           "color": "#371ea3",
           "dash": "dot",
           "width": 1.5
          },
          "type": "line",
          "x0": 0,
          "x1": 1,
          "xref": "x4 domain",
          "y0": 0.06894806027412415,
          "y1": 0.06894806027412415,
          "yref": "y4"
         }
        ],
        "template": {
         "data": {
          "scatter": [
           {
            "type": "scatter"
           }
          ]
         }
        },
        "title": {
         "font": {
          "size": 16
         },
         "text": "Aggregated Profiles",
         "x": 0.15
        },
        "xaxis": {
         "anchor": "y",
         "automargin": true,
         "domain": [
          0,
          0.475
         ],
         "fixedrange": true,
         "gridwidth": 2,
         "showticklabels": true,
         "tickcolor": "white",
         "ticklen": 10,
         "ticks": "outside",
         "title": {
          "text": ""
         },
         "type": "category"
        },
        "xaxis2": {
         "anchor": "y2",
         "automargin": true,
         "domain": [
          0.525,
          1
         ],
         "fixedrange": true,
         "gridwidth": 2,
         "showticklabels": true,
         "tickcolor": "white",
         "ticklen": 10,
         "ticks": "outside",
         "title": {
          "text": ""
         },
         "type": "category"
        },
        "xaxis3": {
         "anchor": "y3",
         "automargin": true,
         "domain": [
          0,
          0.475
         ],
         "fixedrange": true,
         "gridwidth": 2,
         "showticklabels": true,
         "tickcolor": "white",
         "ticklen": 10,
         "ticks": "outside",
         "title": {
          "text": ""
         },
         "type": "category"
        },
        "xaxis4": {
         "anchor": "y4",
         "automargin": true,
         "domain": [
          0.525,
          1
         ],
         "fixedrange": true,
         "gridwidth": 2,
         "showticklabels": true,
         "tickcolor": "white",
         "ticklen": 10,
         "ticks": "outside",
         "title": {
          "text": ""
         },
         "type": "category"
        },
        "yaxis": {
         "anchor": "x",
         "automargin": true,
         "domain": [
          0,
          0.425
         ],
         "fixedrange": true,
         "gridwidth": 2,
         "showticklabels": true,
         "tickcolor": "white",
         "ticklen": 3,
         "ticks": "outside",
         "title": {
          "text": ""
         },
         "type": "linear",
         "zeroline": false
        },
        "yaxis2": {
         "anchor": "x2",
         "automargin": true,
         "domain": [
          0,
          0.425
         ],
         "fixedrange": true,
         "gridwidth": 2,
         "showticklabels": true,
         "tickcolor": "white",
         "ticklen": 3,
         "ticks": "outside",
         "title": {
          "text": ""
         },
         "type": "linear",
         "zeroline": false
        },
        "yaxis3": {
         "anchor": "x3",
         "automargin": true,
         "domain": [
          0.575,
          1
         ],
         "fixedrange": true,
         "gridwidth": 2,
         "showticklabels": true,
         "tickcolor": "white",
         "ticklen": 3,
         "ticks": "outside",
         "title": {
          "text": ""
         },
         "type": "linear",
         "zeroline": false
        },
        "yaxis4": {
         "anchor": "x4",
         "automargin": true,
         "domain": [
          0.575,
          1
         ],
         "fixedrange": true,
         "gridwidth": 2,
         "showticklabels": true,
         "tickcolor": "white",
         "ticklen": 3,
         "ticks": "outside",
         "title": {
          "text": ""
         },
         "type": "linear",
         "zeroline": false
        }
       }
      }
     },
     "metadata": {},
     "output_type": "display_data"
    }
   ],
   "source": [
    "# Partial dependence plots on training data\n",
    "num_eval_at = {\n",
    "    \"veh_value\": np.linspace(0, 5, 41),\n",
    "    \"agecat\": sorted(car[\"agecat\"].unique()),\n",
    "    \"veh_age\": sorted(car[\"veh_age\"].unique()),\n",
    "}\n",
    "pdp_num = exp.model_profile(\n",
    "    variable_splits=num_eval_at,\n",
    "    label=\"Partial depencence for numeric variables\",\n",
    "    verbose=False,\n",
    ")\n",
    "pdp_num.plot(facet_scales=\"free\")\n",
    "\n",
    "pdp_ord = exp.model_profile(\n",
    "    variable_type=\"categorical\",\n",
    "    variable_splits=dict(zip(ord_features, ord_levels)),\n",
    "    label=\"Partial depencence for ordinal variables\",\n",
    "    verbose=False,\n",
    ")\n",
    "pdp_ord.plot(facet_scales=\"free\")"
   ]
  },
  {
   "cell_type": "markdown",
   "metadata": {},
   "source": [
    "### Exercise 3 (Optional)"
   ]
  },
  {
   "cell_type": "code",
   "execution_count": 38,
   "metadata": {},
   "outputs": [],
   "source": [
    "# We adapt the code from Exercise 2\n",
    "import json\n",
    "from pathlib import Path\n",
    "import pandas as pd\n",
    "import lightgbm as lgb\n",
    "from plotnine.data import diamonds\n",
    "from sklearn.preprocessing import OrdinalEncoder\n",
    "from sklearn.model_selection import train_test_split\n",
    "from sklearn.compose import make_column_transformer\n",
    "\n",
    "# Load data\n",
    "car = pd.read_csv(\"car.csv\")  # see readme how to get the data\n",
    "\n",
    "# General settings\n",
    "grid_file = Path(\"gridsearch\") / \"claims_lgb.txt\"\n",
    "objective = \"binary\"\n",
    "metric = \"binary_logloss\"\n",
    "\n",
    "# Train/test split stratified on the response\n",
    "df_train, df_test, y_train, y_test = train_test_split(\n",
    "    car, car[\"clm\"], test_size=0.2, random_state=341, stratify=car[\"clm\"]\n",
    ")\n",
    "\n",
    "# Preprocessing\n",
    "num_features = [\"veh_value\", \"veh_age\", \"agecat\"]\n",
    "ord_features = [\"gender\", \"area\", \"veh_body\"]\n",
    "ord_levels = [sorted(car[v].unique()) for v in ord_features]\n",
    "\n",
    "encoder = make_column_transformer(\n",
    "    (OrdinalEncoder(categories=ord_levels), ord_features),\n",
    "    (\"passthrough\", num_features),\n",
    "    verbose_feature_names_out=False,\n",
    ")\n",
    "\n",
    "X_train = encoder.fit_transform(df_train)\n",
    "X_test = encoder.transform(df_test)\n",
    "\n",
    "# LGB data interface (feature_names are added for importance plot)\n",
    "feature_names = list(encoder.get_feature_names_out())\n",
    "dtrain = lgb.Dataset(X_train, label=y_train, feature_name=feature_names)\n",
    "dtest = lgb.Dataset(X_test, label=y_test, feature_name=feature_names)"
   ]
  },
  {
   "cell_type": "code",
   "execution_count": 40,
   "metadata": {},
   "outputs": [],
   "source": [
    "# Step 1: Find learning rate with reasonable tree count\n",
    "if True:\n",
    "    params = {\n",
    "        \"learning_rate\": 0.005,\n",
    "        \"objective\": objective,\n",
    "        \"metric\": metric,\n",
    "        \"verbose\": -1,\n",
    "    }\n",
    "\n",
    "    # Cross-validation\n",
    "    cvm = lgb.cv(\n",
    "        params=params,\n",
    "        train_set=dtrain,\n",
    "        num_boost_round=5000,\n",
    "        nfold=5,\n",
    "        stratified=True,\n",
    "        eval_train_metric=True,\n",
    "        callbacks=[lgb.log_evaluation(period=0), lgb.early_stopping(20, verbose=0)],\n",
    "    )"
   ]
  },
  {
   "cell_type": "code",
   "execution_count": 41,
   "metadata": {},
   "outputs": [
    {
     "name": "stdout",
     "output_type": "stream",
     "text": [
      "Best boosting round with default params:\n",
      " 209\n"
     ]
    },
    {
     "data": {
      "text/html": [
       "<div>\n",
       "<style scoped>\n",
       "    .dataframe tbody tr th:only-of-type {\n",
       "        vertical-align: middle;\n",
       "    }\n",
       "\n",
       "    .dataframe tbody tr th {\n",
       "        vertical-align: top;\n",
       "    }\n",
       "\n",
       "    .dataframe thead th {\n",
       "        text-align: right;\n",
       "    }\n",
       "</style>\n",
       "<table border=\"1\" class=\"dataframe\">\n",
       "  <thead>\n",
       "    <tr style=\"text-align: right;\">\n",
       "      <th></th>\n",
       "      <th>train binary_logloss-mean</th>\n",
       "      <th>train binary_logloss-stdv</th>\n",
       "      <th>valid binary_logloss-mean</th>\n",
       "      <th>valid binary_logloss-stdv</th>\n",
       "    </tr>\n",
       "  </thead>\n",
       "  <tbody>\n",
       "    <tr>\n",
       "      <th>208</th>\n",
       "      <td>0.244967</td>\n",
       "      <td>0.000104</td>\n",
       "      <td>0.248199</td>\n",
       "      <td>0.000356</td>\n",
       "    </tr>\n",
       "  </tbody>\n",
       "</table>\n",
       "</div>"
      ],
      "text/plain": [
       "     train binary_logloss-mean  train binary_logloss-stdv  \\\n",
       "208                   0.244967                   0.000104   \n",
       "\n",
       "     valid binary_logloss-mean  valid binary_logloss-stdv  \n",
       "208                   0.248199                   0.000356  "
      ]
     },
     "execution_count": 41,
     "metadata": {},
     "output_type": "execute_result"
    }
   ],
   "source": [
    "# A LR of 0.005 provides about 200 trees, which is convenient\n",
    "cvm = pd.DataFrame(cvm)\n",
    "print(\"Best boosting round with default params:\\n\", len(cvm))\n",
    "cvm.tail(1)"
   ]
  },
  {
   "cell_type": "code",
   "execution_count": 42,
   "metadata": {},
   "outputs": [],
   "source": [
    "# Step 2: Iterate randomized SearchCV for regularization parameters\n",
    "if False:\n",
    "    from tqdm import tqdm\n",
    "    from sklearn.model_selection import ParameterSampler  # , ParameterGrid\n",
    "\n",
    "    # Use ParameterGrid(...) if grid is small enough to check all combinations\n",
    "\n",
    "    # Final grid search after some iterations\n",
    "    grid = ParameterSampler(\n",
    "        {\n",
    "            \"learning_rate\": [0.005],\n",
    "            \"objective\": [objective],\n",
    "            \"metric\": [metric],\n",
    "            \"num_leaves\": [15, 31, 63],\n",
    "            \"min_data_in_leaf\": [20],  # Fixed dataset parameter\n",
    "            \"min_sum_hessian_in_leaf\": [0.001, 0.1],\n",
    "            \"colsample_bynode\": [0.8, 1],\n",
    "            \"bagging_fraction\": [0.8, 1],\n",
    "            \"lambda_l1\": [0, 4],\n",
    "            \"lambda_l2\": [0, 2.5, 5, 7.5],\n",
    "            \"verbose\": [-1],\n",
    "        },\n",
    "        n_iter=20,\n",
    "    )\n",
    "\n",
    "    # Iterate over grid and save relevant information on disk\n",
    "    search = []\n",
    "    for g in tqdm(grid):\n",
    "        cvm = lgb.cv(\n",
    "            params=g,\n",
    "            train_set=dtrain,\n",
    "            num_boost_round=5000,\n",
    "            nfold=5,\n",
    "            stratified=True,\n",
    "            eval_train_metric=True,\n",
    "            callbacks=[lgb.log_evaluation(period=0), lgb.early_stopping(20, verbose=0)],\n",
    "        )\n",
    "        # Keep number of rounds, cv score, train score, and parameters\n",
    "        cvm = pd.DataFrame(cvm)\n",
    "        search.append((len(cvm), *cvm.iloc[-1, [2, 0]], g))\n",
    "\n",
    "        with open(grid_file, \"w\") as f:\n",
    "            json.dump(search, f)\n",
    "\n",
    "# Load grid and check (A) sort order and (B) if grid ranges were set reasonable\n",
    "with open(grid_file) as f:\n",
    "    search = json.load(f)\n",
    "\n",
    "search_df = pd.DataFrame.from_records(\n",
    "    search, columns=[\"num_boost_round\", \"cv_score\", \"train_score\", \"params\"]\n",
    ").sort_values(\"cv_score\")"
   ]
  },
  {
   "cell_type": "code",
   "execution_count": 43,
   "metadata": {},
   "outputs": [
    {
     "data": {
      "text/html": [
       "<div>\n",
       "<style scoped>\n",
       "    .dataframe tbody tr th:only-of-type {\n",
       "        vertical-align: middle;\n",
       "    }\n",
       "\n",
       "    .dataframe tbody tr th {\n",
       "        vertical-align: top;\n",
       "    }\n",
       "\n",
       "    .dataframe thead th {\n",
       "        text-align: right;\n",
       "    }\n",
       "</style>\n",
       "<table border=\"1\" class=\"dataframe\">\n",
       "  <thead>\n",
       "    <tr style=\"text-align: right;\">\n",
       "      <th></th>\n",
       "      <th>num_boost_round</th>\n",
       "      <th>cv_score</th>\n",
       "      <th>train_score</th>\n",
       "      <th>params</th>\n",
       "    </tr>\n",
       "  </thead>\n",
       "  <tbody>\n",
       "    <tr>\n",
       "      <th>9</th>\n",
       "      <td>256</td>\n",
       "      <td>0.248139</td>\n",
       "      <td>0.246698</td>\n",
       "      <td>{'verbose': -1, 'objective': 'binary', 'num_leaves': 15, 'min_sum_hessian_in_leaf': 0.1, 'min_data_in_leaf': 20, 'metric': 'binary_logloss', 'learning_rate': 0.005, 'lambda_l2': 7.5, 'lambda_l1': 0, 'colsample_bynode': 0.8, 'bagging_fraction': 0.8}</td>\n",
       "    </tr>\n",
       "    <tr>\n",
       "      <th>11</th>\n",
       "      <td>218</td>\n",
       "      <td>0.248163</td>\n",
       "      <td>0.246542</td>\n",
       "      <td>{'verbose': -1, 'objective': 'binary', 'num_leaves': 15, 'min_sum_hessian_in_leaf': 0.001, 'min_data_in_leaf': 20, 'metric': 'binary_logloss', 'learning_rate': 0.005, 'lambda_l2': 0, 'lambda_l1': 0, 'colsample_bynode': 1, 'bagging_fraction': 0.8}</td>\n",
       "    </tr>\n",
       "    <tr>\n",
       "      <th>13</th>\n",
       "      <td>192</td>\n",
       "      <td>0.248170</td>\n",
       "      <td>0.245753</td>\n",
       "      <td>{'verbose': -1, 'objective': 'binary', 'num_leaves': 31, 'min_sum_hessian_in_leaf': 0.001, 'min_data_in_leaf': 20, 'metric': 'binary_logloss', 'learning_rate': 0.005, 'lambda_l2': 2.5, 'lambda_l1': 0, 'colsample_bynode': 0.8, 'bagging_fraction': 1}</td>\n",
       "    </tr>\n",
       "    <tr>\n",
       "      <th>19</th>\n",
       "      <td>192</td>\n",
       "      <td>0.248170</td>\n",
       "      <td>0.245753</td>\n",
       "      <td>{'verbose': -1, 'objective': 'binary', 'num_leaves': 31, 'min_sum_hessian_in_leaf': 0.1, 'min_data_in_leaf': 20, 'metric': 'binary_logloss', 'learning_rate': 0.005, 'lambda_l2': 2.5, 'lambda_l1': 0, 'colsample_bynode': 0.8, 'bagging_fraction': 1}</td>\n",
       "    </tr>\n",
       "    <tr>\n",
       "      <th>15</th>\n",
       "      <td>175</td>\n",
       "      <td>0.248181</td>\n",
       "      <td>0.245952</td>\n",
       "      <td>{'verbose': -1, 'objective': 'binary', 'num_leaves': 31, 'min_sum_hessian_in_leaf': 0.001, 'min_data_in_leaf': 20, 'metric': 'binary_logloss', 'learning_rate': 0.005, 'lambda_l2': 2.5, 'lambda_l1': 0, 'colsample_bynode': 1, 'bagging_fraction': 0.8}</td>\n",
       "    </tr>\n",
       "  </tbody>\n",
       "</table>\n",
       "</div>"
      ],
      "text/plain": [
       "    num_boost_round  cv_score  train_score  \\\n",
       "9               256  0.248139     0.246698   \n",
       "11              218  0.248163     0.246542   \n",
       "13              192  0.248170     0.245753   \n",
       "19              192  0.248170     0.245753   \n",
       "15              175  0.248181     0.245952   \n",
       "\n",
       "                                                                                                                                                                                                                                                      params  \n",
       "9   {'verbose': -1, 'objective': 'binary', 'num_leaves': 15, 'min_sum_hessian_in_leaf': 0.1, 'min_data_in_leaf': 20, 'metric': 'binary_logloss', 'learning_rate': 0.005, 'lambda_l2': 7.5, 'lambda_l1': 0, 'colsample_bynode': 0.8, 'bagging_fraction': 0.8}  \n",
       "11    {'verbose': -1, 'objective': 'binary', 'num_leaves': 15, 'min_sum_hessian_in_leaf': 0.001, 'min_data_in_leaf': 20, 'metric': 'binary_logloss', 'learning_rate': 0.005, 'lambda_l2': 0, 'lambda_l1': 0, 'colsample_bynode': 1, 'bagging_fraction': 0.8}  \n",
       "13  {'verbose': -1, 'objective': 'binary', 'num_leaves': 31, 'min_sum_hessian_in_leaf': 0.001, 'min_data_in_leaf': 20, 'metric': 'binary_logloss', 'learning_rate': 0.005, 'lambda_l2': 2.5, 'lambda_l1': 0, 'colsample_bynode': 0.8, 'bagging_fraction': 1}  \n",
       "19    {'verbose': -1, 'objective': 'binary', 'num_leaves': 31, 'min_sum_hessian_in_leaf': 0.1, 'min_data_in_leaf': 20, 'metric': 'binary_logloss', 'learning_rate': 0.005, 'lambda_l2': 2.5, 'lambda_l1': 0, 'colsample_bynode': 0.8, 'bagging_fraction': 1}  \n",
       "15  {'verbose': -1, 'objective': 'binary', 'num_leaves': 31, 'min_sum_hessian_in_leaf': 0.001, 'min_data_in_leaf': 20, 'metric': 'binary_logloss', 'learning_rate': 0.005, 'lambda_l2': 2.5, 'lambda_l1': 0, 'colsample_bynode': 1, 'bagging_fraction': 0.8}  "
      ]
     },
     "metadata": {},
     "output_type": "display_data"
    }
   ],
   "source": [
    "with pd.option_context(\"display.max_colwidth\", None):\n",
    "    display(search_df.head())"
   ]
  },
  {
   "cell_type": "code",
   "execution_count": 44,
   "metadata": {},
   "outputs": [],
   "source": [
    "# Step 3: Fit on best params\n",
    "best = search_df.iloc[0]\n",
    "\n",
    "fit = lgb.train(\n",
    "    params=best.params, train_set=dtrain, num_boost_round=best.num_boost_round\n",
    ")"
   ]
  },
  {
   "cell_type": "code",
   "execution_count": 45,
   "metadata": {},
   "outputs": [
    {
     "name": "stdout",
     "output_type": "stream",
     "text": [
      "Average test log loss:  0.248\n",
      "Relative improvement in average log loss:  0.399%\n"
     ]
    },
    {
     "data": {
      "image/png": "[encoded data removed]",
      "text/plain": [
       "<Figure size 640x480 with 1 Axes>"
      ]
     },
     "metadata": {},
     "output_type": "display_data"
    }
   ],
   "source": [
    "# Interpret model\n",
    "import numpy as np\n",
    "import dalex as dx\n",
    "from sklearn.metrics import log_loss\n",
    "\n",
    "# Variable importance regarding MSE improvement\n",
    "lgb.plot_importance(fit, importance_type=\"gain\", xlabel=\"Gain\")\n",
    "\n",
    "# Set up explainer object\n",
    "def pred_fun(m, df):\n",
    "    return m.predict(encoder.transform(df))\n",
    "\n",
    "\n",
    "exp = dx.Explainer(fit, df_train, predict_function=pred_fun, verbose=False)\n",
    "\n",
    "# Test performance\n",
    "test_loss = log_loss(y_test, exp.predict(df_test))\n",
    "test_loss0 = log_loss(y_test, np.repeat(y_train.mean(), len(y_test)))\n",
    "rel_imp = (test_loss0 - test_loss) / test_loss0\n",
    "\n",
    "print(f\"Average test log loss: {test_loss: .3f}\")\n",
    "print(f\"Relative improvement in average log loss: {rel_imp: .3%}\")"
   ]
  },
  {
   "cell_type": "code",
   "execution_count": 46,
   "metadata": {},
   "outputs": [
    {
     "data": {
      "application/vnd.plotly.v1+json": {
       "config": {
        "displaylogo": false,
        "modeBarButtonsToRemove": [
         "sendDataToCloud",
         "lasso2d",
         "autoScale2d",
         "select2d",
         "zoom2d",
         "pan2d",
         "zoomIn2d",
         "zoomOut2d",
         "resetScale2d",
         "toggleSpikelines",
         "hoverCompareCartesian",
         "hoverClosestCartesian"
        ],
        "plotlyServerURL": "https://plot.ly",
        "staticPlot": false,
        "toImageButtonOptions": {
         "height": null,
         "width": null
        }
       },
       "data": [
        {
         "customdata": [
          [
           0.06914778484475535,
           "Partial depencence for numeric variables",
           "veh_value"
          ],
          [
           0.06914778484475535,
           "Partial depencence for numeric variables",
           "veh_value"
          ],
          [
           0.06914778484475535,
           "Partial depencence for numeric variables",
           "veh_value"
          ],
          [
           0.06914778484475535,
           "Partial depencence for numeric variables",
           "veh_value"
          ],
          [
           0.06914778484475535,
           "Partial depencence for numeric variables",
           "veh_value"
          ],
          [
           0.06914778484475535,
           "Partial depencence for numeric variables",
           "veh_value"
          ],
          [
           0.06914778484475535,
           "Partial depencence for numeric variables",
           "veh_value"
          ],
          [
           0.06914778484475535,
           "Partial depencence for numeric variables",
           "veh_value"
          ],
          [
           0.06914778484475535,
           "Partial depencence for numeric variables",
           "veh_value"
          ],
          [
           0.06914778484475535,
           "Partial depencence for numeric variables",
           "veh_value"
          ],
          [
           0.06914778484475535,
           "Partial depencence for numeric variables",
           "veh_value"
          ],
          [
           0.06914778484475535,
           "Partial depencence for numeric variables",
           "veh_value"
          ],
          [
           0.06914778484475535,
           "Partial depencence for numeric variables",
           "veh_value"
          ],
          [
           0.06914778484475535,
           "Partial depencence for numeric variables",
           "veh_value"
          ],
          [
           0.06914778484475535,
           "Partial depencence for numeric variables",
           "veh_value"
          ],
          [
           0.06914778484475535,
           "Partial depencence for numeric variables",
           "veh_value"
          ],
          [
           0.06914778484475535,
           "Partial depencence for numeric variables",
           "veh_value"
          ],
          [
           0.06914778484475535,
           "Partial depencence for numeric variables",
           "veh_value"
          ],
          [
           0.06914778484475535,
           "Partial depencence for numeric variables",
           "veh_value"
          ],
          [
           0.06914778484475535,
           "Partial depencence for numeric variables",
           "veh_value"
          ],
          [
           0.06914778484475535,
           "Partial depencence for numeric variables",
           "veh_value"
          ],
          [
           0.06914778484475535,
           "Partial depencence for numeric variables",
           "veh_value"
          ],
          [
           0.06914778484475535,
           "Partial depencence for numeric variables",
           "veh_value"
          ],
          [
           0.06914778484475535,
           "Partial depencence for numeric variables",
           "veh_value"
          ],
          [
           0.06914778484475535,
           "Partial depencence for numeric variables",
           "veh_value"
          ],
          [
           0.06914778484475535,
           "Partial depencence for numeric variables",
           "veh_value"
          ],
          [
           0.06914778484475535,
           "Partial depencence for numeric variables",
           "veh_value"
          ],
          [
           0.06914778484475535,
           "Partial depencence for numeric variables",
           "veh_value"
          ],
          [
           0.06914778484475535,
           "Partial depencence for numeric variables",
           "veh_value"
          ],
          [
           0.06914778484475535,
           "Partial depencence for numeric variables",
           "veh_value"
          ],
          [
           0.06914778484475535,
           "Partial depencence for numeric variables",
           "veh_value"
          ],
          [
           0.06914778484475535,
           "Partial depencence for numeric variables",
           "veh_value"
          ],
          [
           0.06914778484475535,
           "Partial depencence for numeric variables",
           "veh_value"
          ],
          [
           0.06914778484475535,
           "Partial depencence for numeric variables",
           "veh_value"
          ],
          [
           0.06914778484475535,
           "Partial depencence for numeric variables",
           "veh_value"
          ],
          [
           0.06914778484475535,
           "Partial depencence for numeric variables",
           "veh_value"
          ],
          [
           0.06914778484475535,
           "Partial depencence for numeric variables",
           "veh_value"
          ],
          [
           0.06914778484475535,
           "Partial depencence for numeric variables",
           "veh_value"
          ],
          [
           0.06914778484475535,
           "Partial depencence for numeric variables",
           "veh_value"
          ],
          [
           0.06914778484475535,
           "Partial depencence for numeric variables",
           "veh_value"
          ],
          [
           0.06914778484475535,
           "Partial depencence for numeric variables",
           "veh_value"
          ]
         ],
         "hovertemplate": "<b>%{hovertext}</b><br><br>prediction=%{y:.3f}<br>mean_prediction=%{customdata[0]:.3f}<extra></extra>",
         "hovertext": [
          "Partial depencence for numeric variables",
          "Partial depencence for numeric variables",
          "Partial depencence for numeric variables",
          "Partial depencence for numeric variables",
          "Partial depencence for numeric variables",
          "Partial depencence for numeric variables",
          "Partial depencence for numeric variables",
          "Partial depencence for numeric variables",
          "Partial depencence for numeric variables",
          "Partial depencence for numeric variables",
          "Partial depencence for numeric variables",
          "Partial depencence for numeric variables",
          "Partial depencence for numeric variables",
          "Partial depencence for numeric variables",
          "Partial depencence for numeric variables",
          "Partial depencence for numeric variables",
          "Partial depencence for numeric variables",
          "Partial depencence for numeric variables",
          "Partial depencence for numeric variables",
          "Partial depencence for numeric variables",
          "Partial depencence for numeric variables",
          "Partial depencence for numeric variables",
          "Partial depencence for numeric variables",
          "Partial depencence for numeric variables",
          "Partial depencence for numeric variables",
          "Partial depencence for numeric variables",
          "Partial depencence for numeric variables",
          "Partial depencence for numeric variables",
          "Partial depencence for numeric variables",
          "Partial depencence for numeric variables",
          "Partial depencence for numeric variables",
          "Partial depencence for numeric variables",
          "Partial depencence for numeric variables",
          "Partial depencence for numeric variables",
          "Partial depencence for numeric variables",
          "Partial depencence for numeric variables",
          "Partial depencence for numeric variables",
          "Partial depencence for numeric variables",
          "Partial depencence for numeric variables",
          "Partial depencence for numeric variables",
          "Partial depencence for numeric variables"
         ],
         "legendgroup": "Partial depencence for numeric variables",
         "line": {
          "color": "#46bac2",
          "dash": "solid",
          "width": 2
         },
         "marker": {
          "symbol": "circle"
         },
         "mode": "lines",
         "name": "Partial depencence for numeric variables",
         "opacity": 1,
         "orientation": "v",
         "showlegend": true,
         "type": "scatter",
         "x": [
          0,
          0.125,
          0.25,
          0.375,
          0.5,
          0.625,
          0.75,
          0.875,
          1,
          1.125,
          1.25,
          1.375,
          1.5,
          1.625,
          1.75,
          1.875,
          2,
          2.125,
          2.25,
          2.375,
          2.5,
          2.625,
          2.75,
          2.875,
          3,
          3.125,
          3.25,
          3.375,
          3.5,
          3.625,
          3.75,
          3.875,
          4,
          4.125,
          4.25,
          4.375,
          4.5,
          4.625,
          4.75,
          4.875,
          5
         ],
         "xaxis": "x3",
         "y": [
          0.05779618660307679,
          0.05779618660307679,
          0.05779618660307679,
          0.05779618660307679,
          0.06119282019094574,
          0.061224400497430255,
          0.06144408354327164,
          0.06223049813215469,
          0.06422293232159539,
          0.06381401504151304,
          0.06380835497636905,
          0.06803847114740251,
          0.07099758249206499,
          0.07006598067977564,
          0.0697673616765626,
          0.07125724048538265,
          0.07143635897230519,
          0.07355945056494984,
          0.0736940773552938,
          0.07365678450516697,
          0.07243774663453273,
          0.07242066089326862,
          0.07254191580823247,
          0.07278026965964318,
          0.07473964055130351,
          0.07467869290437668,
          0.0746396708765525,
          0.07467640936664853,
          0.07484801859584757,
          0.07798419122799177,
          0.07798419122799177,
          0.07886351951609377,
          0.0783016902429024,
          0.0782771912450325,
          0.0782771912450325,
          0.07832135619495424,
          0.07934377410457191,
          0.0789751418120605,
          0.0789751418120605,
          0.07896188768286957,
          0.07792080929623726
         ],
         "yaxis": "y3"
        },
        {
         "customdata": [
          [
           0.06914778484475535,
           "Partial depencence for numeric variables",
           "agecat"
          ],
          [
           0.06914778484475535,
           "Partial depencence for numeric variables",
           "agecat"
          ],
          [
           0.06914778484475535,
           "Partial depencence for numeric variables",
           "agecat"
          ],
          [
           0.06914778484475535,
           "Partial depencence for numeric variables",
           "agecat"
          ],
          [
           0.06914778484475535,
           "Partial depencence for numeric variables",
           "agecat"
          ],
          [
           0.06914778484475535,
           "Partial depencence for numeric variables",
           "agecat"
          ]
         ],
         "hovertemplate": "<b>%{hovertext}</b><br><br>prediction=%{y:.3f}<br>mean_prediction=%{customdata[0]:.3f}<extra></extra>",
         "hovertext": [
          "Partial depencence for numeric variables",
          "Partial depencence for numeric variables",
          "Partial depencence for numeric variables",
          "Partial depencence for numeric variables",
          "Partial depencence for numeric variables",
          "Partial depencence for numeric variables"
         ],
         "legendgroup": "Partial depencence for numeric variables",
         "line": {
          "color": "#46bac2",
          "dash": "solid",
          "width": 2
         },
         "marker": {
          "symbol": "circle"
         },
         "mode": "lines",
         "name": "Partial depencence for numeric variables",
         "opacity": 1,
         "orientation": "v",
         "showlegend": false,
         "type": "scatter",
         "x": [
          1,
          2,
          3,
          4,
          5,
          6
         ],
         "xaxis": "x4",
         "y": [
          0.07918358127051787,
          0.07176921311998129,
          0.07162491728274144,
          0.06841278399063438,
          0.06147790768791606,
          0.061656352894747864
         ],
         "yaxis": "y4"
        },
        {
         "customdata": [
          [
           0.06914778484475535,
           "Partial depencence for numeric variables",
           "veh_age"
          ],
          [
           0.06914778484475535,
           "Partial depencence for numeric variables",
           "veh_age"
          ],
          [
           0.06914778484475535,
           "Partial depencence for numeric variables",
           "veh_age"
          ],
          [
           0.06914778484475535,
           "Partial depencence for numeric variables",
           "veh_age"
          ]
         ],
         "hovertemplate": "<b>%{hovertext}</b><br><br>prediction=%{y:.3f}<br>mean_prediction=%{customdata[0]:.3f}<extra></extra>",
         "hovertext": [
          "Partial depencence for numeric variables",
          "Partial depencence for numeric variables",
          "Partial depencence for numeric variables",
          "Partial depencence for numeric variables"
         ],
         "legendgroup": "Partial depencence for numeric variables",
         "line": {
          "color": "#46bac2",
          "dash": "solid",
          "width": 2
         },
         "marker": {
          "symbol": "circle"
         },
         "mode": "lines",
         "name": "Partial depencence for numeric variables",
         "opacity": 1,
         "orientation": "v",
         "showlegend": false,
         "type": "scatter",
         "x": [
          1,
          2,
          3,
          4
         ],
         "xaxis": "x",
         "y": [
          0.0672996014200155,
          0.0700736992818394,
          0.06991666987526735,
          0.06992650638018869
         ],
         "yaxis": "y"
        }
       ],
       "layout": {
        "annotations": [
         {
          "font": {
           "size": 13
          },
          "showarrow": false,
          "text": "veh_age",
          "x": 0.2375,
          "xanchor": "center",
          "xref": "paper",
          "y": 0.425,
          "yanchor": "bottom",
          "yref": "paper"
         },
         {
          "font": {
           "size": 13
          },
          "showarrow": false,
          "text": "veh_value",
          "x": 0.2375,
          "xanchor": "center",
          "xref": "paper",
          "y": 1,
          "yanchor": "bottom",
          "yref": "paper"
         },
         {
          "font": {
           "size": 13
          },
          "showarrow": false,
          "text": "agecat",
          "x": 0.7625,
          "xanchor": "center",
          "xref": "paper",
          "y": 1,
          "yanchor": "bottom",
          "yref": "paper"
         },
         {
          "font": {
           "size": 13
          },
          "showarrow": false,
          "text": "prediction",
          "textangle": -90,
          "x": -0.07,
          "xref": "paper",
          "y": 0.5,
          "yref": "paper"
         }
        ],
        "font": {
         "color": "#371ea3"
        },
        "height": 829,
        "hovermode": "x unified",
        "legend": {
         "font": {
          "size": 11
         },
         "itemsizing": "constant",
         "orientation": "h",
         "title": {
          "font": {
           "size": 12
          },
          "text": "label"
         },
         "tracegroupgap": 0,
         "x": 1,
         "xanchor": "right",
         "y": 1.0361881785283473,
         "yanchor": "bottom"
        },
        "margin": {
         "b": 71,
         "r": 30,
         "t": 78
        },
        "template": {
         "data": {
          "scatter": [
           {
            "type": "scatter"
           }
          ]
         }
        },
        "title": {
         "font": {
          "size": 16
         },
         "text": "Aggregated Profiles",
         "x": 0.15
        },
        "xaxis": {
         "anchor": "y",
         "automargin": true,
         "domain": [
          0,
          0.475
         ],
         "fixedrange": true,
         "gridwidth": 2,
         "showticklabels": true,
         "tickcolor": "white",
         "ticklen": 3,
         "ticks": "outside",
         "title": {
          "text": ""
         },
         "type": "linear",
         "zeroline": false
        },
        "xaxis2": {
         "anchor": "y2",
         "automargin": true,
         "domain": [
          0.525,
          1
         ],
         "fixedrange": true,
         "gridwidth": 2,
         "showticklabels": true,
         "tickcolor": "white",
         "ticklen": 3,
         "ticks": "outside",
         "title": {
          "text": ""
         },
         "type": "linear",
         "zeroline": false
        },
        "xaxis3": {
         "anchor": "y3",
         "automargin": true,
         "domain": [
          0,
          0.475
         ],
         "fixedrange": true,
         "gridwidth": 2,
         "showticklabels": true,
         "tickcolor": "white",
         "ticklen": 3,
         "ticks": "outside",
         "title": {
          "text": ""
         },
         "type": "linear",
         "zeroline": false
        },
        "xaxis4": {
         "anchor": "y4",
         "automargin": true,
         "domain": [
          0.525,
          1
         ],
         "fixedrange": true,
         "gridwidth": 2,
         "showticklabels": true,
         "tickcolor": "white",
         "ticklen": 3,
         "ticks": "outside",
         "title": {
          "text": ""
         },
         "type": "linear",
         "zeroline": false
        },
        "yaxis": {
         "anchor": "x",
         "automargin": true,
         "domain": [
          0,
          0.425
         ],
         "fixedrange": true,
         "gridwidth": 2,
         "showticklabels": true,
         "tickcolor": "white",
         "ticklen": 3,
         "ticks": "outside",
         "title": {
          "text": ""
         },
         "type": "linear",
         "zeroline": false
        },
        "yaxis2": {
         "anchor": "x2",
         "automargin": true,
         "domain": [
          0,
          0.425
         ],
         "fixedrange": true,
         "gridwidth": 2,
         "showticklabels": true,
         "tickcolor": "white",
         "ticklen": 3,
         "ticks": "outside",
         "title": {
          "text": ""
         },
         "type": "linear",
         "zeroline": false
        },
        "yaxis3": {
         "anchor": "x3",
         "automargin": true,
         "domain": [
          0.575,
          1
         ],
         "fixedrange": true,
         "gridwidth": 2,
         "showticklabels": true,
         "tickcolor": "white",
         "ticklen": 3,
         "ticks": "outside",
         "title": {
          "text": ""
         },
         "type": "linear",
         "zeroline": false
        },
        "yaxis4": {
         "anchor": "x4",
         "automargin": true,
         "domain": [
          0.575,
          1
         ],
         "fixedrange": true,
         "gridwidth": 2,
         "showticklabels": true,
         "tickcolor": "white",
         "ticklen": 3,
         "ticks": "outside",
         "title": {
          "text": ""
         },
         "type": "linear",
         "zeroline": false
        }
       }
      }
     },
     "metadata": {},
     "output_type": "display_data"
    },
    {
     "data": {
      "application/vnd.plotly.v1+json": {
       "config": {
        "displaylogo": false,
        "modeBarButtonsToRemove": [
         "sendDataToCloud",
         "lasso2d",
         "autoScale2d",
         "select2d",
         "zoom2d",
         "pan2d",
         "zoomIn2d",
         "zoomOut2d",
         "resetScale2d",
         "toggleSpikelines",
         "hoverCompareCartesian",
         "hoverClosestCartesian"
        ],
        "plotlyServerURL": "https://plot.ly",
        "staticPlot": false,
        "toImageButtonOptions": {
         "height": null,
         "width": null
        }
       },
       "data": [
        {
         "alignmentgroup": "True",
         "base": [
          0.06793873104537256,
          0.06793873104537256
         ],
         "customdata": [
          [
           0.06805638895261802,
           "Partial depencence for ordinal variables",
           "gender"
          ],
          [
           0.06775030416118667,
           "Partial depencence for ordinal variables",
           "gender"
          ]
         ],
         "hovertemplate": "<b>%{hovertext}</b><br><br>mean_prediction=%{base:.3f}<br>prediction=%{customdata[0]:.3f}<extra></extra>",
         "hovertext": [
          "Partial depencence for ordinal variables",
          "Partial depencence for ordinal variables"
         ],
         "legendgroup": "Partial depencence for ordinal variables",
         "marker": {
          "color": "#46bac2",
          "pattern": {
           "shape": ""
          }
         },
         "name": "Partial depencence for ordinal variables",
         "offsetgroup": "Partial depencence for ordinal variables",
         "orientation": "v",
         "showlegend": true,
         "textposition": "auto",
         "type": "bar",
         "x": [
          "F",
          "M"
         ],
         "xaxis": "x3",
         "y": [
          0.00011765790724546643,
          -0.00018842688418588271
         ],
         "yaxis": "y3"
        },
        {
         "alignmentgroup": "True",
         "base": [
          0.06793873104537256,
          0.06793873104537256,
          0.06793873104537256,
          0.06793873104537256,
          0.06793873104537256,
          0.06793873104537256
         ],
         "customdata": [
          [
           0.068299281903967,
           "Partial depencence for ordinal variables",
           "area"
          ],
          [
           0.06828438143573076,
           "Partial depencence for ordinal variables",
           "area"
          ],
          [
           0.06797822761562741,
           "Partial depencence for ordinal variables",
           "area"
          ],
          [
           0.0669990551957747,
           "Partial depencence for ordinal variables",
           "area"
          ],
          [
           0.06699396978265897,
           "Partial depencence for ordinal variables",
           "area"
          ],
          [
           0.0685420764187782,
           "Partial depencence for ordinal variables",
           "area"
          ]
         ],
         "hovertemplate": "<b>%{hovertext}</b><br><br>mean_prediction=%{base:.3f}<br>prediction=%{customdata[0]:.3f}<extra></extra>",
         "hovertext": [
          "Partial depencence for ordinal variables",
          "Partial depencence for ordinal variables",
          "Partial depencence for ordinal variables",
          "Partial depencence for ordinal variables",
          "Partial depencence for ordinal variables",
          "Partial depencence for ordinal variables"
         ],
         "legendgroup": "Partial depencence for ordinal variables",
         "marker": {
          "color": "#46bac2",
          "pattern": {
           "shape": ""
          }
         },
         "name": "Partial depencence for ordinal variables",
         "offsetgroup": "Partial depencence for ordinal variables",
         "orientation": "v",
         "showlegend": false,
         "textposition": "auto",
         "type": "bar",
         "x": [
          "A",
          "B",
          "C",
          "D",
          "E",
          "F"
         ],
         "xaxis": "x4",
         "y": [
          0.0003605508585944467,
          0.000345650390358207,
          0.0000394965702548572,
          -0.0009396758495978513,
          -0.0009447612627135893,
          0.0006033453734056449
         ],
         "yaxis": "y4"
        },
        {
         "alignmentgroup": "True",
         "base": [
          0.06793873104537256,
          0.06793873104537256,
          0.06793873104537256,
          0.06793873104537256,
          0.06793873104537256,
          0.06793873104537256,
          0.06793873104537256,
          0.06793873104537256,
          0.06793873104537256,
          0.06793873104537256,
          0.06793873104537256,
          0.06793873104537256,
          0.06793873104537256
         ],
         "customdata": [
          [
           0.07444255912168195,
           "Partial depencence for ordinal variables",
           "veh_body"
          ],
          [
           0.07444255912168195,
           "Partial depencence for ordinal variables",
           "veh_body"
          ],
          [
           0.07444255912168195,
           "Partial depencence for ordinal variables",
           "veh_body"
          ],
          [
           0.06925604959648832,
           "Partial depencence for ordinal variables",
           "veh_body"
          ],
          [
           0.06923138012357496,
           "Partial depencence for ordinal variables",
           "veh_body"
          ],
          [
           0.0691919289808309,
           "Partial depencence for ordinal variables",
           "veh_body"
          ],
          [
           0.06915170024653715,
           "Partial depencence for ordinal variables",
           "veh_body"
          ],
          [
           0.06914094077584174,
           "Partial depencence for ordinal variables",
           "veh_body"
          ],
          [
           0.0689467317734216,
           "Partial depencence for ordinal variables",
           "veh_body"
          ],
          [
           0.06854987943281596,
           "Partial depencence for ordinal variables",
           "veh_body"
          ],
          [
           0.06766243727026147,
           "Partial depencence for ordinal variables",
           "veh_body"
          ],
          [
           0.06673002920572829,
           "Partial depencence for ordinal variables",
           "veh_body"
          ],
          [
           0.06046087463476571,
           "Partial depencence for ordinal variables",
           "veh_body"
          ]
         ],
         "hovertemplate": "<b>%{hovertext}</b><br><br>mean_prediction=%{base:.3f}<br>prediction=%{customdata[0]:.3f}<extra></extra>",
         "hovertext": [
          "Partial depencence for ordinal variables",
          "Partial depencence for ordinal variables",
          "Partial depencence for ordinal variables",
          "Partial depencence for ordinal variables",
          "Partial depencence for ordinal variables",
          "Partial depencence for ordinal variables",
          "Partial depencence for ordinal variables",
          "Partial depencence for ordinal variables",
          "Partial depencence for ordinal variables",
          "Partial depencence for ordinal variables",
          "Partial depencence for ordinal variables",
          "Partial depencence for ordinal variables",
          "Partial depencence for ordinal variables"
         ],
         "legendgroup": "Partial depencence for ordinal variables",
         "marker": {
          "color": "#46bac2",
          "pattern": {
           "shape": ""
          }
         },
         "name": "Partial depencence for ordinal variables",
         "offsetgroup": "Partial depencence for ordinal variables",
         "orientation": "v",
         "showlegend": false,
         "textposition": "auto",
         "type": "bar",
         "x": [
          "BUS",
          "CONVT",
          "COUPE",
          "HBACK",
          "HDTOP",
          "MCARA",
          "MIBUS",
          "PANVN",
          "RDSTR",
          "SEDAN",
          "STNWG",
          "TRUCK",
          "UTE"
         ],
         "xaxis": "x",
         "y": [
          0.0065038280763093925,
          0.0065038280763093925,
          0.0065038280763093925,
          0.001317318551115762,
          0.0012926490782024097,
          0.0012531979354583472,
          0.0012129692011645932,
          0.001202209730469181,
          0.0010080007280490466,
          0.0006111483874434026,
          -0.00027629377511108333,
          -0.0012087018396442634,
          -0.007477856410606845
         ],
         "yaxis": "y"
        }
       ],
       "layout": {
        "annotations": [
         {
          "font": {
           "size": 13
          },
          "showarrow": false,
          "text": "veh_body",
          "x": 0.2375,
          "xanchor": "center",
          "xref": "paper",
          "y": 0.425,
          "yanchor": "bottom",
          "yref": "paper"
         },
         {
          "font": {
           "size": 13
          },
          "showarrow": false,
          "text": "gender",
          "x": 0.2375,
          "xanchor": "center",
          "xref": "paper",
          "y": 1,
          "yanchor": "bottom",
          "yref": "paper"
         },
         {
          "font": {
           "size": 13
          },
          "showarrow": false,
          "text": "area",
          "x": 0.7625,
          "xanchor": "center",
          "xref": "paper",
          "y": 1,
          "yanchor": "bottom",
          "yref": "paper"
         },
         {
          "font": {
           "size": 13
          },
          "showarrow": false,
          "text": "prediction",
          "textangle": -90,
          "x": -0.07,
          "xref": "paper",
          "y": 0.5,
          "yref": "paper"
         }
        ],
        "barmode": "group",
        "font": {
         "color": "#371ea3"
        },
        "height": 829,
        "hovermode": "x unified",
        "legend": {
         "font": {
          "size": 11
         },
         "itemsizing": "constant",
         "orientation": "h",
         "title": {
          "font": {
           "size": 12
          },
          "text": "label"
         },
         "tracegroupgap": 0,
         "x": 1,
         "xanchor": "right",
         "y": 1.0361881785283473,
         "yanchor": "bottom"
        },
        "margin": {
         "b": 71,
         "r": 30,
         "t": 78
        },
        "shapes": [
         {
          "layer": "below",
          "line": {
           "color": "#371ea3",
           "dash": "dot",
           "width": 1.5
          },
          "type": "line",
          "x0": 0,
          "x1": 1,
          "xref": "x domain",
          "y0": 0.06793873104537256,
          "y1": 0.06793873104537256,
          "yref": "y"
         },
         {
          "layer": "below",
          "line": {
           "color": "#371ea3",
           "dash": "dot",
           "width": 1.5
          },
          "type": "line",
          "x0": 0,
          "x1": 1,
          "xref": "x3 domain",
          "y0": 0.06793873104537256,
          "y1": 0.06793873104537256,
          "yref": "y3"
         },
         {
          "layer": "below",
          "line": {
           "color": "#371ea3",
           "dash": "dot",
           "width": 1.5
          },
          "type": "line",
          "x0": 0,
          "x1": 1,
          "xref": "x4 domain",
          "y0": 0.06793873104537256,
          "y1": 0.06793873104537256,
          "yref": "y4"
         },
         {
          "layer": "below",
          "line": {
           "color": "#371ea3",
           "dash": "dot",
           "width": 1.5
          },
          "type": "line",
          "x0": 0,
          "x1": 1,
          "xref": "x domain",
          "y0": 0.06793873104537256,
          "y1": 0.06793873104537256,
          "yref": "y"
         },
         {
          "layer": "below",
          "line": {
           "color": "#371ea3",
           "dash": "dot",
           "width": 1.5
          },
          "type": "line",
          "x0": 0,
          "x1": 1,
          "xref": "x3 domain",
          "y0": 0.06793873104537256,
          "y1": 0.06793873104537256,
          "yref": "y3"
         },
         {
          "layer": "below",
          "line": {
           "color": "#371ea3",
           "dash": "dot",
           "width": 1.5
          },
          "type": "line",
          "x0": 0,
          "x1": 1,
          "xref": "x4 domain",
          "y0": 0.06793873104537256,
          "y1": 0.06793873104537256,
          "yref": "y4"
         },
         {
          "layer": "below",
          "line": {
           "color": "#371ea3",
           "dash": "dot",
           "width": 1.5
          },
          "type": "line",
          "x0": 0,
          "x1": 1,
          "xref": "x domain",
          "y0": 0.06793873104537256,
          "y1": 0.06793873104537256,
          "yref": "y"
         },
         {
          "layer": "below",
          "line": {
           "color": "#371ea3",
           "dash": "dot",
           "width": 1.5
          },
          "type": "line",
          "x0": 0,
          "x1": 1,
          "xref": "x3 domain",
          "y0": 0.06793873104537256,
          "y1": 0.06793873104537256,
          "yref": "y3"
         },
         {
          "layer": "below",
          "line": {
           "color": "#371ea3",
           "dash": "dot",
           "width": 1.5
          },
          "type": "line",
          "x0": 0,
          "x1": 1,
          "xref": "x4 domain",
          "y0": 0.06793873104537256,
          "y1": 0.06793873104537256,
          "yref": "y4"
         }
        ],
        "template": {
         "data": {
          "scatter": [
           {
            "type": "scatter"
           }
          ]
         }
        },
        "title": {
         "font": {
          "size": 16
         },
         "text": "Aggregated Profiles",
         "x": 0.15
        },
        "xaxis": {
         "anchor": "y",
         "automargin": true,
         "domain": [
          0,
          0.475
         ],
         "fixedrange": true,
         "gridwidth": 2,
         "showticklabels": true,
         "tickcolor": "white",
         "ticklen": 10,
         "ticks": "outside",
         "title": {
          "text": ""
         },
         "type": "category"
        },
        "xaxis2": {
         "anchor": "y2",
         "automargin": true,
         "domain": [
          0.525,
          1
         ],
         "fixedrange": true,
         "gridwidth": 2,
         "showticklabels": true,
         "tickcolor": "white",
         "ticklen": 10,
         "ticks": "outside",
         "title": {
          "text": ""
         },
         "type": "category"
        },
        "xaxis3": {
         "anchor": "y3",
         "automargin": true,
         "domain": [
          0,
          0.475
         ],
         "fixedrange": true,
         "gridwidth": 2,
         "showticklabels": true,
         "tickcolor": "white",
         "ticklen": 10,
         "ticks": "outside",
         "title": {
          "text": ""
         },
         "type": "category"
        },
        "xaxis4": {
         "anchor": "y4",
         "automargin": true,
         "domain": [
          0.525,
          1
         ],
         "fixedrange": true,
         "gridwidth": 2,
         "showticklabels": true,
         "tickcolor": "white",
         "ticklen": 10,
         "ticks": "outside",
         "title": {
          "text": ""
         },
         "type": "category"
        },
        "yaxis": {
         "anchor": "x",
         "automargin": true,
         "domain": [
          0,
          0.425
         ],
         "fixedrange": true,
         "gridwidth": 2,
         "showticklabels": true,
         "tickcolor": "white",
         "ticklen": 3,
         "ticks": "outside",
         "title": {
          "text": ""
         },
         "type": "linear",
         "zeroline": false
        },
        "yaxis2": {
         "anchor": "x2",
         "automargin": true,
         "domain": [
          0,
          0.425
         ],
         "fixedrange": true,
         "gridwidth": 2,
         "showticklabels": true,
         "tickcolor": "white",
         "ticklen": 3,
         "ticks": "outside",
         "title": {
          "text": ""
         },
         "type": "linear",
         "zeroline": false
        },
        "yaxis3": {
         "anchor": "x3",
         "automargin": true,
         "domain": [
          0.575,
          1
         ],
         "fixedrange": true,
         "gridwidth": 2,
         "showticklabels": true,
         "tickcolor": "white",
         "ticklen": 3,
         "ticks": "outside",
         "title": {
          "text": ""
         },
         "type": "linear",
         "zeroline": false
        },
        "yaxis4": {
         "anchor": "x4",
         "automargin": true,
         "domain": [
          0.575,
          1
         ],
         "fixedrange": true,
         "gridwidth": 2,
         "showticklabels": true,
         "tickcolor": "white",
         "ticklen": 3,
         "ticks": "outside",
         "title": {
          "text": ""
         },
         "type": "linear",
         "zeroline": false
        }
       }
      }
     },
     "metadata": {},
     "output_type": "display_data"
    }
   ],
   "source": [
    "# Partial dependence plots on training data\n",
    "num_eval_at = {\n",
    "    \"veh_value\": np.linspace(0, 5, 41),\n",
    "    \"agecat\": sorted(car[\"agecat\"].unique()),\n",
    "    \"veh_age\": sorted(car[\"veh_age\"].unique()),\n",
    "}\n",
    "pdp_num = exp.model_profile(\n",
    "    variable_splits=num_eval_at,\n",
    "    label=\"Partial depencence for numeric variables\",\n",
    "    verbose=False,\n",
    ")\n",
    "pdp_num.plot(facet_scales=\"free\")\n",
    "\n",
    "pdp_ord = exp.model_profile(\n",
    "    variable_type=\"categorical\",\n",
    "    variable_splits=dict(zip(ord_features, ord_levels)),\n",
    "    label=\"Partial depencence for ordinal variables\",\n",
    "    verbose=False,\n",
    ")\n",
    "pdp_ord.plot(facet_scales=\"free\")"
   ]
  },
  {
   "cell_type": "markdown",
   "metadata": {},
   "source": [
    "# Chapter 4: Neural Nets\n",
    "\n",
    "## Exercise 1"
   ]
  },
  {
   "cell_type": "code",
   "execution_count": null,
   "metadata": {},
   "outputs": [
    {
     "data": {
      "text/plain": [
       "array([[ 0.98143089, -1.5256479 ,  0.57680845, -0.60749424],\n",
       "       [-0.80744346, -1.5256479 , -1.24422106,  1.01420318],\n",
       "       [-0.80744346,  0.82624444, -0.63721122, -0.0809691 ],\n",
       "       [ 0.98143089, -0.34970173, -0.03020138, -0.96553133],\n",
       "       [-2.5963178 , -0.93767482, -0.63721122,  0.42449503]])"
      ]
     },
     "execution_count": 37,
     "metadata": {},
     "output_type": "execute_result"
    }
   ],
   "source": [
    "# Load data and specify preprocessing\n",
    "from plotnine.data import diamonds\n",
    "from sklearn.preprocessing import OrdinalEncoder, StandardScaler\n",
    "from sklearn.compose import ColumnTransformer\n",
    "from sklearn.pipeline import make_pipeline\n",
    "from sklearn.model_selection import train_test_split\n",
    "\n",
    "diamonds[\"price\"] = diamonds[\"price\"].astype(\"float32\")  # for TensorFlow\n",
    "\n",
    "df_train, df_valid, y_train, y_valid = train_test_split(\n",
    "    diamonds, diamonds[\"price\"], test_size=0.2, random_state=341\n",
    ")\n",
    "\n",
    "ord_features = [\"cut\", \"color\", \"clarity\"]\n",
    "ord_levels = [diamonds[x].cat.categories.to_list() for x in ord_features]\n",
    "\n",
    "preprocessor = make_pipeline(\n",
    "    ColumnTransformer(\n",
    "        transformers=[\n",
    "            (\"ordinal\", OrdinalEncoder(categories=ord_levels), ord_features),\n",
    "            (\"numeric\", \"passthrough\", [\"carat\"]),\n",
    "        ]\n",
    "    ),\n",
    "    StandardScaler(),\n",
    ")\n",
    "\n",
    "X_train = preprocessor.fit_transform(df_train)\n",
    "X_valid = preprocessor.transform(df_valid)\n",
    "X_valid[0:5]"
   ]
  },
  {
   "cell_type": "code",
   "execution_count": null,
   "metadata": {},
   "outputs": [],
   "source": [
    "# Modeling\n",
    "import tensorflow as tf\n",
    "from tensorflow import keras\n",
    "from tensorflow.keras import layers\n",
    "from tensorflow.keras import backend as K\n",
    "\n",
    "\n",
    "def loss_gamma(y_true, y_pred):\n",
    "    return -K.log(y_true / y_pred) + y_true / y_pred\n",
    "\n",
    "\n",
    "inputs = keras.Input(shape=4)\n",
    "x = layers.Dense(30, activation=\"tanh\")(inputs)\n",
    "x = layers.Dense(15, activation=\"tanh\")(x)\n",
    "outputs = layers.Dense(1, activation=K.exp)(x)\n",
    "\n",
    "model = keras.Model(inputs=inputs, outputs=outputs)\n",
    "\n",
    "model.compile(loss=loss_gamma, optimizer=keras.optimizers.Adam(learning_rate=0.001))\n",
    "\n",
    "cb = [\n",
    "    keras.callbacks.EarlyStopping(patience=20),\n",
    "    keras.callbacks.ReduceLROnPlateau(patience=5),\n",
    "]\n",
    "\n",
    "tf.random.set_seed(873)\n",
    "\n",
    "history = model.fit(\n",
    "    x=X_train,\n",
    "    y=y_train,\n",
    "    epochs=1000,\n",
    "    batch_size=400,\n",
    "    validation_data=(X_valid, y_valid),\n",
    "    callbacks=cb,\n",
    "    verbose=0,\n",
    ")"
   ]
  },
  {
   "cell_type": "code",
   "execution_count": null,
   "metadata": {},
   "outputs": [
    {
     "data": {
      "image/png": "[encoded data removed]",
      "text/plain": [
       "<Figure size 432x288 with 1 Axes>"
      ]
     },
     "metadata": {
      "needs_background": "light"
     },
     "output_type": "display_data"
    }
   ],
   "source": [
    "# Average loss over epochs\n",
    "import matplotlib.pyplot as plt\n",
    "\n",
    "plt.plot(history.history[\"loss\"], label=\"Training\")\n",
    "plt.plot(history.history[\"val_loss\"], label=\"Validation\")\n",
    "plt.legend()\n",
    "plt.gca().set(\n",
    "    title=\"Average loss over epochs\", xlabel=\"Epoch\", ylabel=\"Loss\", ylim=(0, 3),\n",
    ")\n",
    "plt.grid()\n",
    "plt.show()"
   ]
  },
  {
   "cell_type": "code",
   "execution_count": null,
   "metadata": {},
   "outputs": [
    {
     "name": "stdout",
     "output_type": "stream",
     "text": [
      "% deviance explained: 98.44%\n"
     ]
    }
   ],
   "source": [
    "# Interpretation\n",
    "import dalex as dx\n",
    "from sklearn.metrics import mean_gamma_deviance as deviance\n",
    "from sklearn.dummy import DummyRegressor\n",
    "\n",
    "dummy = DummyRegressor().fit(X_train, y_train)\n",
    "d0, d = (deviance(y_valid, m.predict(X_valid)) for m in (dummy, model))\n",
    "print(f\"% deviance explained: {(d0 - d) / d0:.2%}\")"
   ]
  },
  {
   "cell_type": "code",
   "execution_count": null,
   "metadata": {},
   "outputs": [
    {
     "data": {
      "application/vnd.plotly.v1+json": {
       "config": {
        "displaylogo": false,
        "modeBarButtonsToRemove": [
         "sendDataToCloud",
         "lasso2d",
         "autoScale2d",
         "select2d",
         "zoom2d",
         "pan2d",
         "zoomIn2d",
         "zoomOut2d",
         "resetScale2d",
         "toggleSpikelines",
         "hoverCompareCartesian",
         "hoverClosestCartesian"
        ],
        "plotlyServerURL": "https://plot.ly",
        "staticPlot": false,
        "toImageButtonOptions": {
         "height": null,
         "width": null
        }
       },
       "data": [
        {
         "base": 656.4301147460938,
         "hoverinfo": "text",
         "hoverlabel": {
          "bgcolor": "rgba(0,0,0,0.8)"
         },
         "hovertext": [
          "Model: Functional loss after<br>variable: carat is permuted: 6433.205<br>Drop-out loss change: +5776.774",
          "Model: Functional loss after<br>variable: clarity is permuted: 1781.718<br>Drop-out loss change: +1125.288",
          "Model: Functional loss after<br>variable: color is permuted: 1434.47<br>Drop-out loss change: +778.04",
          "Model: Functional loss after<br>variable: cut is permuted: 706.348<br>Drop-out loss change: +49.918"
         ],
         "marker": {
          "color": "#46bac2"
         },
         "orientation": "h",
         "showlegend": false,
         "text": [
          "+5776.774",
          "+1125.288",
          "+778.04",
          "+49.918"
         ],
         "textposition": "outside",
         "type": "bar",
         "x": [
          5776.7744140625,
          1125.2880859375,
          778.0398559570312,
          49.91802978515625
         ],
         "xaxis": "x",
         "y": [
          "carat",
          "clarity",
          "color",
          "cut"
         ],
         "yaxis": "y"
        }
       ],
       "layout": {
        "annotations": [
         {
          "font": {
           "size": 16
          },
          "showarrow": false,
          "text": "Functional",
          "x": 0.5,
          "xanchor": "center",
          "xref": "paper",
          "y": 1,
          "yanchor": "bottom",
          "yref": "paper"
         },
         {
          "font": {
           "size": 16
          },
          "showarrow": false,
          "text": "drop-out loss",
          "x": 0.5,
          "xanchor": "center",
          "xref": "paper",
          "y": 0,
          "yanchor": "top",
          "yref": "paper",
          "yshift": -30
         }
        ],
        "font": {
         "color": "#371ea3"
        },
        "height": 263,
        "margin": {
         "b": 71,
         "r": 30,
         "t": 78
        },
        "shapes": [
         {
          "line": {
           "color": "#371ea3",
           "dash": "dot",
           "width": 1.5
          },
          "type": "line",
          "x0": 656.4301147460938,
          "x1": 656.4301147460938,
          "xref": "x",
          "y0": -1,
          "y1": 4,
          "yref": "y"
         }
        ],
        "template": {
         "data": {
          "scatter": [
           {
            "type": "scatter"
           }
          ]
         }
        },
        "title": {
         "text": "Variable Importance",
         "x": 0.15
        },
        "xaxis": {
         "anchor": "y",
         "automargin": true,
         "domain": [
          0,
          1
         ],
         "fixedrange": true,
         "gridwidth": 2,
         "range": [
          -210.08604736328118,
          7299.720751953125
         ],
         "tickcolor": "white",
         "ticklen": 3,
         "ticks": "outside",
         "type": "linear",
         "zeroline": false
        },
        "yaxis": {
         "anchor": "x",
         "automargin": true,
         "autorange": "reversed",
         "domain": [
          0,
          1
         ],
         "fixedrange": true,
         "gridwidth": 2,
         "tickcolor": "white",
         "ticklen": 10,
         "ticks": "outside",
         "type": "category"
        }
       }
      }
     },
     "metadata": {},
     "output_type": "display_data"
    }
   ],
   "source": [
    "def pred_fun(m, X):\n",
    "    return m.predict(preprocessor.transform(X), batch_size=1000, verbose=0).flatten()\n",
    "\n",
    "\n",
    "exp = dx.Explainer(\n",
    "    model,\n",
    "    data=df_valid[ord_features + [\"carat\"]],\n",
    "    y=y_valid,\n",
    "    predict_function=pred_fun,\n",
    "    verbose=False,\n",
    ")\n",
    "\n",
    "vi = exp.model_parts()\n",
    "vi.plot()"
   ]
  },
  {
   "cell_type": "code",
   "execution_count": null,
   "metadata": {},
   "outputs": [
    {
     "data": {
      "application/vnd.plotly.v1+json": {
       "config": {
        "displaylogo": false,
        "modeBarButtonsToRemove": [
         "sendDataToCloud",
         "lasso2d",
         "autoScale2d",
         "select2d",
         "zoom2d",
         "pan2d",
         "zoomIn2d",
         "zoomOut2d",
         "resetScale2d",
         "toggleSpikelines",
         "hoverCompareCartesian",
         "hoverClosestCartesian"
        ],
        "plotlyServerURL": "https://plot.ly",
        "staticPlot": false,
        "toImageButtonOptions": {
         "height": null,
         "width": null
        }
       },
       "data": [
        {
         "customdata": [
          [
           3793.313720703125,
           "Partial depencence for numeric variables",
           "carat"
          ],
          [
           3793.313720703125,
           "Partial depencence for numeric variables",
           "carat"
          ],
          [
           3793.313720703125,
           "Partial depencence for numeric variables",
           "carat"
          ],
          [
           3793.313720703125,
           "Partial depencence for numeric variables",
           "carat"
          ],
          [
           3793.313720703125,
           "Partial depencence for numeric variables",
           "carat"
          ],
          [
           3793.313720703125,
           "Partial depencence for numeric variables",
           "carat"
          ],
          [
           3793.313720703125,
           "Partial depencence for numeric variables",
           "carat"
          ],
          [
           3793.313720703125,
           "Partial depencence for numeric variables",
           "carat"
          ],
          [
           3793.313720703125,
           "Partial depencence for numeric variables",
           "carat"
          ],
          [
           3793.313720703125,
           "Partial depencence for numeric variables",
           "carat"
          ],
          [
           3793.313720703125,
           "Partial depencence for numeric variables",
           "carat"
          ],
          [
           3793.313720703125,
           "Partial depencence for numeric variables",
           "carat"
          ],
          [
           3793.313720703125,
           "Partial depencence for numeric variables",
           "carat"
          ],
          [
           3793.313720703125,
           "Partial depencence for numeric variables",
           "carat"
          ],
          [
           3793.313720703125,
           "Partial depencence for numeric variables",
           "carat"
          ],
          [
           3793.313720703125,
           "Partial depencence for numeric variables",
           "carat"
          ],
          [
           3793.313720703125,
           "Partial depencence for numeric variables",
           "carat"
          ],
          [
           3793.313720703125,
           "Partial depencence for numeric variables",
           "carat"
          ],
          [
           3793.313720703125,
           "Partial depencence for numeric variables",
           "carat"
          ],
          [
           3793.313720703125,
           "Partial depencence for numeric variables",
           "carat"
          ],
          [
           3793.313720703125,
           "Partial depencence for numeric variables",
           "carat"
          ],
          [
           3793.313720703125,
           "Partial depencence for numeric variables",
           "carat"
          ],
          [
           3793.313720703125,
           "Partial depencence for numeric variables",
           "carat"
          ],
          [
           3793.313720703125,
           "Partial depencence for numeric variables",
           "carat"
          ],
          [
           3793.313720703125,
           "Partial depencence for numeric variables",
           "carat"
          ],
          [
           3793.313720703125,
           "Partial depencence for numeric variables",
           "carat"
          ],
          [
           3793.313720703125,
           "Partial depencence for numeric variables",
           "carat"
          ],
          [
           3793.313720703125,
           "Partial depencence for numeric variables",
           "carat"
          ],
          [
           3793.313720703125,
           "Partial depencence for numeric variables",
           "carat"
          ],
          [
           3793.313720703125,
           "Partial depencence for numeric variables",
           "carat"
          ],
          [
           3793.313720703125,
           "Partial depencence for numeric variables",
           "carat"
          ],
          [
           3793.313720703125,
           "Partial depencence for numeric variables",
           "carat"
          ],
          [
           3793.313720703125,
           "Partial depencence for numeric variables",
           "carat"
          ],
          [
           3793.313720703125,
           "Partial depencence for numeric variables",
           "carat"
          ],
          [
           3793.313720703125,
           "Partial depencence for numeric variables",
           "carat"
          ],
          [
           3793.313720703125,
           "Partial depencence for numeric variables",
           "carat"
          ],
          [
           3793.313720703125,
           "Partial depencence for numeric variables",
           "carat"
          ],
          [
           3793.313720703125,
           "Partial depencence for numeric variables",
           "carat"
          ],
          [
           3793.313720703125,
           "Partial depencence for numeric variables",
           "carat"
          ],
          [
           3793.313720703125,
           "Partial depencence for numeric variables",
           "carat"
          ],
          [
           3793.313720703125,
           "Partial depencence for numeric variables",
           "carat"
          ],
          [
           3793.313720703125,
           "Partial depencence for numeric variables",
           "carat"
          ],
          [
           3793.313720703125,
           "Partial depencence for numeric variables",
           "carat"
          ],
          [
           3793.313720703125,
           "Partial depencence for numeric variables",
           "carat"
          ],
          [
           3793.313720703125,
           "Partial depencence for numeric variables",
           "carat"
          ],
          [
           3793.313720703125,
           "Partial depencence for numeric variables",
           "carat"
          ],
          [
           3793.313720703125,
           "Partial depencence for numeric variables",
           "carat"
          ],
          [
           3793.313720703125,
           "Partial depencence for numeric variables",
           "carat"
          ],
          [
           3793.313720703125,
           "Partial depencence for numeric variables",
           "carat"
          ],
          [
           3793.313720703125,
           "Partial depencence for numeric variables",
           "carat"
          ],
          [
           3793.313720703125,
           "Partial depencence for numeric variables",
           "carat"
          ],
          [
           3793.313720703125,
           "Partial depencence for numeric variables",
           "carat"
          ],
          [
           3793.313720703125,
           "Partial depencence for numeric variables",
           "carat"
          ],
          [
           3793.313720703125,
           "Partial depencence for numeric variables",
           "carat"
          ],
          [
           3793.313720703125,
           "Partial depencence for numeric variables",
           "carat"
          ],
          [
           3793.313720703125,
           "Partial depencence for numeric variables",
           "carat"
          ],
          [
           3793.313720703125,
           "Partial depencence for numeric variables",
           "carat"
          ],
          [
           3793.313720703125,
           "Partial depencence for numeric variables",
           "carat"
          ],
          [
           3793.313720703125,
           "Partial depencence for numeric variables",
           "carat"
          ],
          [
           3793.313720703125,
           "Partial depencence for numeric variables",
           "carat"
          ],
          [
           3793.313720703125,
           "Partial depencence for numeric variables",
           "carat"
          ],
          [
           3793.313720703125,
           "Partial depencence for numeric variables",
           "carat"
          ],
          [
           3793.313720703125,
           "Partial depencence for numeric variables",
           "carat"
          ],
          [
           3793.313720703125,
           "Partial depencence for numeric variables",
           "carat"
          ],
          [
           3793.313720703125,
           "Partial depencence for numeric variables",
           "carat"
          ],
          [
           3793.313720703125,
           "Partial depencence for numeric variables",
           "carat"
          ],
          [
           3793.313720703125,
           "Partial depencence for numeric variables",
           "carat"
          ],
          [
           3793.313720703125,
           "Partial depencence for numeric variables",
           "carat"
          ],
          [
           3793.313720703125,
           "Partial depencence for numeric variables",
           "carat"
          ],
          [
           3793.313720703125,
           "Partial depencence for numeric variables",
           "carat"
          ],
          [
           3793.313720703125,
           "Partial depencence for numeric variables",
           "carat"
          ],
          [
           3793.313720703125,
           "Partial depencence for numeric variables",
           "carat"
          ],
          [
           3793.313720703125,
           "Partial depencence for numeric variables",
           "carat"
          ],
          [
           3793.313720703125,
           "Partial depencence for numeric variables",
           "carat"
          ],
          [
           3793.313720703125,
           "Partial depencence for numeric variables",
           "carat"
          ],
          [
           3793.313720703125,
           "Partial depencence for numeric variables",
           "carat"
          ],
          [
           3793.313720703125,
           "Partial depencence for numeric variables",
           "carat"
          ],
          [
           3793.313720703125,
           "Partial depencence for numeric variables",
           "carat"
          ],
          [
           3793.313720703125,
           "Partial depencence for numeric variables",
           "carat"
          ],
          [
           3793.313720703125,
           "Partial depencence for numeric variables",
           "carat"
          ],
          [
           3793.313720703125,
           "Partial depencence for numeric variables",
           "carat"
          ],
          [
           3793.313720703125,
           "Partial depencence for numeric variables",
           "carat"
          ],
          [
           3793.313720703125,
           "Partial depencence for numeric variables",
           "carat"
          ],
          [
           3793.313720703125,
           "Partial depencence for numeric variables",
           "carat"
          ],
          [
           3793.313720703125,
           "Partial depencence for numeric variables",
           "carat"
          ],
          [
           3793.313720703125,
           "Partial depencence for numeric variables",
           "carat"
          ],
          [
           3793.313720703125,
           "Partial depencence for numeric variables",
           "carat"
          ],
          [
           3793.313720703125,
           "Partial depencence for numeric variables",
           "carat"
          ],
          [
           3793.313720703125,
           "Partial depencence for numeric variables",
           "carat"
          ],
          [
           3793.313720703125,
           "Partial depencence for numeric variables",
           "carat"
          ],
          [
           3793.313720703125,
           "Partial depencence for numeric variables",
           "carat"
          ],
          [
           3793.313720703125,
           "Partial depencence for numeric variables",
           "carat"
          ],
          [
           3793.313720703125,
           "Partial depencence for numeric variables",
           "carat"
          ],
          [
           3793.313720703125,
           "Partial depencence for numeric variables",
           "carat"
          ],
          [
           3793.313720703125,
           "Partial depencence for numeric variables",
           "carat"
          ],
          [
           3793.313720703125,
           "Partial depencence for numeric variables",
           "carat"
          ],
          [
           3793.313720703125,
           "Partial depencence for numeric variables",
           "carat"
          ],
          [
           3793.313720703125,
           "Partial depencence for numeric variables",
           "carat"
          ],
          [
           3793.313720703125,
           "Partial depencence for numeric variables",
           "carat"
          ],
          [
           3793.313720703125,
           "Partial depencence for numeric variables",
           "carat"
          ],
          [
           3793.313720703125,
           "Partial depencence for numeric variables",
           "carat"
          ]
         ],
         "hovertemplate": "<b>%{hovertext}</b><br><br>prediction=%{y:.3f}<br>mean_prediction=%{customdata[0]:.3f}<extra></extra>",
         "hovertext": [
          "Partial depencence for numeric variables",
          "Partial depencence for numeric variables",
          "Partial depencence for numeric variables",
          "Partial depencence for numeric variables",
          "Partial depencence for numeric variables",
          "Partial depencence for numeric variables",
          "Partial depencence for numeric variables",
          "Partial depencence for numeric variables",
          "Partial depencence for numeric variables",
          "Partial depencence for numeric variables",
          "Partial depencence for numeric variables",
          "Partial depencence for numeric variables",
          "Partial depencence for numeric variables",
          "Partial depencence for numeric variables",
          "Partial depencence for numeric variables",
          "Partial depencence for numeric variables",
          "Partial depencence for numeric variables",
          "Partial depencence for numeric variables",
          "Partial depencence for numeric variables",
          "Partial depencence for numeric variables",
          "Partial depencence for numeric variables",
          "Partial depencence for numeric variables",
          "Partial depencence for numeric variables",
          "Partial depencence for numeric variables",
          "Partial depencence for numeric variables",
          "Partial depencence for numeric variables",
          "Partial depencence for numeric variables",
          "Partial depencence for numeric variables",
          "Partial depencence for numeric variables",
          "Partial depencence for numeric variables",
          "Partial depencence for numeric variables",
          "Partial depencence for numeric variables",
          "Partial depencence for numeric variables",
          "Partial depencence for numeric variables",
          "Partial depencence for numeric variables",
          "Partial depencence for numeric variables",
          "Partial depencence for numeric variables",
          "Partial depencence for numeric variables",
          "Partial depencence for numeric variables",
          "Partial depencence for numeric variables",
          "Partial depencence for numeric variables",
          "Partial depencence for numeric variables",
          "Partial depencence for numeric variables",
          "Partial depencence for numeric variables",
          "Partial depencence for numeric variables",
          "Partial depencence for numeric variables",
          "Partial depencence for numeric variables",
          "Partial depencence for numeric variables",
          "Partial depencence for numeric variables",
          "Partial depencence for numeric variables",
          "Partial depencence for numeric variables",
          "Partial depencence for numeric variables",
          "Partial depencence for numeric variables",
          "Partial depencence for numeric variables",
          "Partial depencence for numeric variables",
          "Partial depencence for numeric variables",
          "Partial depencence for numeric variables",
          "Partial depencence for numeric variables",
          "Partial depencence for numeric variables",
          "Partial depencence for numeric variables",
          "Partial depencence for numeric variables",
          "Partial depencence for numeric variables",
          "Partial depencence for numeric variables",
          "Partial depencence for numeric variables",
          "Partial depencence for numeric variables",
          "Partial depencence for numeric variables",
          "Partial depencence for numeric variables",
          "Partial depencence for numeric variables",
          "Partial depencence for numeric variables",
          "Partial depencence for numeric variables",
          "Partial depencence for numeric variables",
          "Partial depencence for numeric variables",
          "Partial depencence for numeric variables",
          "Partial depencence for numeric variables",
          "Partial depencence for numeric variables",
          "Partial depencence for numeric variables",
          "Partial depencence for numeric variables",
          "Partial depencence for numeric variables",
          "Partial depencence for numeric variables",
          "Partial depencence for numeric variables",
          "Partial depencence for numeric variables",
          "Partial depencence for numeric variables",
          "Partial depencence for numeric variables",
          "Partial depencence for numeric variables",
          "Partial depencence for numeric variables",
          "Partial depencence for numeric variables",
          "Partial depencence for numeric variables",
          "Partial depencence for numeric variables",
          "Partial depencence for numeric variables",
          "Partial depencence for numeric variables",
          "Partial depencence for numeric variables",
          "Partial depencence for numeric variables",
          "Partial depencence for numeric variables",
          "Partial depencence for numeric variables",
          "Partial depencence for numeric variables",
          "Partial depencence for numeric variables",
          "Partial depencence for numeric variables",
          "Partial depencence for numeric variables",
          "Partial depencence for numeric variables",
          "Partial depencence for numeric variables",
          "Partial depencence for numeric variables"
         ],
         "legendgroup": "Partial depencence for numeric variables",
         "line": {
          "color": "#46bac2",
          "dash": "solid",
          "width": 2
         },
         "marker": {
          "symbol": "circle"
         },
         "mode": "lines",
         "name": "Partial depencence for numeric variables",
         "opacity": 1,
         "orientation": "v",
         "showlegend": true,
         "type": "scatter",
         "x": [
          0.2,
          0.2393,
          0.2786,
          0.31789999999999996,
          0.35719999999999996,
          0.39649999999999996,
          0.43579999999999997,
          0.47509999999999997,
          0.5144,
          0.5537,
          0.593,
          0.6323,
          0.6716,
          0.7108999999999999,
          0.7502,
          0.7894999999999999,
          0.8288,
          0.8680999999999999,
          0.9074,
          0.9466999999999999,
          0.986,
          1.0252999999999999,
          1.0646,
          1.1038999999999999,
          1.1431999999999998,
          1.1824999999999999,
          1.2217999999999998,
          1.2610999999999999,
          1.3003999999999998,
          1.3397,
          1.3789999999999998,
          1.4183,
          1.4575999999999998,
          1.4968999999999997,
          1.5361999999999998,
          1.5754999999999997,
          1.6147999999999998,
          1.6540999999999997,
          1.6933999999999998,
          1.7326999999999997,
          1.7719999999999998,
          1.8112999999999997,
          1.8505999999999998,
          1.8898999999999997,
          1.9291999999999998,
          1.9684999999999997,
          2.0078,
          2.0471,
          2.0864,
          2.1256999999999997,
          2.1649999999999996,
          2.2043,
          2.2436,
          2.2828999999999997,
          2.3222,
          2.3615,
          2.4008,
          2.4400999999999997,
          2.4794,
          2.5187,
          2.558,
          2.5972999999999997,
          2.6366,
          2.6759,
          2.7152,
          2.7544999999999997,
          2.7937999999999996,
          2.8331,
          2.8724,
          2.9116999999999997,
          2.9509999999999996,
          2.9903,
          3.0296,
          3.0688999999999997,
          3.1081999999999996,
          3.1475,
          3.1868,
          3.2260999999999997,
          3.2653999999999996,
          3.3047,
          3.344,
          3.3832999999999998,
          3.4225999999999996,
          3.4618999999999995,
          3.5012,
          3.5404999999999998,
          3.5797999999999996,
          3.6190999999999995,
          3.6584,
          3.6976999999999998,
          3.7369999999999997,
          3.7762999999999995,
          3.8156,
          3.8548999999999998,
          3.8941999999999997,
          3.9334999999999996,
          3.9727999999999994,
          4.012099999999999,
          4.051399999999999,
          4.090699999999999,
          4.13
         ],
         "xaxis": "x",
         "y": [
          350.6443786621094,
          427.422607421875,
          517.379638671875,
          621.8770751953125,
          742.234619140625,
          879.6943969726562,
          1035.3848876953125,
          1210.284912109375,
          1405.1915283203125,
          1620.692138671875,
          1857.14306640625,
          2114.65478515625,
          2393.087890625,
          2692.057373046875,
          3010.94677734375,
          3348.93017578125,
          3705.006591796875,
          4078.0322265625,
          4466.765625,
          4869.90673828125,
          5286.1396484375,
          5714.16455078125,
          6152.73779296875,
          6600.68359375,
          7056.91943359375,
          7520.46142578125,
          7990.4208984375,
          8466.0078125,
          8946.51171875,
          9431.296875,
          9919.7783203125,
          10411.4189453125,
          10905.708984375,
          11402.15234375,
          11900.2626953125,
          12399.5537109375,
          12899.5390625,
          13399.720703125,
          13899.6015625,
          14398.671875,
          14896.427734375,
          15392.3642578125,
          15885.9775390625,
          16376.7822265625,
          16864.29296875,
          17348.05078125,
          17827.607421875,
          18302.5390625,
          18772.439453125,
          19236.943359375,
          19695.689453125,
          20148.357421875,
          20594.646484375,
          21034.2890625,
          21467.037109375,
          21892.671875,
          22310.994140625,
          22721.837890625,
          23125.052734375,
          23520.513671875,
          23908.111328125,
          24287.767578125,
          24659.41015625,
          25022.998046875,
          25378.48046875,
          25725.845703125,
          26065.09765625,
          26396.228515625,
          26719.271484375,
          27034.25390625,
          27341.205078125,
          27640.185546875,
          27931.248046875,
          28214.455078125,
          28489.884765625,
          28757.60546875,
          29017.705078125,
          29270.267578125,
          29515.38671875,
          29753.162109375,
          29983.685546875,
          30207.0625,
          30423.396484375,
          30632.794921875,
          30835.359375,
          31031.205078125,
          31220.451171875,
          31403.193359375,
          31579.55078125,
          31749.642578125,
          31913.572265625,
          32071.455078125,
          32223.41015625,
          32369.541015625,
          32509.966796875,
          32644.802734375,
          32774.1484375,
          32898.12890625,
          33016.84375,
          33130.3984375,
          33238.9140625
         ],
         "yaxis": "y"
        }
       ],
       "layout": {
        "annotations": [
         {
          "font": {
           "size": 13
          },
          "showarrow": false,
          "text": "carat",
          "x": 0.5,
          "xanchor": "center",
          "xref": "paper",
          "y": 1,
          "yanchor": "bottom",
          "yref": "paper"
         },
         {
          "font": {
           "size": 13
          },
          "showarrow": false,
          "text": "prediction",
          "textangle": -90,
          "x": -0.07,
          "xref": "paper",
          "y": 0.5,
          "yref": "paper"
         }
        ],
        "font": {
         "color": "#371ea3"
        },
        "height": 489,
        "hovermode": "x unified",
        "legend": {
         "font": {
          "size": 11
         },
         "itemsizing": "constant",
         "orientation": "h",
         "title": {
          "font": {
           "size": 12
          },
          "text": "label"
         },
         "tracegroupgap": 0,
         "x": 1,
         "xanchor": "right",
         "y": 1.0613496932515338,
         "yanchor": "bottom"
        },
        "margin": {
         "b": 71,
         "r": 30,
         "t": 78
        },
        "template": {
         "data": {
          "scatter": [
           {
            "type": "scatter"
           }
          ]
         }
        },
        "title": {
         "font": {
          "size": 16
         },
         "text": "Aggregated Profiles",
         "x": 0.15
        },
        "xaxis": {
         "anchor": "y",
         "automargin": true,
         "domain": [
          0,
          1
         ],
         "fixedrange": true,
         "gridwidth": 2,
         "showticklabels": true,
         "tickcolor": "white",
         "ticklen": 3,
         "ticks": "outside",
         "title": {
          "text": ""
         },
         "type": "linear",
         "zeroline": false
        },
        "yaxis": {
         "anchor": "x",
         "automargin": true,
         "domain": [
          0,
          1
         ],
         "fixedrange": true,
         "gridwidth": 2,
         "range": [
          -2938.182574462891,
          36527.741015625
         ],
         "tickcolor": "white",
         "ticklen": 3,
         "ticks": "outside",
         "title": {
          "text": ""
         },
         "type": "linear",
         "zeroline": false
        }
       }
      }
     },
     "metadata": {},
     "output_type": "display_data"
    },
    {
     "data": {
      "application/vnd.plotly.v1+json": {
       "config": {
        "displaylogo": false,
        "modeBarButtonsToRemove": [
         "sendDataToCloud",
         "lasso2d",
         "autoScale2d",
         "select2d",
         "zoom2d",
         "pan2d",
         "zoomIn2d",
         "zoomOut2d",
         "resetScale2d",
         "toggleSpikelines",
         "hoverCompareCartesian",
         "hoverClosestCartesian"
        ],
        "plotlyServerURL": "https://plot.ly",
        "staticPlot": false,
        "toImageButtonOptions": {
         "height": null,
         "width": null
        }
       },
       "data": [
        {
         "alignmentgroup": "True",
         "base": [
          4000.327880859375,
          4000.327880859375,
          4000.327880859375,
          4000.327880859375,
          4000.327880859375
         ],
         "customdata": [
          [
           3511.176025390625,
           "Partial depencence for ordinal variables",
           "cut"
          ],
          [
           3718.950927734375,
           "Partial depencence for ordinal variables",
           "cut"
          ],
          [
           3916.0673828125,
           "Partial depencence for ordinal variables",
           "cut"
          ],
          [
           4062.283935546875,
           "Partial depencence for ordinal variables",
           "cut"
          ],
          [
           4119.05078125,
           "Partial depencence for ordinal variables",
           "cut"
          ]
         ],
         "hovertemplate": "<b>%{hovertext}</b><br><br>mean_prediction=%{base:.3f}<br>prediction=%{customdata[0]:.3f}<extra></extra>",
         "hovertext": [
          "Partial depencence for ordinal variables",
          "Partial depencence for ordinal variables",
          "Partial depencence for ordinal variables",
          "Partial depencence for ordinal variables",
          "Partial depencence for ordinal variables"
         ],
         "legendgroup": "Partial depencence for ordinal variables",
         "marker": {
          "color": "#46bac2",
          "pattern": {
           "shape": ""
          }
         },
         "name": "Partial depencence for ordinal variables",
         "offsetgroup": "Partial depencence for ordinal variables",
         "orientation": "v",
         "showlegend": true,
         "textposition": "auto",
         "type": "bar",
         "x": [
          "Fair",
          "Good",
          "Very Good",
          "Premium",
          "Ideal"
         ],
         "xaxis": "x3",
         "y": [
          -489.15185546875,
          -281.376953125,
          -84.260498046875,
          61.9560546875,
          118.722900390625
         ],
         "yaxis": "y3"
        },
        {
         "alignmentgroup": "True",
         "base": [
          4000.327880859375,
          4000.327880859375,
          4000.327880859375,
          4000.327880859375,
          4000.327880859375,
          4000.327880859375,
          4000.327880859375
         ],
         "customdata": [
          [
           4858.2138671875,
           "Partial depencence for ordinal variables",
           "color"
          ],
          [
           4698.158203125,
           "Partial depencence for ordinal variables",
           "color"
          ],
          [
           4467.951171875,
           "Partial depencence for ordinal variables",
           "color"
          ],
          [
           4163.953125,
           "Partial depencence for ordinal variables",
           "color"
          ],
          [
           3791.057861328125,
           "Partial depencence for ordinal variables",
           "color"
          ],
          [
           3362.97900390625,
           "Partial depencence for ordinal variables",
           "color"
          ],
          [
           2900.86669921875,
           "Partial depencence for ordinal variables",
           "color"
          ]
         ],
         "hovertemplate": "<b>%{hovertext}</b><br><br>mean_prediction=%{base:.3f}<br>prediction=%{customdata[0]:.3f}<extra></extra>",
         "hovertext": [
          "Partial depencence for ordinal variables",
          "Partial depencence for ordinal variables",
          "Partial depencence for ordinal variables",
          "Partial depencence for ordinal variables",
          "Partial depencence for ordinal variables",
          "Partial depencence for ordinal variables",
          "Partial depencence for ordinal variables"
         ],
         "legendgroup": "Partial depencence for ordinal variables",
         "marker": {
          "color": "#46bac2",
          "pattern": {
           "shape": ""
          }
         },
         "name": "Partial depencence for ordinal variables",
         "offsetgroup": "Partial depencence for ordinal variables",
         "orientation": "v",
         "showlegend": false,
         "textposition": "auto",
         "type": "bar",
         "x": [
          "D",
          "E",
          "F",
          "G",
          "H",
          "I",
          "J"
         ],
         "xaxis": "x4",
         "y": [
          857.885986328125,
          697.830322265625,
          467.623291015625,
          163.625244140625,
          -209.27001953125,
          -637.348876953125,
          -1099.461181640625
         ],
         "yaxis": "y4"
        },
        {
         "alignmentgroup": "True",
         "base": [
          4000.327880859375,
          4000.327880859375,
          4000.327880859375,
          4000.327880859375,
          4000.327880859375,
          4000.327880859375,
          4000.327880859375,
          4000.327880859375
         ],
         "customdata": [
          [
           2410.8359375,
           "Partial depencence for ordinal variables",
           "clarity"
          ],
          [
           3175.569580078125,
           "Partial depencence for ordinal variables",
           "clarity"
          ],
          [
           3885.8486328125,
           "Partial depencence for ordinal variables",
           "clarity"
          ],
          [
           4448.470703125,
           "Partial depencence for ordinal variables",
           "clarity"
          ],
          [
           4878.2578125,
           "Partial depencence for ordinal variables",
           "clarity"
          ],
          [
           5271.16943359375,
           "Partial depencence for ordinal variables",
           "clarity"
          ],
          [
           5693.84326171875,
           "Partial depencence for ordinal variables",
           "clarity"
          ],
          [
           6115.63720703125,
           "Partial depencence for ordinal variables",
           "clarity"
          ]
         ],
         "hovertemplate": "<b>%{hovertext}</b><br><br>mean_prediction=%{base:.3f}<br>prediction=%{customdata[0]:.3f}<extra></extra>",
         "hovertext": [
          "Partial depencence for ordinal variables",
          "Partial depencence for ordinal variables",
          "Partial depencence for ordinal variables",
          "Partial depencence for ordinal variables",
          "Partial depencence for ordinal variables",
          "Partial depencence for ordinal variables",
          "Partial depencence for ordinal variables",
          "Partial depencence for ordinal variables"
         ],
         "legendgroup": "Partial depencence for ordinal variables",
         "marker": {
          "color": "#46bac2",
          "pattern": {
           "shape": ""
          }
         },
         "name": "Partial depencence for ordinal variables",
         "offsetgroup": "Partial depencence for ordinal variables",
         "orientation": "v",
         "showlegend": false,
         "textposition": "auto",
         "type": "bar",
         "x": [
          "I1",
          "SI2",
          "SI1",
          "VS2",
          "VS1",
          "VVS2",
          "VVS1",
          "IF"
         ],
         "xaxis": "x",
         "y": [
          -1589.491943359375,
          -824.75830078125,
          -114.479248046875,
          448.142822265625,
          877.929931640625,
          1270.841552734375,
          1693.515380859375,
          2115.309326171875
         ],
         "yaxis": "y"
        }
       ],
       "layout": {
        "annotations": [
         {
          "font": {
           "size": 13
          },
          "showarrow": false,
          "text": "clarity",
          "x": 0.2375,
          "xanchor": "center",
          "xref": "paper",
          "y": 0.425,
          "yanchor": "bottom",
          "yref": "paper"
         },
         {
          "font": {
           "size": 13
          },
          "showarrow": false,
          "text": "cut",
          "x": 0.2375,
          "xanchor": "center",
          "xref": "paper",
          "y": 1,
          "yanchor": "bottom",
          "yref": "paper"
         },
         {
          "font": {
           "size": 13
          },
          "showarrow": false,
          "text": "color",
          "x": 0.7625,
          "xanchor": "center",
          "xref": "paper",
          "y": 1,
          "yanchor": "bottom",
          "yref": "paper"
         },
         {
          "font": {
           "size": 13
          },
          "showarrow": false,
          "text": "prediction",
          "textangle": -90,
          "x": -0.07,
          "xref": "paper",
          "y": 0.5,
          "yref": "paper"
         }
        ],
        "barmode": "group",
        "font": {
         "color": "#371ea3"
        },
        "height": 829,
        "hovermode": "x unified",
        "legend": {
         "font": {
          "size": 11
         },
         "itemsizing": "constant",
         "orientation": "h",
         "title": {
          "font": {
           "size": 12
          },
          "text": "label"
         },
         "tracegroupgap": 0,
         "x": 1,
         "xanchor": "right",
         "y": 1.0361881785283473,
         "yanchor": "bottom"
        },
        "margin": {
         "b": 71,
         "r": 30,
         "t": 78
        },
        "shapes": [
         {
          "layer": "below",
          "line": {
           "color": "#371ea3",
           "dash": "dot",
           "width": 1.5
          },
          "type": "line",
          "x0": 0,
          "x1": 1,
          "xref": "x domain",
          "y0": 4000.327880859375,
          "y1": 4000.327880859375,
          "yref": "y"
         },
         {
          "layer": "below",
          "line": {
           "color": "#371ea3",
           "dash": "dot",
           "width": 1.5
          },
          "type": "line",
          "x0": 0,
          "x1": 1,
          "xref": "x3 domain",
          "y0": 4000.327880859375,
          "y1": 4000.327880859375,
          "yref": "y3"
         },
         {
          "layer": "below",
          "line": {
           "color": "#371ea3",
           "dash": "dot",
           "width": 1.5
          },
          "type": "line",
          "x0": 0,
          "x1": 1,
          "xref": "x4 domain",
          "y0": 4000.327880859375,
          "y1": 4000.327880859375,
          "yref": "y4"
         },
         {
          "layer": "below",
          "line": {
           "color": "#371ea3",
           "dash": "dot",
           "width": 1.5
          },
          "type": "line",
          "x0": 0,
          "x1": 1,
          "xref": "x domain",
          "y0": 4000.327880859375,
          "y1": 4000.327880859375,
          "yref": "y"
         },
         {
          "layer": "below",
          "line": {
           "color": "#371ea3",
           "dash": "dot",
           "width": 1.5
          },
          "type": "line",
          "x0": 0,
          "x1": 1,
          "xref": "x3 domain",
          "y0": 4000.327880859375,
          "y1": 4000.327880859375,
          "yref": "y3"
         },
         {
          "layer": "below",
          "line": {
           "color": "#371ea3",
           "dash": "dot",
           "width": 1.5
          },
          "type": "line",
          "x0": 0,
          "x1": 1,
          "xref": "x4 domain",
          "y0": 4000.327880859375,
          "y1": 4000.327880859375,
          "yref": "y4"
         },
         {
          "layer": "below",
          "line": {
           "color": "#371ea3",
           "dash": "dot",
           "width": 1.5
          },
          "type": "line",
          "x0": 0,
          "x1": 1,
          "xref": "x domain",
          "y0": 4000.327880859375,
          "y1": 4000.327880859375,
          "yref": "y"
         },
         {
          "layer": "below",
          "line": {
           "color": "#371ea3",
           "dash": "dot",
           "width": 1.5
          },
          "type": "line",
          "x0": 0,
          "x1": 1,
          "xref": "x3 domain",
          "y0": 4000.327880859375,
          "y1": 4000.327880859375,
          "yref": "y3"
         },
         {
          "layer": "below",
          "line": {
           "color": "#371ea3",
           "dash": "dot",
           "width": 1.5
          },
          "type": "line",
          "x0": 0,
          "x1": 1,
          "xref": "x4 domain",
          "y0": 4000.327880859375,
          "y1": 4000.327880859375,
          "yref": "y4"
         }
        ],
        "template": {
         "data": {
          "scatter": [
           {
            "type": "scatter"
           }
          ]
         }
        },
        "title": {
         "font": {
          "size": 16
         },
         "text": "Aggregated Profiles",
         "x": 0.15
        },
        "xaxis": {
         "anchor": "y",
         "automargin": true,
         "domain": [
          0,
          0.475
         ],
         "fixedrange": true,
         "gridwidth": 2,
         "showticklabels": true,
         "tickcolor": "white",
         "ticklen": 10,
         "ticks": "outside",
         "title": {
          "text": ""
         },
         "type": "category"
        },
        "xaxis2": {
         "anchor": "y2",
         "automargin": true,
         "domain": [
          0.525,
          1
         ],
         "fixedrange": true,
         "gridwidth": 2,
         "showticklabels": true,
         "tickcolor": "white",
         "ticklen": 10,
         "ticks": "outside",
         "title": {
          "text": ""
         },
         "type": "category"
        },
        "xaxis3": {
         "anchor": "y3",
         "automargin": true,
         "domain": [
          0,
          0.475
         ],
         "fixedrange": true,
         "gridwidth": 2,
         "showticklabels": true,
         "tickcolor": "white",
         "ticklen": 10,
         "ticks": "outside",
         "title": {
          "text": ""
         },
         "type": "category"
        },
        "xaxis4": {
         "anchor": "y4",
         "automargin": true,
         "domain": [
          0.525,
          1
         ],
         "fixedrange": true,
         "gridwidth": 2,
         "showticklabels": true,
         "tickcolor": "white",
         "ticklen": 10,
         "ticks": "outside",
         "title": {
          "text": ""
         },
         "type": "category"
        },
        "yaxis": {
         "anchor": "x",
         "automargin": true,
         "domain": [
          0,
          0.425
         ],
         "fixedrange": true,
         "gridwidth": 2,
         "showticklabels": true,
         "tickcolor": "white",
         "ticklen": 3,
         "ticks": "outside",
         "title": {
          "text": ""
         },
         "type": "linear",
         "zeroline": false
        },
        "yaxis2": {
         "anchor": "x2",
         "automargin": true,
         "domain": [
          0,
          0.425
         ],
         "fixedrange": true,
         "gridwidth": 2,
         "showticklabels": true,
         "tickcolor": "white",
         "ticklen": 3,
         "ticks": "outside",
         "title": {
          "text": ""
         },
         "type": "linear",
         "zeroline": false
        },
        "yaxis3": {
         "anchor": "x3",
         "automargin": true,
         "domain": [
          0.575,
          1
         ],
         "fixedrange": true,
         "gridwidth": 2,
         "showticklabels": true,
         "tickcolor": "white",
         "ticklen": 3,
         "ticks": "outside",
         "title": {
          "text": ""
         },
         "type": "linear",
         "zeroline": false
        },
        "yaxis4": {
         "anchor": "x4",
         "automargin": true,
         "domain": [
          0.575,
          1
         ],
         "fixedrange": true,
         "gridwidth": 2,
         "showticklabels": true,
         "tickcolor": "white",
         "ticklen": 3,
         "ticks": "outside",
         "title": {
          "text": ""
         },
         "type": "linear",
         "zeroline": false
        }
       }
      }
     },
     "metadata": {},
     "output_type": "display_data"
    }
   ],
   "source": [
    "pdp_num = exp.model_profile(\n",
    "    variables=[\"carat\"], label=\"Partial depencence for numeric variables\", verbose=False\n",
    ")\n",
    "pdp_num.plot()\n",
    "\n",
    "pdp_ord = exp.model_profile(\n",
    "    variable_type=\"categorical\",\n",
    "    variable_splits=dict(zip(ord_features, ord_levels)),\n",
    "    label=\"Partial depencence for ordinal variables\",\n",
    "    verbose=False,\n",
    ")\n",
    "pdp_ord.plot(facet_scales=\"free\")"
   ]
  },
  {
   "cell_type": "markdown",
   "metadata": {},
   "source": [
    "## Exercise 2\n",
    "\n",
    "See lecture notes for a solution with embeddings"
   ]
  },
  {
   "cell_type": "markdown",
   "metadata": {},
   "source": []
  }
 ],
 "metadata": {
  "kernelspec": {
   "display_name": "Python 3.8.11 ('ml_lecture')",
   "language": "python",
   "name": "python3"
  },
  "language_info": {
   "codemirror_mode": {
    "name": "ipython",
    "version": 3
   },
   "file_extension": ".py",
   "mimetype": "text/x-python",
   "name": "python",
   "nbconvert_exporter": "python",
   "pygments_lexer": "ipython3",
   "version": "3.8.13"
  },
  "orig_nbformat": 4,
  "vscode": {
   "interpreter": {
    "hash": "da92bf8b1c4e537ce884cea261fe5226afea19e45e5e1a8d784507cf84f781ac"
   }
  }
 },
 "nbformat": 4,
 "nbformat_minor": 2
}
